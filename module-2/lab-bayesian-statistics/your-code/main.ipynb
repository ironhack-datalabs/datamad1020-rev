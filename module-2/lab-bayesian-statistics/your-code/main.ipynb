{
 "cells": [
  {
   "cell_type": "markdown",
   "metadata": {},
   "source": [
    "# Intro to Bayesian Statistics Lab\n",
    "\n",
    "Complete the following set of exercises to solidify your knowledge of Bayesian statistics and Bayesian data analysis."
   ]
  },
  {
   "cell_type": "code",
   "execution_count": 1,
   "metadata": {},
   "outputs": [],
   "source": [
    "import pandas as pd\n",
    "import numpy as np\n",
    "import matplotlib.pyplot as plt"
   ]
  },
  {
   "cell_type": "markdown",
   "metadata": {},
   "source": [
    "## 1. Cookie Problem\n",
    "\n",
    "Suppose we have two bowls of cookies. Bowl 1 contains 30 vanilla cookies and 10 chocolate cookies. Bowl 2 contains 20 of each. You randomly pick one cookie out of one of the bowls, and it is vanilla. Use Bayes Theorem to calculate the probability that the vanilla cookie you picked came from Bowl 1?"
   ]
  },
  {
   "cell_type": "markdown",
   "metadata": {},
   "source": [
    "PROBABILIDADES TOTALES:\n",
    "P(B1) = 0.5\n",
    "P(B2) = 0.5\n",
    "P(V) = 50/80 = 5/8\n",
    "P(C) = 30/80 = 3/8\n",
    "\n",
    "PROBABILIDADES NO TOTALES DEL BOWL 1:\n",
    "P(V/B1) = 30/40 = 3/4\n",
    "P(C/B1) = 10/40 = 1/4\n",
    "\n",
    "PROBABILIDADES NO TOTALES DEL BOWL 2:\n",
    "P(V/B2) = 20/ 40 = 1/2\n",
    "P(C/B2) = 20/ 40 = 1/2"
   ]
  },
  {
   "cell_type": "code",
   "execution_count": 22,
   "metadata": {},
   "outputs": [
    {
     "data": {
      "text/plain": [
       "0.009375"
      ]
     },
     "execution_count": 22,
     "metadata": {},
     "output_type": "execute_result"
    }
   ],
   "source": [
    "# LO QUE TENEMOS QUE CALCULAR ES:\n",
    "# P(V/B1) * P(B1) / P(V)\n",
    "(3/4 * 0.5) / 5/8"
   ]
  },
  {
   "cell_type": "markdown",
   "metadata": {},
   "source": [
    "What is the probability that it came from Bowl 2?"
   ]
  },
  {
   "cell_type": "code",
   "execution_count": 17,
   "metadata": {},
   "outputs": [
    {
     "data": {
      "text/plain": [
       "0.00625"
      ]
     },
     "execution_count": 17,
     "metadata": {},
     "output_type": "execute_result"
    }
   ],
   "source": [
    "# P(V/B2) * P(B2) / P(V)\n",
    "(1/2 * 0.5) / 5/8"
   ]
  },
  {
   "cell_type": "markdown",
   "metadata": {},
   "source": [
    "What if the cookie you had picked was chocolate? What are the probabilities that the chocolate cookie came from Bowl 1 and Bowl 2 respectively?"
   ]
  },
  {
   "cell_type": "code",
   "execution_count": 19,
   "metadata": {},
   "outputs": [
    {
     "data": {
      "text/plain": [
       "0.005208333333333333"
      ]
     },
     "execution_count": 19,
     "metadata": {},
     "output_type": "execute_result"
    }
   ],
   "source": [
    "# P(C/B1) * P(B1) / P(C)\n",
    "1/4 * 0.5 / 3/8"
   ]
  },
  {
   "cell_type": "code",
   "execution_count": 21,
   "metadata": {},
   "outputs": [
    {
     "data": {
      "text/plain": [
       "0.010416666666666666"
      ]
     },
     "execution_count": 21,
     "metadata": {},
     "output_type": "execute_result"
    }
   ],
   "source": [
    "# P(C/B2) * P(B2) / P(C)\n",
    "1/2 * 0.5 / 3/8"
   ]
  },
  {
   "cell_type": "markdown",
   "metadata": {},
   "source": [
    "## 2. Candy Problem\n",
    "\n",
    "Suppose you have two bags of candies:\n",
    "\n",
    "- In Bag 1, the mix of colors is:\n",
    "    - Brown - 30%\n",
    "    - Yellow - 20%\n",
    "    - Red - 20%\n",
    "    - Green - 10%\n",
    "    - Orange - 10%\n",
    "    - Tan - 10%\n",
    "    \n",
    "- In Bag 2, the mix of colors is:\n",
    "    - Blue - 24%\n",
    "    - Green - 20%\n",
    "    - Orange - 16%\n",
    "    - Yellow - 14%\n",
    "    - Red - 13%\n",
    "    - Brown - 13%\n",
    "    \n",
    "Not knowing which bag is which, you randomly draw one candy from each bag. One is yellow and one is green. What is the probability that the yellow one came from the Bag 1?\n",
    "\n",
    "*Hint: For the likelihoods, you will need to multiply the probabilities of drawing yellow from one bag and green from the other bag and vice versa.*"
   ]
  },
  {
   "cell_type": "code",
   "execution_count": null,
   "metadata": {},
   "outputs": [],
   "source": [
    "P(BAG_1) = 0.5\n",
    "P(Y/BAG_1) = 0.2\n",
    "P(Y) = 0.34\n",
    "P(G/BAG_1) = 0.1\n",
    "P(G) = 0.3"
   ]
  },
  {
   "cell_type": "code",
   "execution_count": 25,
   "metadata": {},
   "outputs": [
    {
     "data": {
      "text/plain": [
       "0.04901960784313726"
      ]
     },
     "execution_count": 25,
     "metadata": {},
     "output_type": "execute_result"
    }
   ],
   "source": [
    "# P(Y/BAG_1) * P(BAG_1) / P(Y)\n",
    "prob_Y_B1 = 0.2 * 0.5 / 0.34\n",
    "prob_G_B1 = 0.1 * 0.5 / 0.3\n",
    "prob_Y_B1 * prob_G_B1"
   ]
  },
  {
   "cell_type": "markdown",
   "metadata": {},
   "source": [
    "What is the probability that the yellow candy came from Bag 2?"
   ]
  },
  {
   "cell_type": "code",
   "execution_count": null,
   "metadata": {},
   "outputs": [],
   "source": [
    "P(BAG_2) = 0.5\n",
    "P(Y/BAG_2) = 0.14\n",
    "P(Y) = 0.34"
   ]
  },
  {
   "cell_type": "code",
   "execution_count": 26,
   "metadata": {},
   "outputs": [
    {
     "data": {
      "text/plain": [
       "0.2058823529411765"
      ]
     },
     "execution_count": 26,
     "metadata": {},
     "output_type": "execute_result"
    }
   ],
   "source": [
    "# P(Y/BAG_2) * P(BAG_2) / P(Y)\n",
    "0.14 * 0.5 / 0.34"
   ]
  },
  {
   "cell_type": "markdown",
   "metadata": {},
   "source": [
    "What are the probabilities that the green one came from Bag 1 and Bag 2 respectively?"
   ]
  },
  {
   "cell_type": "code",
   "execution_count": 28,
   "metadata": {},
   "outputs": [
    {
     "data": {
      "text/plain": [
       "0.038888888888888896"
      ]
     },
     "execution_count": 28,
     "metadata": {},
     "output_type": "execute_result"
    }
   ],
   "source": [
    "# ENTIENDO QUE ES QUE LAS DOS QUE SE SACAN SALGAN VERDES UNA DE LA BOLSA 1 Y OTRA DE LA 2\n",
    "prob_G_B1 = 0.1 * 0.5 / 0.3\n",
    "prob_G_B2 = 0.14 * 0.5 / 0.3\n",
    "prob_G_B1 * prob_G_B2"
   ]
  },
  {
   "cell_type": "markdown",
   "metadata": {},
   "source": [
    "## 3. Monty Hall Problem\n",
    "\n",
    "Suppose you are a contestant on the popular game show *Let's Make a Deal*. The host of the show (Monty Hall) presents you with three doors - Door A, Door B, and Door C. He tells you that there is a sports car behind one of them and if you choose the correct one, you win the car!\n",
    "\n",
    "You select Door A, but then Monty makes things a little more interesting. He opens Door B to reveal that there is no sports car behind it and asks you if you would like to stick with your choice of Door A or switch your choice to Door C. Given this new information, what are the probabilities of you winning the car if you stick with Door A versus if you switch to Door C?"
   ]
  },
  {
   "cell_type": "markdown",
   "metadata": {},
   "source": [
    "ESTAS SON LAS PROBABILIDADES DE DONDE PUEDE ESTAR EL COCHE ANTES DE QUE MONTLY REVELE QUE LA PUESTA B ESTÁ VACIA\n",
    "* P(A) = 1/3\n",
    "* P(B) = 1/3\n",
    "* P(C) = 1/3\n",
    "* P(GANAR) = 1/3\n",
    "* P(PERDER) = 2/3\n",
    "\n",
    "DESPUES DE QUE EL PRESENTADOR REVELE QUE EN LA PUESTA B NO HAY COCHE LAS PROBABILIDADES CAMBIAN\n",
    "* Si inicialmente has elegido la puerta incorrecta (cuya probabilidad era de 2/3) y CAMBIAS de puerta SIEMPRE vas a ganar \n",
    "* Pero si has elegido la puerta correcta inicialmente (cuya probabilidad era 1/3 , es decir menos probable que una puesta incorrecta) y cambiar de puerta pierdes.\n",
    "* Con este simple razonamiento ya estamos afimando que las probabilidades han cambiado completamente\n",
    "\n",
    "**CAMBIANDO DE PUERTA....**\n",
    "* Nuestra probabilidad ahora de GANAR EL COCHE CAMBIANDO DE PUERTA A LA C AUMENTA EN 2/3\n",
    "* Nuestra probabilidad de PERDER EL COCHE CAMBIANDO DE PUERTA A LA C DISMINUYE EN 1/3\n",
    "\n",
    "**Y NO CAMBIANDO DE PUERTA....**\n",
    "* La probabilidad de ganar es la inicial 1/3\n",
    "* Y la de perder es de 2/3"
   ]
  },
  {
   "cell_type": "markdown",
   "metadata": {},
   "source": [
    "## 4. Bayesian Analysis \n",
    "\n",
    "Suppose you work for a landscaping company, and they want to advertise their service online. They create an ad and sit back waiting for the money to roll in. On the first day, the ad sends 100 visitors to the site and 14 of them sign up for landscaping services. Create a generative model to come up with the posterior distribution and produce a visualization of what the posterior distribution would look like given the observed data."
   ]
  },
  {
   "cell_type": "markdown",
   "metadata": {},
   "source": [
    "El primer dia hay 100 visitantes y 14 se inscriben. Esto no quiere decir que la tasa de registro sea de 14/100, es decir de un 14%. Por ello tenemos que crear un modelo generativo que nos ayude averiguar la tasa de registro por esta campaña de marketing (el anuncio).\n",
    "Yo he creado uno del 0 al 100 y en teoria hay que realizar 100.000 muestras para que \"funcione\" (no se si esta bien es lo que he entendio leyendo de unos articulos por ejemplo este: https://towardsdatascience.com/bayesian-nightmare-how-to-start-loving-bayes-1622741fa960 )"
   ]
  },
  {
   "cell_type": "markdown",
   "metadata": {},
   "source": [
    "Produce a set of descriptive statistics for the posterior distribution."
   ]
  },
  {
   "cell_type": "code",
   "execution_count": 93,
   "metadata": {},
   "outputs": [
    {
     "name": "stdout",
     "output_type": "stream",
     "text": [
      "[64 94 14 99 80 41 12 37 23 13 89 29 94 26 47 88 39 94 19 22]\n"
     ]
    }
   ],
   "source": [
    "gen_model = np.random.choice(range(0, 100),\n",
    "                               size=20)\n",
    "\n",
    "print(gen_model)"
   ]
  },
  {
   "cell_type": "code",
   "execution_count": 94,
   "metadata": {},
   "outputs": [
    {
     "name": "stdout",
     "output_type": "stream",
     "text": [
      "64 --> 1\n",
      "94 --> 3\n",
      "14 --> 1\n",
      "99 --> 1\n",
      "80 --> 1\n",
      "41 --> 1\n",
      "12 --> 1\n",
      "37 --> 1\n",
      "23 --> 1\n",
      "13 --> 1\n",
      "89 --> 1\n",
      "29 --> 1\n",
      "26 --> 1\n",
      "47 --> 1\n",
      "88 --> 1\n",
      "39 --> 1\n",
      "19 --> 1\n",
      "22 --> 1\n"
     ]
    }
   ],
   "source": [
    "count_results = {x: list(gen_model).count(x) for x in gen_model}\n",
    "\n",
    "for k, v in count_results.items():\n",
    "    print(k, '-->',v)"
   ]
  },
  {
   "cell_type": "code",
   "execution_count": 95,
   "metadata": {},
   "outputs": [
    {
     "data": {
      "image/png": "[encoded data removed]",
      "text/plain": [
       "<Figure size 432x288 with 1 Axes>"
      ]
     },
     "metadata": {
      "needs_background": "light"
     },
     "output_type": "display_data"
    }
   ],
   "source": [
    "plt.bar(x=count_results.keys(),\n",
    "        height=count_results.values())\n",
    "plt.xlabel('visitors')\n",
    "plt.ylabel('sign up visitors')\n",
    "plt.show()"
   ]
  },
  {
   "cell_type": "code",
   "execution_count": 96,
   "metadata": {},
   "outputs": [
    {
     "data": {
      "image/png": "[encoded data removed]",
      "text/plain": [
       "<Figure size 432x288 with 1 Axes>"
      ]
     },
     "metadata": {
      "needs_background": "light"
     },
     "output_type": "display_data"
    }
   ],
   "source": [
    "plt.hist(gen_model, bins=6)\n",
    "plt.xlabel('visitors')\n",
    "plt.ylabel('sign up visitors')\n",
    "plt.show()"
   ]
  },
  {
   "cell_type": "markdown",
   "metadata": {},
   "source": [
    "Entonces, lo que podemos ver esque la probabibilidad de que sea un 14% el aumnetro de la tasa de registro (por día) no es cierto ya que es solamente un porcentaje y un dato unico y con ello NO podemos predecir como va a ir evolucionando los registros a partir de este anuncio porque habra dias que por unas condiciones u otras se registren más , menos u ningun usuario y por eso realizamos el modelo generativo con numero randome del 0 al 100. \n",
    "Este modelo varía cada vez vez que ejecutamos la celda pero cuando la ejecutemos 100.000 veces seguramente econtremos una grafica estable de la cual vamos a poder realizar estadísticas y previsiones futuras.\n",
    "\n",
    "(No se si lo he entendido bien o si esta bien o mal jejeje)"
   ]
  },
  {
   "cell_type": "markdown",
   "metadata": {},
   "source": [
    "What is the 90% credible interval range?"
   ]
  },
  {
   "cell_type": "code",
   "execution_count": null,
   "metadata": {},
   "outputs": [],
   "source": [
    "# Hasta llegar a cien mil muestras diferentes no hay un 90% de acierto¿?"
   ]
  },
  {
   "cell_type": "markdown",
   "metadata": {},
   "source": [
    "What is the Maximum Likelihood Estimate?"
   ]
  },
  {
   "cell_type": "code",
   "execution_count": null,
   "metadata": {},
   "outputs": [],
   "source": []
  }
 ],
 "metadata": {
  "kernelspec": {
   "display_name": "Python 3",
   "language": "python",
   "name": "python3"
  },
  "language_info": {
   "codemirror_mode": {
    "name": "ipython",
    "version": 3
   },
   "file_extension": ".py",
   "mimetype": "text/x-python",
   "name": "python",
   "nbconvert_exporter": "python",
   "pygments_lexer": "ipython3",
   "version": "3.8.3"
  }
 },
 "nbformat": 4,
 "nbformat_minor": 2
}
