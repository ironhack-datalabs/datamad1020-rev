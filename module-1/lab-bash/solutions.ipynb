{
 "cells": [
  {
   "cell_type": "markdown",
   "metadata": {},
   "source": [
    "#### Imprime en consola Hello World."
   ]
  },
  {
   "cell_type": "markdown",
   "metadata": {},
   "source": [
    "Your solution here: echo \"Hello world\"\n"
   ]
  },
  {
   "cell_type": "code",
   "execution_count": 1,
   "metadata": {},
   "outputs": [
    {
     "name": "stdout",
     "output_type": "stream",
     "text": [
      "\"Hello world\"\n"
     ]
    }
   ],
   "source": [
    "echo \"Hello world\""
   ]
  },
  {
   "cell_type": "markdown",
   "metadata": {},
   "source": [
    "#### Crea un directorio nuevo llamado new_dir."
   ]
  },
  {
   "cell_type": "markdown",
   "metadata": {},
   "source": [
    "Your solution here: mkdir new_dir.\n"
   ]
  },
  {
   "cell_type": "markdown",
   "metadata": {},
   "source": [
    "luego ponemos ls y vemos si hemos añadido correctamente el nuevo directorio"
   ]
  },
  {
   "cell_type": "markdown",
   "metadata": {},
   "source": [
    "#### Elimina ese directorio."
   ]
  },
  {
   "cell_type": "markdown",
   "metadata": {},
   "source": [
    "Your solution here: rm -r new_dir.\n"
   ]
  },
  {
   "cell_type": "markdown",
   "metadata": {},
   "source": [
    "#### Copia el archivo sed.txt dentro de la carpeta lorem a la carpeta lorem-copy"
   ]
  },
  {
   "cell_type": "markdown",
   "metadata": {},
   "source": [
    "Your solution: \n",
    "(para copiar y pegar mi archivo en otra carpeta)\n",
    "cd lorem\n",
    "cp sed.txt ../lorem-copy"
   ]
  },
  {
   "cell_type": "markdown",
   "metadata": {},
   "source": [
    "(para comprobar si lo hemos hecho bien)\n",
    "\n",
    "cd ../lorem-copy\n",
    "ls"
   ]
  },
  {
   "cell_type": "markdown",
   "metadata": {},
   "source": [
    "#### Copia los otros dos archivos de la carpeta lorem a la carpeta lorem-copy en una sola línea mediante ;."
   ]
  },
  {
   "cell_type": "markdown",
   "metadata": {},
   "source": [
    "Your solution: \n",
    "cp lorem.txt at.txt ../lorem-copy"
   ]
  },
  {
   "cell_type": "markdown",
   "metadata": {},
   "source": [
    "#### Muestra el contenido del archivo sed.txt dentro de la carpeta lorem"
   ]
  },
  {
   "cell_type": "markdown",
   "metadata": {},
   "source": [
    "Your solution: \n",
    "cd ../lorem\n",
    "cat sed.txt"
   ]
  },
  {
   "cell_type": "markdown",
   "metadata": {},
   "source": [
    "#### Muestra el contenido de los archivos at.txt y lorem.txt dentro de la carpeta lorem."
   ]
  },
  {
   "cell_type": "markdown",
   "metadata": {},
   "source": [
    "Your solution: \n",
    "cat at.txt lorem.txt"
   ]
  },
  {
   "cell_type": "markdown",
   "metadata": {},
   "source": [
    "#### Visualiza las primeras 3 líneas del archivo sed.txt dentro de la carpeta lorem-copy"
   ]
  },
  {
   "cell_type": "markdown",
   "metadata": {},
   "source": [
    "Your solution:\n",
    "cd ../lorem-copy\n",
    "head -n3 sed.txt"
   ]
  },
  {
   "cell_type": "markdown",
   "metadata": {},
   "source": [
    "#### Visualiza las ultimas 3 líneas del archivo sed.txt dentro de la carpeta lorem-copy"
   ]
  },
  {
   "cell_type": "markdown",
   "metadata": {},
   "source": [
    "Your solution: \n",
    "tail -n3 sed.txt"
   ]
  },
  {
   "cell_type": "markdown",
   "metadata": {},
   "source": [
    "#### Añade Homo homini lupus. al final de archivo sed.txt dentro de la carpeta lorem-copy."
   ]
  },
  {
   "cell_type": "markdown",
   "metadata": {},
   "source": [
    "Your solution:\n",
    "sed -i '$a Homo homini lupus.' sed.txt"
   ]
  },
  {
   "cell_type": "markdown",
   "metadata": {},
   "source": [
    "#### Visualiza las últimas 3 líneas del archivo sed.txt dentro de la carpeta lorem-copy. Deberías ver ahora Homo homini lupus.."
   ]
  },
  {
   "cell_type": "markdown",
   "metadata": {},
   "source": [
    "Your solution:\n",
    "tail -n3 sed.txt"
   ]
  },
  {
   "cell_type": "markdown",
   "metadata": {},
   "source": [
    "#### Sustituye todas las apariciones de et por ET del archivo at.txt dentro de la carpeta lorem-copy. Deberás usar sed."
   ]
  },
  {
   "cell_type": "markdown",
   "metadata": {},
   "source": [
    "Your solution:\n",
    "sed 's/et/ET/' at.txt"
   ]
  },
  {
   "cell_type": "markdown",
   "metadata": {},
   "source": [
    "#### Encuentra al usuario activo en el sistema."
   ]
  },
  {
   "cell_type": "markdown",
   "metadata": {},
   "source": [
    "primero salimos de los archivos de lab-bash y luego me busco\n",
    "cd ..\n",
    "whoami"
   ]
  },
  {
   "cell_type": "markdown",
   "metadata": {},
   "source": [
    "#### Encuentra dónde estás en tu sistema de ficheros."
   ]
  },
  {
   "cell_type": "markdown",
   "metadata": {},
   "source": [
    "pwd"
   ]
  },
  {
   "cell_type": "markdown",
   "metadata": {},
   "source": [
    "#### Lista los archivos que terminan por .txt en la carpeta lorem."
   ]
  },
  {
   "cell_type": "markdown",
   "metadata": {},
   "source": [
    "cd ../lorem\n",
    "find -name \"*.txt\"\n"
   ]
  },
  {
   "cell_type": "markdown",
   "metadata": {},
   "source": [
    "#### Cuenta el número de líneas que tiene el archivo sed.txt dentro de la carpeta lorem."
   ]
  },
  {
   "cell_type": "markdown",
   "metadata": {},
   "source": [
    "cat sed.txt | wc -l"
   ]
  },
  {
   "cell_type": "markdown",
   "metadata": {},
   "source": [
    "#### Cuenta el número de archivos que empiezan por lorem que están en este directorio y en directorios internos."
   ]
  },
  {
   "cell_type": "markdown",
   "metadata": {},
   "source": []
  },
  {
   "cell_type": "markdown",
   "metadata": {},
   "source": [
    "#### Encuentra todas las apariciones de et en at.txt dentro de la carpeta lorem."
   ]
  },
  {
   "cell_type": "markdown",
   "metadata": {},
   "source": [
    "cd lorem\n",
    "grep et at.txt"
   ]
  },
  {
   "cell_type": "markdown",
   "metadata": {},
   "source": [
    "#### Cuenta el número de apariciones del string et en at.txt dentro de la carpeta lorem."
   ]
  },
  {
   "cell_type": "markdown",
   "metadata": {},
   "source": [
    "cd lorem\n",
    "grep -o -i et at.txt | wc -l"
   ]
  },
  {
   "cell_type": "markdown",
   "metadata": {},
   "source": [
    "#### Cuenta el número de apariciones del string et en todos los archivos del directorio lorem-copy."
   ]
  },
  {
   "cell_type": "markdown",
   "metadata": {},
   "source": [
    "cd ../lorem-copy\n",
    "grep -c et *"
   ]
  }
 ],
 "metadata": {
  "kernelspec": {
   "display_name": "Python 3",
   "language": "python",
   "name": "python3"
  },
  "language_info": {
   "codemirror_mode": {
    "name": "ipython",
    "version": 3
   },
   "file_extension": ".py",
   "mimetype": "text/x-python",
   "name": "python",
   "nbconvert_exporter": "python",
   "pygments_lexer": "ipython3",
   "version": "3.8.3"
  }
 },
 "nbformat": 4,
 "nbformat_minor": 4
}
