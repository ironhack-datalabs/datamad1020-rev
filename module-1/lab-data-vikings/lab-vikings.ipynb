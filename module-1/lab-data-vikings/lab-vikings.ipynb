{
 "cells": [
  {
   "cell_type": "markdown",
   "metadata": {},
   "source": [
    "### Soldier\n"
   ]
  },
  {
   "cell_type": "code",
   "execution_count": 61,
   "metadata": {},
   "outputs": [],
   "source": [
    "class Soldier:\n",
    "    def __init__(self, health, strength):\n",
    "        self.health = health\n",
    "        self.strength = strength\n",
    "        \n",
    "    def attack(self):\n",
    "        return self.strength\n",
    "    \n",
    "    def receiveDamage(self,damage):\n",
    "        self.health = self.health - damage"
   ]
  },
  {
   "cell_type": "code",
   "execution_count": 17,
   "metadata": {},
   "outputs": [],
   "source": [
    "Romano = Soldier(60,80)"
   ]
  },
  {
   "cell_type": "code",
   "execution_count": 18,
   "metadata": {},
   "outputs": [
    {
     "data": {
      "text/plain": [
       "60"
      ]
     },
     "execution_count": 18,
     "metadata": {},
     "output_type": "execute_result"
    }
   ],
   "source": [
    "Romano.health"
   ]
  },
  {
   "cell_type": "code",
   "execution_count": 19,
   "metadata": {},
   "outputs": [
    {
     "data": {
      "text/plain": [
       "80"
      ]
     },
     "execution_count": 19,
     "metadata": {},
     "output_type": "execute_result"
    }
   ],
   "source": [
    "Soldier.attack(Romano)"
   ]
  },
  {
   "cell_type": "code",
   "execution_count": 20,
   "metadata": {},
   "outputs": [],
   "source": [
    "Romano.receiveDamage(20)"
   ]
  },
  {
   "cell_type": "code",
   "execution_count": 21,
   "metadata": {},
   "outputs": [
    {
     "data": {
      "text/plain": [
       "40"
      ]
     },
     "execution_count": 21,
     "metadata": {},
     "output_type": "execute_result"
    }
   ],
   "source": [
    "Romano.health"
   ]
  },
  {
   "cell_type": "markdown",
   "metadata": {},
   "source": [
    "### Viking"
   ]
  },
  {
   "cell_type": "code",
   "execution_count": 62,
   "metadata": {},
   "outputs": [],
   "source": [
    "class Viking (Soldier):\n",
    "    \n",
    "    def __init__ (self,name, health, strength):\n",
    "        self.name = name\n",
    "    \n",
    "        super(). __init__ (health, strength)\n",
    "        \n",
    "    def receiveDamage(self,damage):\n",
    "        self.health = self.health - damage\n",
    "        if self.health > 0:\n",
    "            return f\"{self.name} has received {damage} points of damage\"\n",
    "        else:\n",
    "            return f\"{self.name} has died in act of combat\"\n",
    "    \n",
    "    def battleCry(self):\n",
    "        return str(\"Odin Owns You All\")\n",
    "\n",
    "    "
   ]
  },
  {
   "cell_type": "code",
   "execution_count": 26,
   "metadata": {},
   "outputs": [],
   "source": [
    "Ragnar = Viking('Ragnar',80,50)"
   ]
  },
  {
   "cell_type": "code",
   "execution_count": 27,
   "metadata": {},
   "outputs": [
    {
     "data": {
      "text/plain": [
       "'Odin Owns You All'"
      ]
     },
     "execution_count": 27,
     "metadata": {},
     "output_type": "execute_result"
    }
   ],
   "source": [
    "Viking.battleCry(Ragnar)"
   ]
  },
  {
   "cell_type": "code",
   "execution_count": 28,
   "metadata": {},
   "outputs": [
    {
     "data": {
      "text/plain": [
       "80"
      ]
     },
     "execution_count": 28,
     "metadata": {},
     "output_type": "execute_result"
    }
   ],
   "source": [
    "Ragnar.health"
   ]
  },
  {
   "cell_type": "code",
   "execution_count": 29,
   "metadata": {},
   "outputs": [
    {
     "data": {
      "text/plain": [
       "50"
      ]
     },
     "execution_count": 29,
     "metadata": {},
     "output_type": "execute_result"
    }
   ],
   "source": [
    "Ragnar.attack()"
   ]
  },
  {
   "cell_type": "code",
   "execution_count": 30,
   "metadata": {},
   "outputs": [
    {
     "data": {
      "text/plain": [
       "'Ragnar has died in act of combat'"
      ]
     },
     "execution_count": 30,
     "metadata": {},
     "output_type": "execute_result"
    }
   ],
   "source": [
    "Ragnar.receiveDamage(200)\n",
    "# solo me deja ejecutar funciones llamando al padre"
   ]
  },
  {
   "cell_type": "markdown",
   "metadata": {},
   "source": [
    "### Saxon"
   ]
  },
  {
   "cell_type": "code",
   "execution_count": 31,
   "metadata": {},
   "outputs": [],
   "source": [
    "class Saxon(Soldier):\n",
    "    \n",
    "    def __int__ (self,health,strength):\n",
    "        super.__int__(health,strength)\n",
    "    \n",
    "    def receiveDamage(self,damage):\n",
    "        self.health = self.health - damage\n",
    "        if self.health > 0:\n",
    "            return f\"A Saxon has received {damage} points of damage\"\n",
    "        else:\n",
    "            return \"A Saxon has died in combat\"\n",
    "            \n",
    "            "
   ]
  },
  {
   "cell_type": "code",
   "execution_count": 32,
   "metadata": {},
   "outputs": [],
   "source": [
    "uno = Saxon(40,60)"
   ]
  },
  {
   "cell_type": "code",
   "execution_count": 33,
   "metadata": {},
   "outputs": [
    {
     "data": {
      "text/plain": [
       "40"
      ]
     },
     "execution_count": 33,
     "metadata": {},
     "output_type": "execute_result"
    }
   ],
   "source": [
    "uno.health"
   ]
  },
  {
   "cell_type": "code",
   "execution_count": 34,
   "metadata": {},
   "outputs": [
    {
     "data": {
      "text/plain": [
       "60"
      ]
     },
     "execution_count": 34,
     "metadata": {},
     "output_type": "execute_result"
    }
   ],
   "source": [
    "uno.strength"
   ]
  },
  {
   "cell_type": "code",
   "execution_count": 35,
   "metadata": {},
   "outputs": [
    {
     "data": {
      "text/plain": [
       "60"
      ]
     },
     "execution_count": 35,
     "metadata": {},
     "output_type": "execute_result"
    }
   ],
   "source": [
    "uno.attack()"
   ]
  },
  {
   "cell_type": "code",
   "execution_count": 36,
   "metadata": {},
   "outputs": [
    {
     "data": {
      "text/plain": [
       "'A Saxon has received 20 points of damage'"
      ]
     },
     "execution_count": 36,
     "metadata": {},
     "output_type": "execute_result"
    }
   ],
   "source": [
    "uno.receiveDamage(20)"
   ]
  },
  {
   "cell_type": "markdown",
   "metadata": {},
   "source": [
    "### War\n"
   ]
  },
  {
   "cell_type": "code",
   "execution_count": 5,
   "metadata": {},
   "outputs": [],
   "source": [
    "import random\n",
    "\n",
    "class War:\n",
    "    \n",
    "    def __init__ (self):\n",
    "    \n",
    "        self.vikingArmy = []\n",
    "        self.saxonArmy = []\n",
    "    \n",
    "    def addViking(self,Viking):\n",
    "        \n",
    "        self.vikingArmy.append(Viking)\n",
    "\n",
    "    def addSaxon(self,Saxon):\n",
    "        \n",
    "        self.saxonArmy.append(Saxon)\n",
    "        \n",
    "    def vikingAttack(self):\n",
    "        \n",
    "        saxon = random.choice(self.saxonArmy)\n",
    "        \n",
    "        viking = random.choice(self.vikingArmy)\n",
    "        \n",
    "        result = saxon.receiveDamage(viking.attack())\n",
    "        \n",
    "        if result == \"A saxon has died in combat\":\n",
    "            \n",
    "            self.saxonArmy.remove(saxon)\n",
    "        \n",
    "        return result\n",
    "\n",
    "    \n",
    "        \n",
    "    def saxonAttack(self):\n",
    "        \n",
    "        saxon = random.choice(self.saxonArmy)\n",
    "        \n",
    "        viking = random.choice(self.vikingArmy)\n",
    "        \n",
    "        result = viking.receiveDamage(saxon.attack())\n",
    "            \n",
    "        if result == f\"{viking.name} has dies in act of combat\":\n",
    "        \n",
    "             self.vikingArmy.remove(viking)\n",
    "            \n",
    "        return result\n",
    "            \n",
    "       \n",
    "        \n",
    "    def showStatus(self):\n",
    "        \n",
    "        if not self.saxonArmy:\n",
    "            \n",
    "            return \"Vikings have won the war of the century!\"\n",
    "        \n",
    "        elif not self.vikingArmy:\n",
    "            \n",
    "            return \"Saxons have fought for their lives and survive another day...\"\n",
    "        \n",
    "        else: \n",
    "            \n",
    "            return \"Vikings and Saxons are still in the thick of battle.\"\n",
    "            "
   ]
  },
  {
   "cell_type": "code",
   "execution_count": null,
   "metadata": {},
   "outputs": [],
   "source": []
  }
 ],
 "metadata": {
  "kernelspec": {
   "display_name": "Python 3",
   "language": "python",
   "name": "python3"
  },
  "language_info": {
   "codemirror_mode": {
    "name": "ipython",
    "version": 3
   },
   "file_extension": ".py",
   "mimetype": "text/x-python",
   "name": "python",
   "nbconvert_exporter": "python",
   "pygments_lexer": "ipython3",
   "version": "3.8.3"
  }
 },
 "nbformat": 4,
 "nbformat_minor": 4
}
