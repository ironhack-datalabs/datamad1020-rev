{
 "cells": [
  {
   "cell_type": "markdown",
   "metadata": {},
   "source": [
    "#1. Import the NUMPY package under the name np."
   ]
  },
  {
   "cell_type": "code",
   "execution_count": 2,
   "metadata": {},
   "outputs": [],
   "source": [
    "import numpy as np"
   ]
  },
  {
   "cell_type": "markdown",
   "metadata": {},
   "source": [
    "#2. Print the NUMPY version and the configuration."
   ]
  },
  {
   "cell_type": "code",
   "execution_count": 3,
   "metadata": {},
   "outputs": [
    {
     "name": "stdout",
     "output_type": "stream",
     "text": [
      "1.18.5\n"
     ]
    }
   ],
   "source": [
    "print(np.__version__)"
   ]
  },
  {
   "cell_type": "markdown",
   "metadata": {},
   "source": [
    "#3. Generate a 2x3x5 3-dimensional array with random values. Assign the array to variable \"a\"\n",
    "#Challenge: there are at least three easy ways that use numpy to generate random arrays. How many ways can you find?"
   ]
  },
  {
   "cell_type": "code",
   "execution_count": 3,
   "metadata": {},
   "outputs": [],
   "source": [
    "a = np.random.rand(2,3,5)"
   ]
  },
  {
   "cell_type": "markdown",
   "metadata": {},
   "source": [
    "#Print a."
   ]
  },
  {
   "cell_type": "code",
   "execution_count": 4,
   "metadata": {},
   "outputs": [
    {
     "data": {
      "text/plain": [
       "array([[[0.90081997, 0.46807097, 0.77528134, 0.03885766, 0.46713608],\n",
       "        [0.90987673, 0.97574674, 0.55184991, 0.79683851, 0.04760039],\n",
       "        [0.19448275, 0.56113814, 0.13305087, 0.84865761, 0.7372354 ]],\n",
       "\n",
       "       [[0.46814698, 0.21262668, 0.75606276, 0.86146978, 0.07087391],\n",
       "        [0.5907777 , 0.58058969, 0.65081393, 0.46283603, 0.37924371],\n",
       "        [0.34529541, 0.10025254, 0.63516303, 0.26639079, 0.04382969]]])"
      ]
     },
     "execution_count": 4,
     "metadata": {},
     "output_type": "execute_result"
    }
   ],
   "source": [
    "a"
   ]
  },
  {
   "cell_type": "markdown",
   "metadata": {},
   "source": [
    "#5. Create a 5x2x3 3-dimensional array with all values equaling 1.\n",
    "#Assign the array to variable \"b\""
   ]
  },
  {
   "cell_type": "code",
   "execution_count": 5,
   "metadata": {},
   "outputs": [],
   "source": [
    "b = np.ones((5,2,3),dtype = int)"
   ]
  },
  {
   "cell_type": "markdown",
   "metadata": {},
   "source": [
    "#6. Print b."
   ]
  },
  {
   "cell_type": "code",
   "execution_count": 6,
   "metadata": {},
   "outputs": [
    {
     "name": "stdout",
     "output_type": "stream",
     "text": [
      "[[[1 1 1]\n",
      "  [1 1 1]]\n",
      "\n",
      " [[1 1 1]\n",
      "  [1 1 1]]\n",
      "\n",
      " [[1 1 1]\n",
      "  [1 1 1]]\n",
      "\n",
      " [[1 1 1]\n",
      "  [1 1 1]]\n",
      "\n",
      " [[1 1 1]\n",
      "  [1 1 1]]]\n"
     ]
    }
   ],
   "source": [
    "print(b)"
   ]
  },
  {
   "cell_type": "markdown",
   "metadata": {},
   "source": [
    "#7. Do a and b have the same size? How do you prove that in Python code?"
   ]
  },
  {
   "cell_type": "code",
   "execution_count": 7,
   "metadata": {},
   "outputs": [
    {
     "data": {
      "text/plain": [
       "True"
      ]
     },
     "execution_count": 7,
     "metadata": {},
     "output_type": "execute_result"
    }
   ],
   "source": [
    "a.size == b.size"
   ]
  },
  {
   "cell_type": "markdown",
   "metadata": {},
   "source": [
    "#8. Are you able to add a and b? Why or why not?"
   ]
  },
  {
   "cell_type": "code",
   "execution_count": null,
   "metadata": {},
   "outputs": [],
   "source": [
    "a + b"
   ]
  },
  {
   "cell_type": "markdown",
   "metadata": {},
   "source": [
    "No puedo sumar los arrays porque por mucho que tengan el mismo tamaño (mismo número de elementos), la estructura que tienen es distinta, es decir, que el número de filas y columnas no es el mismo (no sé como llamar al tercer rango). Esto impide sumar los arrays, porque no puedes sumar 2 filas de 'a' a 5 de 'b' ya que tres filas de 'b' se quedarían sin sumar. Lo mismo sucedería con en el resto de los parámetros. "
   ]
  },
  {
   "cell_type": "markdown",
   "metadata": {},
   "source": [
    "#9. Transpose b so that it has the same structure of a (i.e. become a 2x3x5 array). Assign the transposed array to varialbe \"c\"."
   ]
  },
  {
   "cell_type": "code",
   "execution_count": 9,
   "metadata": {},
   "outputs": [],
   "source": [
    "c = b.transpose()"
   ]
  },
  {
   "cell_type": "code",
   "execution_count": 10,
   "metadata": {},
   "outputs": [
    {
     "name": "stdout",
     "output_type": "stream",
     "text": [
      "[[[1 1 1 1 1]\n",
      "  [1 1 1 1 1]]\n",
      "\n",
      " [[1 1 1 1 1]\n",
      "  [1 1 1 1 1]]\n",
      "\n",
      " [[1 1 1 1 1]\n",
      "  [1 1 1 1 1]]]\n"
     ]
    }
   ],
   "source": [
    "print(c)"
   ]
  },
  {
   "cell_type": "code",
   "execution_count": 11,
   "metadata": {},
   "outputs": [
    {
     "data": {
      "text/plain": [
       "(3, 2, 5)"
      ]
     },
     "execution_count": 11,
     "metadata": {},
     "output_type": "execute_result"
    }
   ],
   "source": [
    "c.shape"
   ]
  },
  {
   "cell_type": "markdown",
   "metadata": {},
   "source": [
    "#10. Try to add a and c. Now it should work. Assign the sum to varialbe \"d\". But why does it work now?"
   ]
  },
  {
   "cell_type": "code",
   "execution_count": 12,
   "metadata": {},
   "outputs": [],
   "source": [
    "a = a.reshape(3,2,5)"
   ]
  },
  {
   "cell_type": "code",
   "execution_count": 13,
   "metadata": {},
   "outputs": [
    {
     "name": "stdout",
     "output_type": "stream",
     "text": [
      "[[[0.90081997 0.46807097 0.77528134 0.03885766 0.46713608]\n",
      "  [0.90987673 0.97574674 0.55184991 0.79683851 0.04760039]]\n",
      "\n",
      " [[0.19448275 0.56113814 0.13305087 0.84865761 0.7372354 ]\n",
      "  [0.46814698 0.21262668 0.75606276 0.86146978 0.07087391]]\n",
      "\n",
      " [[0.5907777  0.58058969 0.65081393 0.46283603 0.37924371]\n",
      "  [0.34529541 0.10025254 0.63516303 0.26639079 0.04382969]]]\n"
     ]
    }
   ],
   "source": [
    "print(a)"
   ]
  },
  {
   "cell_type": "code",
   "execution_count": 81,
   "metadata": {},
   "outputs": [],
   "source": [
    "d = a + c"
   ]
  },
  {
   "cell_type": "code",
   "execution_count": 15,
   "metadata": {},
   "outputs": [
    {
     "data": {
      "text/plain": [
       "(3, 2, 5)"
      ]
     },
     "execution_count": 15,
     "metadata": {},
     "output_type": "execute_result"
    }
   ],
   "source": [
    "d.shape"
   ]
  },
  {
   "cell_type": "markdown",
   "metadata": {},
   "source": [
    "#11. Print a and d. Notice the difference and relation of the two array in terms of the values? Explain."
   ]
  },
  {
   "cell_type": "code",
   "execution_count": 16,
   "metadata": {},
   "outputs": [
    {
     "name": "stdout",
     "output_type": "stream",
     "text": [
      "[[[0.90081997 0.46807097 0.77528134 0.03885766 0.46713608]\n",
      "  [0.90987673 0.97574674 0.55184991 0.79683851 0.04760039]]\n",
      "\n",
      " [[0.19448275 0.56113814 0.13305087 0.84865761 0.7372354 ]\n",
      "  [0.46814698 0.21262668 0.75606276 0.86146978 0.07087391]]\n",
      "\n",
      " [[0.5907777  0.58058969 0.65081393 0.46283603 0.37924371]\n",
      "  [0.34529541 0.10025254 0.63516303 0.26639079 0.04382969]]]\n"
     ]
    }
   ],
   "source": [
    "print(a)"
   ]
  },
  {
   "cell_type": "code",
   "execution_count": 39,
   "metadata": {},
   "outputs": [
    {
     "name": "stdout",
     "output_type": "stream",
     "text": [
      "[[[1.90081997 1.46807097 1.77528134 1.03885766 1.46713608]\n",
      "  [1.90987673 1.97574674 1.55184991 1.79683851 1.04760039]]\n",
      "\n",
      " [[1.19448275 1.56113814 1.13305087 1.84865761 1.7372354 ]\n",
      "  [1.46814698 1.21262668 1.75606276 1.86146978 1.07087391]]\n",
      "\n",
      " [[1.5907777  1.58058969 1.65081393 1.46283603 1.37924371]\n",
      "  [1.34529541 1.10025254 1.63516303 1.26639079 1.04382969]]]\n"
     ]
    }
   ],
   "source": [
    "print(d)"
   ]
  },
  {
   "cell_type": "markdown",
   "metadata": {},
   "source": []
  },
  {
   "cell_type": "markdown",
   "metadata": {},
   "source": [
    "La principal diferencia es que se ha sumado 1 a todos los elementos de a. Ahora que tienen misma dimensión y misma estructura es posible hacer operaciones con los arrays, lo contrario a lo que pasaba con a y c"
   ]
  },
  {
   "cell_type": "markdown",
   "metadata": {},
   "source": [
    "#12. Multiply a and c. Assign the result to e."
   ]
  },
  {
   "cell_type": "code",
   "execution_count": 18,
   "metadata": {},
   "outputs": [],
   "source": [
    "e = a*c"
   ]
  },
  {
   "cell_type": "markdown",
   "metadata": {},
   "source": [
    "#13. Does e equal to a? Why or why not?"
   ]
  },
  {
   "cell_type": "code",
   "execution_count": 19,
   "metadata": {},
   "outputs": [
    {
     "name": "stdout",
     "output_type": "stream",
     "text": [
      "[[[0.90081997 0.46807097 0.77528134 0.03885766 0.46713608]\n",
      "  [0.90987673 0.97574674 0.55184991 0.79683851 0.04760039]]\n",
      "\n",
      " [[0.19448275 0.56113814 0.13305087 0.84865761 0.7372354 ]\n",
      "  [0.46814698 0.21262668 0.75606276 0.86146978 0.07087391]]\n",
      "\n",
      " [[0.5907777  0.58058969 0.65081393 0.46283603 0.37924371]\n",
      "  [0.34529541 0.10025254 0.63516303 0.26639079 0.04382969]]]\n"
     ]
    }
   ],
   "source": [
    "print(e)"
   ]
  },
  {
   "cell_type": "markdown",
   "metadata": {},
   "source": [
    "'e' es igual a 'a' porque cada 1 en 'c' está multiplicando su respectivo elemento en 'a', de tal forma que el resultado es una matriz con los mismos elementos que la original"
   ]
  },
  {
   "cell_type": "markdown",
   "metadata": {},
   "source": [
    "#14. Identify the max, min, and mean values in d. Assign those values to variables \"d_max\", \"d_min\", and \"d_mean\""
   ]
  },
  {
   "cell_type": "code",
   "execution_count": 20,
   "metadata": {},
   "outputs": [],
   "source": [
    "d_max = np.max(d)\n",
    "d_min = np.min(d)\n",
    "d_mean = np.mean(d)"
   ]
  },
  {
   "cell_type": "code",
   "execution_count": 21,
   "metadata": {},
   "outputs": [
    {
     "name": "stdout",
     "output_type": "stream",
     "text": [
      "1.9757467382253169\n",
      "1.0388576619676368\n",
      "1.494367190183204\n"
     ]
    }
   ],
   "source": [
    "print(d_max)\n",
    "print(d_min)\n",
    "print(d_mean)"
   ]
  },
  {
   "cell_type": "markdown",
   "metadata": {},
   "source": [
    "#15. Now we want to label the values in d. First create an empty array \"f\" with the same shape (i.e. 2x3x5) as d using `np.empty`."
   ]
  },
  {
   "cell_type": "code",
   "execution_count": 44,
   "metadata": {},
   "outputs": [],
   "source": [
    "f = np.empty((2,3,5),dtype= float)"
   ]
  },
  {
   "cell_type": "markdown",
   "metadata": {},
   "source": [
    "#16. Populate the values in f. For each value in d, if it's larger than d_min but smaller than d_mean, assign 25 to the corresponding value in f.\n",
    "If a value in d is larger than d_mean but smaller than d_max, assign 75 to the corresponding value in f.\n",
    "If a value equals to d_mean, assign 50 to the corresponding value in f.\n",
    "Assign 0 to the corresponding value(s) in f for d_min in d.\n",
    "Assign 100 to the corresponding value(s) in f for d_max in d.\n",
    "In the end, f should have only the following values: 0, 25, 50, 75, and 100.\n",
    "Note: you don't have to use Numpy in this question."
   ]
  },
  {
   "cell_type": "code",
   "execution_count": 105,
   "metadata": {},
   "outputs": [],
   "source": [
    "r = [z for x in d for y in x for z in y ]"
   ]
  },
  {
   "cell_type": "code",
   "execution_count": 82,
   "metadata": {},
   "outputs": [],
   "source": [
    "s = [z for x in f for y in x for z in y]"
   ]
  },
  {
   "cell_type": "code",
   "execution_count": 37,
   "metadata": {},
   "outputs": [
    {
     "data": {
      "text/plain": [
       "array([[[1.90081997, 1.46807097, 1.77528134, 1.03885766, 1.46713608],\n",
       "        [1.90987673, 1.97574674, 1.55184991, 1.79683851, 1.04760039],\n",
       "        [1.19448275, 1.56113814, 1.13305087, 1.84865761, 1.7372354 ]],\n",
       "\n",
       "       [[1.46814698, 1.21262668, 1.75606276, 1.86146978, 1.07087391],\n",
       "        [1.5907777 , 1.58058969, 1.65081393, 1.46283603, 1.37924371],\n",
       "        [1.34529541, 1.10025254, 1.63516303, 1.26639079, 1.04382969]]])"
      ]
     },
     "execution_count": 37,
     "metadata": {},
     "output_type": "execute_result"
    }
   ],
   "source": [
    "d.reshape(2,3,5)"
   ]
  },
  {
   "cell_type": "code",
   "execution_count": 69,
   "metadata": {},
   "outputs": [],
   "source": [
    "r=[]\n",
    "\n",
    "for column in d:\n",
    "        for row in column:\n",
    "            for i in row: \n",
    "                if  d_min<i<d_mean:\n",
    "                    i = 25\n",
    "                elif d_mean<i< d_max:\n",
    "                    i = 75\n",
    "                elif i == d_min:\n",
    "                    i = 0\n",
    "                elif i == d_mean:\n",
    "                    i = 50\n",
    "                elif i == d_max:\n",
    "                    i = 100\n",
    "                np.array(r.append(i))"
   ]
  },
  {
   "cell_type": "code",
   "execution_count": 70,
   "metadata": {},
   "outputs": [],
   "source": [
    "s = np.array(r)"
   ]
  },
  {
   "cell_type": "code",
   "execution_count": 126,
   "metadata": {},
   "outputs": [
    {
     "name": "stdout",
     "output_type": "stream",
     "text": [
      "[[[ 74  25  74   0  25]\n",
      "  [ 74 100  74  74  25]\n",
      "  [ 25  75  25  75  75]]\n",
      "\n",
      " [[ 25  74  75  74  74]\n",
      "  [ 75  75  75  25  25]\n",
      "  [ 25  25  75  25  25]]]\n"
     ]
    }
   ],
   "source": [
    "f = s.reshape(2,3,5)\n",
    "\n",
    "print(f)"
   ]
  },
  {
   "cell_type": "code",
   "execution_count": 116,
   "metadata": {},
   "outputs": [],
   "source": [
    "for i in d:\n",
    "    \n",
    "    for j in i:\n",
    "        \n",
    "        for k in j:\n",
    "            \n",
    "            if  k > d_min and k < d_mean:      \n",
    "                k = 25\n",
    "            elif d_mean<k< d_max:\n",
    "                k = 75\n",
    "            elif k == d_min:\n",
    "                k = 0\n",
    "            elif k == d_mean:\n",
    "                k = 50\n",
    "            elif k == d_max:\n",
    "                k = 100"
   ]
  },
  {
   "cell_type": "code",
   "execution_count": 123,
   "metadata": {},
   "outputs": [
    {
     "name": "stdout",
     "output_type": "stream",
     "text": [
      "[[[ 74  25  74   0  25]\n",
      "  [ 74 100  74  74  25]\n",
      "  [ 25  75  25  75  75]]\n",
      "\n",
      " [[ 25  74  75  74  74]\n",
      "  [ 75  75  75  25  25]\n",
      "  [ 25  25  75  25  25]]]\n"
     ]
    }
   ],
   "source": [
    "print(f)"
   ]
  },
  {
   "cell_type": "markdown",
   "metadata": {},
   "source": [
    "#18. Bonus question: instead of using numbers (i.e. 0, 25, 50, 75, and 100), how to use string values \n",
    "(\"A\", \"B\", \"C\", \"D\", and \"E\") to label the array elements? You are expecting the result to be:"
   ]
  },
  {
   "cell_type": "code",
   "execution_count": 287,
   "metadata": {},
   "outputs": [],
   "source": [
    "l = np.array(k)"
   ]
  },
  {
   "cell_type": "code",
   "execution_count": 288,
   "metadata": {},
   "outputs": [],
   "source": [
    "w = l.reshape(2,3,5)"
   ]
  },
  {
   "cell_type": "code",
   "execution_count": 289,
   "metadata": {},
   "outputs": [
    {
     "name": "stdout",
     "output_type": "stream",
     "text": [
      "[[['A' 'A' 'B' 'B' 'B']\n",
      "  ['B' 'B' 'B' 'B' 'B']\n",
      "  ['B' 'B' 'A' 'A' 'E']]\n",
      "\n",
      " [['B' 'B' 'B' 'A' 'A']\n",
      "  ['C' 'A' 'A' 'B' 'A']\n",
      "  ['A' 'B' 'A' 'A' 'A']]]\n"
     ]
    }
   ],
   "source": [
    "print(w)"
   ]
  },
  {
   "cell_type": "code",
   "execution_count": null,
   "metadata": {},
   "outputs": [],
   "source": []
  }
 ],
 "metadata": {
  "kernelspec": {
   "display_name": "Python 3",
   "language": "python",
   "name": "python3"
  },
  "language_info": {
   "codemirror_mode": {
    "name": "ipython",
    "version": 3
   },
   "file_extension": ".py",
   "mimetype": "text/x-python",
   "name": "python",
   "nbconvert_exporter": "python",
   "pygments_lexer": "ipython3",
   "version": "3.8.3"
  }
 },
 "nbformat": 4,
 "nbformat_minor": 4
}
