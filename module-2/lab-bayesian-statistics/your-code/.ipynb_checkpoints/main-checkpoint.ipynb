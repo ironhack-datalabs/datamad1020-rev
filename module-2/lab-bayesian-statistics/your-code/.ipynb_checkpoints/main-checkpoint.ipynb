{
 "cells": [
  {
   "cell_type": "markdown",
   "metadata": {},
   "source": [
    "# Intro to Bayesian Statistics Lab\n",
    "\n",
    "Complete the following set of exercises to solidify your knowledge of Bayesian statistics and Bayesian data analysis."
   ]
  },
  {
   "cell_type": "code",
   "execution_count": 2,
   "metadata": {},
   "outputs": [],
   "source": [
    "import pandas as pd\n",
    "import numpy as np\n",
    "import matplotlib.pyplot as plt\n",
    "import random"
   ]
  },
  {
   "cell_type": "markdown",
   "metadata": {},
   "source": [
    "## 1. Cookie Problem\n",
    "\n",
    "Suppose we have two bowls of cookies. Bowl 1 contains 30 vanilla cookies and 10 chocolate cookies. Bowl 2 contains 20 of each. You randomly pick one cookie out of one of the bowls, and it is vanilla. Use Bayes Theorem to calculate the probability that the vanilla cookie you picked came from Bowl 1?"
   ]
  },
  {
   "cell_type": "markdown",
   "metadata": {},
   "source": [
    "$$P(B1|V)=\\frac {P(B1)*P(V|B1)}{P(V)}$$"
   ]
  },
  {
   "cell_type": "markdown",
   "metadata": {},
   "source": [
    "$$P(B1|V)=\\frac {1/2*3/4}{5/8}$$"
   ]
  },
  {
   "cell_type": "code",
   "execution_count": 97,
   "metadata": {},
   "outputs": [
    {
     "data": {
      "text/plain": [
       "0.6"
      ]
     },
     "execution_count": 97,
     "metadata": {},
     "output_type": "execute_result"
    }
   ],
   "source": [
    "(0.5*(3/4))/(5/8)"
   ]
  },
  {
   "cell_type": "markdown",
   "metadata": {},
   "source": [
    "What is the probability that it came from Bowl 2?"
   ]
  },
  {
   "cell_type": "markdown",
   "metadata": {},
   "source": [
    "$$P(B2|V)=\\frac {1/2*1/2}{5/8}$$"
   ]
  },
  {
   "cell_type": "code",
   "execution_count": 98,
   "metadata": {},
   "outputs": [
    {
     "data": {
      "text/plain": [
       "0.4"
      ]
     },
     "execution_count": 98,
     "metadata": {},
     "output_type": "execute_result"
    }
   ],
   "source": [
    "(0.5*(1/2))/(5/8)"
   ]
  },
  {
   "cell_type": "markdown",
   "metadata": {},
   "source": [
    "What if the cookie you had picked was chocolate? What are the probabilities that the chocolate cookie came from Bowl 1 and Bowl 2 respectively?"
   ]
  },
  {
   "cell_type": "markdown",
   "metadata": {},
   "source": [
    "$$P(B1|C)=\\frac {1/2*1/4}{3/8}$$        "
   ]
  },
  {
   "cell_type": "markdown",
   "metadata": {},
   "source": [
    "$$P(B1|C)=\\frac {1/2*1/2}{3/8}$$        "
   ]
  },
  {
   "cell_type": "code",
   "execution_count": 104,
   "metadata": {},
   "outputs": [
    {
     "name": "stdout",
     "output_type": "stream",
     "text": [
      "P de C en B1 0.33 y P de C en B2 0.67\n"
     ]
    }
   ],
   "source": [
    "print(f'P de C en B1 {round((0.5*(1/4))/(3/8),2)} y P de C en B2 {round((0.5*(1/2))/(3/8),2)}')"
   ]
  },
  {
   "cell_type": "markdown",
   "metadata": {},
   "source": [
    "## 2. Candy Problem\n",
    "\n",
    "Suppose you have two bags of candies:\n",
    "\n",
    "- In Bag 1, the mix of colors is:\n",
    "    - Brown - 30%\n",
    "    - Yellow - 20%\n",
    "    - Red - 20%\n",
    "    - Green - 10%\n",
    "    - Orange - 10%\n",
    "    - Tan - 10%\n",
    "    \n",
    "- In Bag 2, the mix of colors is:\n",
    "    - Blue - 24%\n",
    "    - Green - 20%\n",
    "    - Orange - 16%\n",
    "    - Yellow - 14%\n",
    "    - Red - 13%\n",
    "    - Brown - 13%\n",
    "    \n",
    "Not knowing which bag is which, you randomly draw one candy from each bag. One is yellow and one is green. What is the probability that the yellow one came from the Bag 1?\n",
    "\n",
    "*Hint: For the likelihoods, you will need to multiply the probabilities of drawing yellow from one bag and green from the other bag and vice versa.*"
   ]
  },
  {
   "cell_type": "markdown",
   "metadata": {},
   "source": [
    "Hipotesis A (saco caramelo amarillo de la bolsa 1)\n",
    "\n",
    "$P(B1)=$ probabilidad de escojer una bolsa \\\n",
    "$P(B1)= 1/2$ \\\n",
    "$P(B1|Y)=$ probabilidad de escojer caramelo amarillo en Bolsa 1 y por ende el verde de la bolsa 2 \\\n",
    "$P(B1|Y)=$ 0,2  y  0,2 \\\n",
    "$P(B1) * P(B1|Y)=$ multiplicacion \\\n",
    "$P(B1) * P(B1|Y)= 0,02$ \\\n",
    "\\\n",
    "Hipotesis A (saco caramelo amarillo de la bolsa 2) \\\n",
    "\\\n",
    "$P(B2)=$ probabilidad de escojer una bolsa \\\n",
    "$P(B2)= 1/2$ \\\n",
    "$P(B2|Y)=$ probabilidad de escojer caramelo amarillo en Bolsa 2 y por ende el verde de la bolsa 1 \\\n",
    "$P(B2|Y)=$ 0,14  y  0,1 \\\n",
    "$P(B2) * P(B2|Y)=$ multiplicacion \\\n",
    "$P(B2) * P(B2|Y)= 0,007$\n",
    "\n",
    "\n",
    "$P(B1) * P(B1|Y)+(P(B2) * P(B2|Y)) = 0,02 + 0,0007$ \\\n",
    "$P(B1) * P(B1|Y)+(P(B2) * P(B2|Y)) = 0,027$"
   ]
  },
  {
   "cell_type": "markdown",
   "metadata": {},
   "source": [
    "Segun lo anterior la probabilidad de que ocurra la hipotesis 1 seria:"
   ]
  },
  {
   "cell_type": "code",
   "execution_count": 107,
   "metadata": {},
   "outputs": [
    {
     "name": "stdout",
     "output_type": "stream",
     "text": [
      "0.74\n"
     ]
    }
   ],
   "source": [
    "print(round((0.02/0.027),2))"
   ]
  },
  {
   "cell_type": "markdown",
   "metadata": {},
   "source": [
    "What is the probability that the yellow candy came from Bag 2? esto seria la hipotesis 2"
   ]
  },
  {
   "cell_type": "code",
   "execution_count": 108,
   "metadata": {},
   "outputs": [
    {
     "name": "stdout",
     "output_type": "stream",
     "text": [
      "0.26\n"
     ]
    }
   ],
   "source": [
    "print(round((0.007/0.027),2))"
   ]
  },
  {
   "cell_type": "markdown",
   "metadata": {},
   "source": [
    "What are the probabilities that the green one came from Bag 1 and Bag 2 respectively?"
   ]
  },
  {
   "cell_type": "markdown",
   "metadata": {},
   "source": [
    "para estos caso seria los casos invresos es decir sacar el caramelo verde de la bolsa 1 correponde a la hipotesis 2 por ende la probabilidad seria del 26% y el caso 2 corresponde a la hipotesis 1 por lo tanto la probabilidad seria 74%"
   ]
  },
  {
   "cell_type": "markdown",
   "metadata": {},
   "source": [
    "## 3. Monty Hall Problem\n",
    "\n",
    "Suppose you are a contestant on the popular game show *Let's Make a Deal*. The host of the show (Monty Hall) presents you with three doors - Door A, Door B, and Door C. He tells you that there is a sports car behind one of them and if you choose the correct one, you win the car!\n",
    "\n",
    "You select Door A, but then Monty makes things a little more interesting. He opens Door B to reveal that there is no sports car behind it and asks you if you would like to stick with your choice of Door A or switch your choice to Door C. Given this new information, what are the probabilities of you winning the car if you stick with Door A versus if you switch to Door C?"
   ]
  },
  {
   "cell_type": "markdown",
   "metadata": {},
   "source": [
    "Simpre se escoje la puerta 1\n",
    "Hipotesis A (el carro esta en la pauerta 1)\n",
    "\n",
    "$P(B1)=$ probabilidad de escojer una puerta \\\n",
    "$P(B1)= 1/3$ \\\n",
    "$P(D|B1)=$ probabilidad de que el presentador abra la puerta 2 sabiendo que el carro esta en la puerta 1 \\\n",
    "$P(D|B1)= 1/2$ \\\n",
    "$P(B1) * P(D|B1)=$ multiplicacion \\\n",
    "$P(B1) * P(D|B1)= 1/6$ \\\n",
    "\\\n",
    "Hipotesis A (el carro esta en la pauerta 2) \\\n",
    "\\\n",
    "$P(B2)=$ probabilidad de escojer una puerta \\\n",
    "$P(B2)= 1/3$ \\\n",
    "$P(D|B2)=$ probabilidad de que el presentador abra la puerta 2 sabiendo que el carro esta en la puerta 2  \\\n",
    "$P(D|B2)= 0$\\\n",
    "$P(B2) * P(B2|Y)=$ multiplicacion \\\n",
    "$P(B2) * P(B2|Y)= 0$ \\\n",
    "\\\n",
    "Hipotesis A (el carro esta en la pauerta 3) \\\n",
    "\\\n",
    "$P(B3)=$ probabilidad de escojer una puerta \\\n",
    "$P(B3)= 1/3$ \\\n",
    "$P(D|B3)=$ probabilidad de que el presentador abra la puerta 2 sabiendo que el carro esta en la puerta 3  \\\n",
    "$P(D|B3)= 1$ \\\n",
    "$P(B3) * P(D|B3)=$ multiplicacion \\\n",
    "$P(B3) * P(D|B3)= 1/3$\n",
    "\n",
    "\n",
    "$P(B1) * P(B1|Y)+(P(B2) * P(B2|Y)) = 1/6 + 0 + 1/3$ \\\n",
    "$P(B1) * P(B1|Y)+(P(B2) * P(B2|Y)) = 1/2$"
   ]
  },
  {
   "cell_type": "code",
   "execution_count": 115,
   "metadata": {},
   "outputs": [
    {
     "name": "stdout",
     "output_type": "stream",
     "text": [
      "probabilidada de la hipotesis A 0.33\n",
      "probabilidada de la hipotesis B 0.0\n",
      "probabilidada de la hipotesis C 0.67\n"
     ]
    }
   ],
   "source": [
    "print(f'probabilidada de la hipotesis A {round(((1/6)/(1/2)),2)}')\n",
    "print(f'probabilidada de la hipotesis B {round(((0)/(1/2)),2)}')\n",
    "print(f'probabilidada de la hipotesis C {round(((1/3)/(1/2)),2)}')"
   ]
  },
  {
   "cell_type": "markdown",
   "metadata": {},
   "source": [
    "Si nunca se cambia la opcion de la puerta la probabilidad sera siempre de 0,33 pero al cambiar de opcion en el segundo intento se aumenta la probabilidad a 0,67"
   ]
  },
  {
   "cell_type": "markdown",
   "metadata": {},
   "source": [
    "## 4. Bayesian Analysis \n",
    "\n",
    "Suppose you work for a landscaping company, and they want to advertise their service online. They create an ad and sit back waiting for the money to roll in. On the first day, the ad sends 100 visitors to the site and 14 of them sign up for landscaping services. Create a generative model to come up with the posterior distribution and produce a visualization of what the posterior distribution would look like given the observed data."
   ]
  },
  {
   "cell_type": "code",
   "execution_count": 60,
   "metadata": {},
   "outputs": [],
   "source": [
    "list1=[]\n",
    "for z in range (10000):\n",
    "    x = round(random.uniform(0,1),2)\n",
    "    inscr=[]\n",
    "    for i in range (101):\n",
    "        y = round(random.uniform(0,1),2)\n",
    "        if y <= x:\n",
    "            inscr.append('p')\n",
    "    list1.append([x,len(inscr)])"
   ]
  },
  {
   "cell_type": "code",
   "execution_count": 61,
   "metadata": {},
   "outputs": [],
   "source": [
    "f = pd.DataFrame(list1)"
   ]
  },
  {
   "cell_type": "code",
   "execution_count": 69,
   "metadata": {},
   "outputs": [
    {
     "data": {
      "text/html": [
       "<div>\n",
       "<style scoped>\n",
       "    .dataframe tbody tr th:only-of-type {\n",
       "        vertical-align: middle;\n",
       "    }\n",
       "\n",
       "    .dataframe tbody tr th {\n",
       "        vertical-align: top;\n",
       "    }\n",
       "\n",
       "    .dataframe thead th {\n",
       "        text-align: right;\n",
       "    }\n",
       "</style>\n",
       "<table border=\"1\" class=\"dataframe\">\n",
       "  <thead>\n",
       "    <tr style=\"text-align: right;\">\n",
       "      <th></th>\n",
       "      <th>0</th>\n",
       "      <th>1</th>\n",
       "    </tr>\n",
       "  </thead>\n",
       "  <tbody>\n",
       "    <tr>\n",
       "      <th>0</th>\n",
       "      <td>0.02</td>\n",
       "      <td>4</td>\n",
       "    </tr>\n",
       "    <tr>\n",
       "      <th>1</th>\n",
       "      <td>0.33</td>\n",
       "      <td>28</td>\n",
       "    </tr>\n",
       "    <tr>\n",
       "      <th>2</th>\n",
       "      <td>0.47</td>\n",
       "      <td>40</td>\n",
       "    </tr>\n",
       "    <tr>\n",
       "      <th>3</th>\n",
       "      <td>0.22</td>\n",
       "      <td>22</td>\n",
       "    </tr>\n",
       "    <tr>\n",
       "      <th>4</th>\n",
       "      <td>0.53</td>\n",
       "      <td>54</td>\n",
       "    </tr>\n",
       "    <tr>\n",
       "      <th>...</th>\n",
       "      <td>...</td>\n",
       "      <td>...</td>\n",
       "    </tr>\n",
       "    <tr>\n",
       "      <th>9995</th>\n",
       "      <td>0.52</td>\n",
       "      <td>54</td>\n",
       "    </tr>\n",
       "    <tr>\n",
       "      <th>9996</th>\n",
       "      <td>0.48</td>\n",
       "      <td>52</td>\n",
       "    </tr>\n",
       "    <tr>\n",
       "      <th>9997</th>\n",
       "      <td>0.35</td>\n",
       "      <td>44</td>\n",
       "    </tr>\n",
       "    <tr>\n",
       "      <th>9998</th>\n",
       "      <td>0.24</td>\n",
       "      <td>20</td>\n",
       "    </tr>\n",
       "    <tr>\n",
       "      <th>9999</th>\n",
       "      <td>1.00</td>\n",
       "      <td>101</td>\n",
       "    </tr>\n",
       "  </tbody>\n",
       "</table>\n",
       "<p>10000 rows × 2 columns</p>\n",
       "</div>"
      ],
      "text/plain": [
       "         0    1\n",
       "0     0.02    4\n",
       "1     0.33   28\n",
       "2     0.47   40\n",
       "3     0.22   22\n",
       "4     0.53   54\n",
       "...    ...  ...\n",
       "9995  0.52   54\n",
       "9996  0.48   52\n",
       "9997  0.35   44\n",
       "9998  0.24   20\n",
       "9999  1.00  101\n",
       "\n",
       "[10000 rows x 2 columns]"
      ]
     },
     "execution_count": 69,
     "metadata": {},
     "output_type": "execute_result"
    }
   ],
   "source": [
    "f "
   ]
  },
  {
   "cell_type": "code",
   "execution_count": 70,
   "metadata": {},
   "outputs": [
    {
     "data": {
      "text/html": [
       "<div>\n",
       "<style scoped>\n",
       "    .dataframe tbody tr th:only-of-type {\n",
       "        vertical-align: middle;\n",
       "    }\n",
       "\n",
       "    .dataframe tbody tr th {\n",
       "        vertical-align: top;\n",
       "    }\n",
       "\n",
       "    .dataframe thead th {\n",
       "        text-align: right;\n",
       "    }\n",
       "</style>\n",
       "<table border=\"1\" class=\"dataframe\">\n",
       "  <thead>\n",
       "    <tr style=\"text-align: right;\">\n",
       "      <th></th>\n",
       "      <th>0</th>\n",
       "      <th>1</th>\n",
       "    </tr>\n",
       "  </thead>\n",
       "  <tbody>\n",
       "    <tr>\n",
       "      <th>64</th>\n",
       "      <td>0.17</td>\n",
       "      <td>14</td>\n",
       "    </tr>\n",
       "    <tr>\n",
       "      <th>111</th>\n",
       "      <td>0.15</td>\n",
       "      <td>14</td>\n",
       "    </tr>\n",
       "    <tr>\n",
       "      <th>230</th>\n",
       "      <td>0.17</td>\n",
       "      <td>14</td>\n",
       "    </tr>\n",
       "    <tr>\n",
       "      <th>384</th>\n",
       "      <td>0.16</td>\n",
       "      <td>14</td>\n",
       "    </tr>\n",
       "    <tr>\n",
       "      <th>469</th>\n",
       "      <td>0.14</td>\n",
       "      <td>14</td>\n",
       "    </tr>\n",
       "    <tr>\n",
       "      <th>...</th>\n",
       "      <td>...</td>\n",
       "      <td>...</td>\n",
       "    </tr>\n",
       "    <tr>\n",
       "      <th>9404</th>\n",
       "      <td>0.11</td>\n",
       "      <td>14</td>\n",
       "    </tr>\n",
       "    <tr>\n",
       "      <th>9533</th>\n",
       "      <td>0.16</td>\n",
       "      <td>14</td>\n",
       "    </tr>\n",
       "    <tr>\n",
       "      <th>9608</th>\n",
       "      <td>0.17</td>\n",
       "      <td>14</td>\n",
       "    </tr>\n",
       "    <tr>\n",
       "      <th>9828</th>\n",
       "      <td>0.21</td>\n",
       "      <td>14</td>\n",
       "    </tr>\n",
       "    <tr>\n",
       "      <th>9950</th>\n",
       "      <td>0.07</td>\n",
       "      <td>14</td>\n",
       "    </tr>\n",
       "  </tbody>\n",
       "</table>\n",
       "<p>116 rows × 2 columns</p>\n",
       "</div>"
      ],
      "text/plain": [
       "         0   1\n",
       "64    0.17  14\n",
       "111   0.15  14\n",
       "230   0.17  14\n",
       "384   0.16  14\n",
       "469   0.14  14\n",
       "...    ...  ..\n",
       "9404  0.11  14\n",
       "9533  0.16  14\n",
       "9608  0.17  14\n",
       "9828  0.21  14\n",
       "9950  0.07  14\n",
       "\n",
       "[116 rows x 2 columns]"
      ]
     },
     "execution_count": 70,
     "metadata": {},
     "output_type": "execute_result"
    }
   ],
   "source": [
    "g = f[f[1]==14]\n",
    "g"
   ]
  },
  {
   "cell_type": "code",
   "execution_count": 66,
   "metadata": {},
   "outputs": [
    {
     "data": {
      "text/plain": [
       "(array([ 9., 12., 20., 25., 20., 16.,  8.,  6.]),\n",
       " array([0.06   , 0.08125, 0.1025 , 0.12375, 0.145  , 0.16625, 0.1875 ,\n",
       "        0.20875, 0.23   ]),\n",
       " <a list of 8 Patch objects>)"
      ]
     },
     "execution_count": 66,
     "metadata": {},
     "output_type": "execute_result"
    },
    {
     "data": {
      "image/png": "[encoded data removed]",
      "text/plain": [
       "<Figure size 432x288 with 1 Axes>"
      ]
     },
     "metadata": {
      "needs_background": "light"
     },
     "output_type": "display_data"
    }
   ],
   "source": [
    "plt.hist(g[0], bins= 'auto')"
   ]
  },
  {
   "cell_type": "markdown",
   "metadata": {},
   "source": [
    "Produce a set of descriptive statistics for the posterior distribution."
   ]
  },
  {
   "cell_type": "code",
   "execution_count": 68,
   "metadata": {},
   "outputs": [
    {
     "data": {
      "text/plain": [
       "count    116.000000\n",
       "mean       0.140000\n",
       "std        0.037579\n",
       "min        0.060000\n",
       "25%        0.110000\n",
       "50%        0.140000\n",
       "75%        0.170000\n",
       "max        0.230000\n",
       "Name: 0, dtype: float64"
      ]
     },
     "execution_count": 68,
     "metadata": {},
     "output_type": "execute_result"
    }
   ],
   "source": [
    "g[0].describe()"
   ]
  },
  {
   "cell_type": "markdown",
   "metadata": {},
   "source": [
    "What is the 90% credible interval range?"
   ]
  },
  {
   "cell_type": "code",
   "execution_count": 91,
   "metadata": {},
   "outputs": [
    {
     "name": "stdout",
     "output_type": "stream",
     "text": [
      "el rango del intervalo sera entre 8.0% y  20.25%\n"
     ]
    }
   ],
   "source": [
    "#lei que vendria siendo el intervalo que habria entre el percentil 5 y el percentil 95 po lo tanto \n",
    "q1 = g[0].quantile(q=0.05)\n",
    "q2 = g[0].quantile(q=0.95)\n",
    "print(f'el rango del intervalo sera entre {q1*100}% y  {q2*100}%')"
   ]
  },
  {
   "cell_type": "markdown",
   "metadata": {},
   "source": [
    "What is the Maximum Likelihood Estimate?"
   ]
  },
  {
   "cell_type": "markdown",
   "metadata": {},
   "source": [
    "Creo que la estimacion maxima de la probabilidad seria de 23% ya que es el maximo porcentaje obtenido una vez realizado mi modelo generativo"
   ]
  }
 ],
 "metadata": {
  "kernelspec": {
   "display_name": "Python 3",
   "language": "python",
   "name": "python3"
  },
  "language_info": {
   "codemirror_mode": {
    "name": "ipython",
    "version": 3
   },
   "file_extension": ".py",
   "mimetype": "text/x-python",
   "name": "python",
   "nbconvert_exporter": "python",
   "pygments_lexer": "ipython3",
   "version": "3.8.3"
  }
 },
 "nbformat": 4,
 "nbformat_minor": 2
}
