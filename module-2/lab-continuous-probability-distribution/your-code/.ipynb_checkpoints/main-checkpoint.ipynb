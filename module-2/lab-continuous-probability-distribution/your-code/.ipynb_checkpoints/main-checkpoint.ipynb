{
 "cells": [
  {
   "cell_type": "markdown",
   "metadata": {},
   "source": [
    "# Before your start:\n",
    "\n",
    "    Read the README.md file\n",
    "    Comment as much as you can and use the resources (README.md file)\n",
    "    Happy learning!"
   ]
  },
  {
   "cell_type": "markdown",
   "metadata": {},
   "source": [
    "In this exercise, we  will generate random numbers from the continuous disributions we learned in the lesson. There are two ways to generate random numbers:\n",
    "\n",
    "1. Using the numpy library \n",
    "1. using the Scipy library \n",
    "\n",
    "Use either or both of the lbraries in this exercise."
   ]
  },
  {
   "cell_type": "markdown",
   "metadata": {},
   "source": [
    "## Uniform Distribution\n",
    "\n",
    "To generate uniform random numbers between any two given values using scipy, we can either use the following code or the code that we have\n",
    "discussed in class:"
   ]
  },
  {
   "cell_type": "code",
   "execution_count": 1,
   "metadata": {},
   "outputs": [
    {
     "name": "stdout",
     "output_type": "stream",
     "text": [
      "[2.13175077 2.40590928 2.93845699 2.36109324 2.316124   2.73084664\n",
      " 2.03349839 2.35139259 2.70636407 2.35616605]\n"
     ]
    }
   ],
   "source": [
    "from scipy.stats import uniform\n",
    "x = uniform.rvs(size=10)\n",
    "a = 2\n",
    "b = 3\n",
    "randoms  = a + (b-a)*x\n",
    "print(randoms)"
   ]
  },
  {
   "cell_type": "markdown",
   "metadata": {},
   "source": [
    "**Your task:**\n",
    "\n",
    "1. Based on the code above, write a function that generates uniformly distributed random numbers. There are several requirements for your function:\n",
    "    * It should accept 3 parameters: \n",
    "        * `bottom` - the lower boundary of the generated numbers\n",
    "        * `ceiling` - the upper boundary of the generated numbers\n",
    "        * `count` - how many numbers to generate\n",
    "    * It should return an array of uniformly distributed random numbers\n",
    "\n",
    "1. Call your function with 2 sets of params below:\n",
    "    * bottom=10, ceiling=15, count=100\n",
    "    * bottom=10, ceiling=60, count=1,000\n",
    "\n",
    "1. Plot the uniform distributions generated above using histograms, where x axis is the value and y axis is the count. Let the histogram's number of bins be 10.\n",
    "\n",
    "Your output should look like below:\n",
    "\n",
    "![uniform distribution](ud.png)"
   ]
  },
  {
   "cell_type": "code",
   "execution_count": 46,
   "metadata": {},
   "outputs": [],
   "source": [
    "a, b = 10, 15"
   ]
  },
  {
   "cell_type": "code",
   "execution_count": 47,
   "metadata": {},
   "outputs": [
    {
     "data": {
      "text/plain": [
       "5"
      ]
     },
     "execution_count": 47,
     "metadata": {},
     "output_type": "execute_result"
    }
   ],
   "source": [
    "h = b - a\n",
    "h"
   ]
  },
  {
   "cell_type": "code",
   "execution_count": 48,
   "metadata": {},
   "outputs": [],
   "source": [
    "my_uniform = uniform(loc=a, scale=h)"
   ]
  },
  {
   "cell_type": "code",
   "execution_count": 49,
   "metadata": {},
   "outputs": [],
   "source": [
    "sample = my_uniform.rvs(size=100)"
   ]
  },
  {
   "cell_type": "code",
   "execution_count": 50,
   "metadata": {},
   "outputs": [
    {
     "data": {
      "text/plain": [
       "array([13.44683401, 14.62484738, 12.94731961, 10.42280416, 14.36233495,\n",
       "       11.03820633, 10.32438419, 13.67575641, 14.57086782, 14.2540145 ,\n",
       "       14.31017329, 10.28108283, 13.35480926, 10.34543927, 14.54348615,\n",
       "       12.06341171, 10.92349183, 11.65162411, 13.55956125, 13.23440171,\n",
       "       14.14943503, 13.79229588, 13.89143116, 11.76613157, 14.08439688,\n",
       "       13.89182188, 12.19938676, 11.1048728 , 11.96447828, 13.18778231,\n",
       "       13.58231893, 12.84654879, 13.95140669, 11.4541119 , 12.58126298,\n",
       "       13.06922099, 11.66771971, 14.29464094, 13.93316114, 13.21976608,\n",
       "       11.61486073, 12.8172113 , 13.81761552, 11.61673926, 11.10758196,\n",
       "       10.01880807, 10.83749915, 10.75187138, 13.39520605, 13.6977649 ,\n",
       "       10.42511002, 13.69630897, 13.02211941, 11.55918478, 14.93502589,\n",
       "       10.6071613 , 10.88708762, 13.42381285, 13.36707573, 10.35873733,\n",
       "       12.62840645, 10.34624524, 14.2710989 , 12.30702532, 14.21791875,\n",
       "       10.78282167, 12.75894707, 10.57068347, 11.74875266, 13.79042326,\n",
       "       14.02430909, 12.72750725, 10.84996074, 14.41294956, 12.91124632,\n",
       "       11.43552347, 11.81054815, 13.16477477, 10.33694958, 12.97728936,\n",
       "       10.79208889, 13.69233356, 11.3466519 , 10.41958631, 12.0424849 ,\n",
       "       13.48602812, 10.06613517, 14.2799027 , 10.19198198, 14.22009991,\n",
       "       10.98065999, 14.84145977, 10.42693629, 10.2452339 , 11.9485661 ,\n",
       "       13.71039234, 13.72201771, 14.72904174, 10.55418785, 13.47191754])"
      ]
     },
     "execution_count": 50,
     "metadata": {},
     "output_type": "execute_result"
    }
   ],
   "source": [
    "sample"
   ]
  },
  {
   "cell_type": "code",
   "execution_count": 51,
   "metadata": {},
   "outputs": [
    {
     "data": {
      "text/plain": [
       "<AxesSubplot:ylabel='Count'>"
      ]
     },
     "execution_count": 51,
     "metadata": {},
     "output_type": "execute_result"
    },
    {
     "data": {
      "image/png": "[encoded data removed]",
      "text/plain": [
       "<Figure size 432x288 with 1 Axes>"
      ]
     },
     "metadata": {
      "needs_background": "light"
     },
     "output_type": "display_data"
    }
   ],
   "source": [
    "import seaborn as sns\n",
    "sns.histplot(sample)"
   ]
  },
  {
   "cell_type": "code",
   "execution_count": 52,
   "metadata": {},
   "outputs": [],
   "source": [
    "sample = my_uniform.rvs(size=100)"
   ]
  },
  {
   "cell_type": "code",
   "execution_count": 53,
   "metadata": {},
   "outputs": [
    {
     "data": {
      "text/plain": [
       "<AxesSubplot:ylabel='Count'>"
      ]
     },
     "execution_count": 53,
     "metadata": {},
     "output_type": "execute_result"
    },
    {
     "data": {
      "image/png": "[encoded data removed]",
      "text/plain": [
       "<Figure size 432x288 with 1 Axes>"
      ]
     },
     "metadata": {
      "needs_background": "light"
     },
     "output_type": "display_data"
    }
   ],
   "source": [
    "sns.histplot(sample)"
   ]
  },
  {
   "cell_type": "code",
   "execution_count": 54,
   "metadata": {},
   "outputs": [],
   "source": [
    "a, b = 10, 60"
   ]
  },
  {
   "cell_type": "code",
   "execution_count": 55,
   "metadata": {},
   "outputs": [
    {
     "data": {
      "text/plain": [
       "50"
      ]
     },
     "execution_count": 55,
     "metadata": {},
     "output_type": "execute_result"
    }
   ],
   "source": [
    "h = b - a\n",
    "h"
   ]
  },
  {
   "cell_type": "code",
   "execution_count": 56,
   "metadata": {},
   "outputs": [],
   "source": [
    "my_uniform = uniform(loc=a, scale=h)"
   ]
  },
  {
   "cell_type": "code",
   "execution_count": 57,
   "metadata": {},
   "outputs": [],
   "source": [
    "sample = my_uniform.rvs(size=1000)"
   ]
  },
  {
   "cell_type": "code",
   "execution_count": 58,
   "metadata": {},
   "outputs": [
    {
     "data": {
      "text/plain": [
       "array([16.93346336, 58.29844385, 46.94807478, 14.60336715, 50.35559848,\n",
       "       52.92685088, 22.07526623, 57.40662819, 17.53564468, 36.6957579 ,\n",
       "       18.05943315, 41.15424549, 30.2135867 , 43.83701174, 14.44770919,\n",
       "       15.47862042, 18.82644564, 50.40502818, 58.93808727, 16.83444355,\n",
       "       49.37511728, 27.00027306, 10.11198791, 21.73123502, 29.39465336,\n",
       "       33.0478783 , 37.50102747, 14.60266084, 17.86948303, 13.95780572,\n",
       "       30.65684079, 37.07364517, 25.4058548 , 26.15860595, 10.36109286,\n",
       "       39.53318208, 55.95609673, 53.02228993, 22.60640758, 22.93700038,\n",
       "       18.13074979, 24.68746833, 37.56053197, 33.39072448, 38.08374368,\n",
       "       47.8376535 , 12.2270193 , 25.05415624, 47.89349302, 27.75607144,\n",
       "       16.29020025, 16.33492029, 29.40383645, 35.11668984, 26.57077843,\n",
       "       57.45382553, 45.7570417 , 54.31614118, 28.70374429, 18.76113938,\n",
       "       45.84481016, 31.99525778, 37.26783759, 15.23056949, 40.86268791,\n",
       "       26.55768288, 56.80190494, 22.95332976, 26.37094553, 42.46525457,\n",
       "       13.24285495, 44.20227147, 53.20416571, 57.50581609, 30.00348287,\n",
       "       51.35013561, 46.12173161, 28.38259242, 47.48263883, 55.12802266,\n",
       "       52.62763923, 16.36891018, 59.42347277, 16.40824245, 25.27759795,\n",
       "       45.48213592, 21.78986663, 29.32010026, 23.42749029, 52.12361108,\n",
       "       19.64242699, 31.76700151, 15.74048975, 25.38552159, 36.52406468,\n",
       "       32.97638135, 18.91152317, 53.93849876, 20.98435765, 54.07614059,\n",
       "       27.25177559, 46.4137641 , 10.73240602, 37.18178866, 48.75783529,\n",
       "       11.7299968 , 34.5264106 , 46.33628336, 45.1464256 , 44.0124556 ,\n",
       "       42.10734307, 10.47589335, 18.22982126, 19.23253588, 35.52963395,\n",
       "       57.45832692, 49.85507375, 31.2259287 , 57.96735868, 20.78074866,\n",
       "       28.29030262, 11.41824633, 38.03831183, 33.96686066, 42.09945376,\n",
       "       10.94088764, 59.06607744, 35.91915093, 52.78865076, 17.65400152,\n",
       "       21.87776728, 38.85243194, 39.03159534, 32.66849766, 17.7507536 ,\n",
       "       18.6982217 , 36.64252186, 27.8376351 , 50.16951107, 41.45424124,\n",
       "       46.22495093, 23.3682459 , 19.1246383 , 24.60467849, 59.20753491,\n",
       "       47.13537054, 20.96689997, 53.94591554, 42.09293299, 40.32049949,\n",
       "       20.60538005, 35.49174698, 55.99451036, 19.97647164, 22.56605272,\n",
       "       53.17026388, 16.72147347, 48.50888241, 56.89125033, 58.0351434 ,\n",
       "       39.24370479, 26.45118859, 35.67193983, 30.46035508, 54.76322528,\n",
       "       36.23804966, 13.14159689, 48.73786416, 24.4909382 , 41.9981151 ,\n",
       "       11.61429663, 15.32687885, 27.41685727, 15.17271439, 33.35640677,\n",
       "       53.14444583, 31.20297345, 51.15434854, 54.91197186, 47.58107242,\n",
       "       18.78630023, 52.99855392, 32.93233662, 29.4345747 , 54.89603829,\n",
       "       24.53827235, 51.62571285, 13.71247764, 32.80201625, 30.32283803,\n",
       "       13.69016725, 31.42065986, 59.63291776, 57.80101884, 29.9993186 ,\n",
       "       38.58968141, 40.83797967, 10.79335144, 16.49524331, 55.0501735 ,\n",
       "       42.05378605, 23.24514154, 19.50746834, 15.01951731, 31.98528281,\n",
       "       59.76454217, 37.31909459, 39.19562181, 43.61936549, 17.92815443,\n",
       "       20.38042543, 43.39573538, 51.61379701, 56.56752853, 46.19600556,\n",
       "       18.88561759, 20.35567834, 13.83107974, 28.69988511, 40.95242793,\n",
       "       11.57393313, 27.89845121, 20.93761868, 39.84190301, 39.02303925,\n",
       "       55.05968737, 38.40124727, 48.52985614, 19.3992342 , 39.00273854,\n",
       "       46.57221219, 56.37091238, 53.38389752, 30.1093089 , 18.35379968,\n",
       "       29.19711337, 26.95811412, 48.75883832, 10.65011031, 35.92738337,\n",
       "       53.55875448, 26.29314618, 44.81854215, 48.61822823, 12.66222496,\n",
       "       33.88960631, 29.78306378, 57.72279284, 54.20623409, 23.00249981,\n",
       "       33.51092207, 43.23503754, 38.02758774, 11.44520379, 32.95527723,\n",
       "       21.81598449, 37.67663342, 46.719718  , 47.85674511, 51.38147449,\n",
       "       55.99920009, 36.56711081, 37.41147792, 25.80863909, 21.93292619,\n",
       "       43.67952727, 44.93526461, 51.5095576 , 24.42382325, 27.19117934,\n",
       "       49.70349182, 25.00996653, 53.67242363, 44.3138406 , 54.10147504,\n",
       "       32.37919064, 39.10175516, 24.18210734, 55.55279069, 26.55339217,\n",
       "       35.82832034, 55.99274556, 29.3463334 , 35.57849108, 11.70886714,\n",
       "       58.74384291, 43.57160414, 17.30200116, 44.52710602, 22.95599125,\n",
       "       20.93562276, 13.72401872, 40.68881917, 45.87334737, 36.26768426,\n",
       "       53.7851924 , 53.46196407, 29.75195611, 42.44211323, 28.03672447,\n",
       "       51.09207902, 46.13648914, 11.70812928, 44.47216458, 12.04585401,\n",
       "       24.93988863, 15.04563048, 16.98058672, 19.25656611, 57.34242511,\n",
       "       13.83671683, 39.19465809, 30.40733871, 40.32762969, 20.6413626 ,\n",
       "       56.52795519, 29.92870883, 31.3246143 , 15.77732862, 32.19421304,\n",
       "       33.87591598, 30.26798792, 17.14215703, 13.86711015, 28.5002879 ,\n",
       "       42.40316864, 50.03202202, 27.92578728, 29.92792985, 29.76116402,\n",
       "       58.5016992 , 28.01839999, 25.67854263, 57.87354917, 44.22657126,\n",
       "       11.77839049, 24.62831751, 43.08737831, 19.40064943, 19.26162421,\n",
       "       12.4590965 , 30.51534903, 59.22731767, 50.74906723, 15.82784657,\n",
       "       32.97094306, 41.64511145, 50.13306322, 56.80136419, 23.07513365,\n",
       "       48.38050048, 36.90396391, 15.49928943, 45.28252428, 27.76748947,\n",
       "       42.47401888, 14.75384037, 49.98277526, 24.70295496, 55.33096674,\n",
       "       57.73129772, 57.63552366, 49.95801751, 13.80700715, 55.76946746,\n",
       "       47.97570264, 48.50944525, 15.83518688, 58.35929911, 54.99096359,\n",
       "       50.87380965, 38.81699283, 24.96282562, 57.7154253 , 41.80696477,\n",
       "       47.78334105, 33.25844973, 39.38542714, 44.80074956, 21.29813833,\n",
       "       53.53066568, 42.61233059, 23.83575975, 29.72185059, 23.41810527,\n",
       "       29.69538351, 48.09909967, 12.40227029, 46.30908449, 50.92622196,\n",
       "       55.43247352, 21.65905672, 56.10155407, 57.91767644, 17.43889031,\n",
       "       15.88212604, 33.48595566, 37.42599269, 13.36030378, 30.09391204,\n",
       "       23.86311365, 27.78815492, 29.6538834 , 45.05228241, 57.23504907,\n",
       "       33.99553726, 21.26411867, 29.70811631, 27.60832769, 24.56407345,\n",
       "       28.50988982, 41.79944697, 40.39712563, 42.5339906 , 44.7471008 ,\n",
       "       47.35724758, 57.51570548, 50.08511018, 21.72919829, 54.78493531,\n",
       "       29.24063762, 50.28967027, 31.71908708, 54.95500943, 38.16413618,\n",
       "       33.57917482, 28.08431239, 23.46645948, 50.82041446, 34.68117008,\n",
       "       55.39542182, 39.47021421, 19.28638323, 10.07520406, 30.51960588,\n",
       "       25.3481992 , 32.17957028, 29.44870729, 46.77734621, 38.16035422,\n",
       "       44.66159563, 34.5397578 , 58.46904635, 14.99721666, 11.13555303,\n",
       "       46.56998292, 51.34515709, 48.20648462, 21.35346731, 49.0751902 ,\n",
       "       26.99766415, 31.58173267, 19.52452649, 18.54985009, 47.46950398,\n",
       "       52.66151369, 54.4013434 , 35.20558486, 16.70531787, 46.5985417 ,\n",
       "       37.46960978, 43.84380025, 15.26091781, 38.36265211, 44.73480937,\n",
       "       38.40804062, 58.43896336, 29.46655458, 55.57406458, 42.23994176,\n",
       "       51.01603681, 58.35146929, 25.51083572, 35.8098075 , 56.79221344,\n",
       "       44.68157188, 47.36334532, 14.56649742, 36.48090277, 58.48144354,\n",
       "       26.524793  , 16.75264626, 17.87427571, 50.90195569, 43.57949421,\n",
       "       44.82860921, 40.38688992, 49.60389302, 36.89546519, 43.78417097,\n",
       "       16.65904019, 46.69246634, 29.70286711, 37.10177661, 17.00845998,\n",
       "       55.27816974, 39.80344997, 53.24662721, 51.586334  , 21.44590666,\n",
       "       39.64258172, 11.37884228, 24.00311673, 36.01990655, 45.29259906,\n",
       "       48.43201147, 34.86605824, 32.56858187, 39.17064811, 22.75104151,\n",
       "       51.08071977, 54.14263296, 21.36481819, 57.17960574, 52.44038304,\n",
       "       19.15365042, 59.73590722, 45.79417324, 24.7665413 , 33.36491071,\n",
       "       31.96778881, 39.31453534, 38.34237716, 30.53580087, 21.73946879,\n",
       "       59.24737094, 14.45124457, 14.83552954, 59.11476582, 39.80839445,\n",
       "       12.03560231, 46.47394649, 30.01358011, 13.43914329, 45.94289539,\n",
       "       36.75642835, 56.5323295 , 19.49397717, 54.86440465, 16.79045334,\n",
       "       31.2142397 , 28.55136539, 32.42686613, 22.23398083, 46.02646682,\n",
       "       32.83186676, 47.66788868, 18.43199578, 24.2914617 , 45.33683936,\n",
       "       14.481066  , 41.85234941, 46.58656383, 54.9738521 , 51.56839254,\n",
       "       50.33635409, 37.67256896, 21.38572969, 20.61397407, 18.77099739,\n",
       "       59.14967068, 20.91366264, 57.7112646 , 57.72784115, 59.75731137,\n",
       "       51.39104657, 35.16283861, 57.07498129, 10.47307717, 21.39459943,\n",
       "       50.06694751, 54.05185144, 23.67822873, 44.10109782, 48.65864025,\n",
       "       33.73497219, 29.87067893, 22.10693373, 20.84225327, 27.91517724,\n",
       "       27.54047505, 55.76659868, 45.993433  , 41.86646945, 20.57092359,\n",
       "       14.01114404, 59.60456911, 48.26377038, 19.7056619 , 31.52227911,\n",
       "       30.13355002, 36.70344043, 12.89848796, 52.6877384 , 55.12304475,\n",
       "       16.82437016, 23.81157287, 27.94274672, 32.56975299, 56.43790564,\n",
       "       45.54237962, 49.38309905, 38.27419253, 14.34868375, 57.83785029,\n",
       "       23.48414096, 37.32641843, 12.89182358, 30.08587941, 26.79178595,\n",
       "       46.62806226, 25.60802411, 29.28110616, 35.42441299, 25.11894984,\n",
       "       59.13313833, 44.20969404, 25.70227954, 50.68516848, 39.25707468,\n",
       "       17.72501704, 49.46896251, 46.46939632, 30.26302872, 31.08269271,\n",
       "       18.71056944, 10.20318343, 20.14754953, 44.66928114, 30.58560318,\n",
       "       57.39293618, 11.14976133, 10.93790082, 29.12436991, 55.74329164,\n",
       "       49.73783988, 45.567989  , 51.3557955 , 49.05526766, 19.67886084,\n",
       "       42.07863407, 29.57247505, 26.99262289, 31.5979156 , 28.40518023,\n",
       "       30.54138451, 25.16525386, 26.23514404, 27.44754879, 58.60782945,\n",
       "       25.97759817, 15.04382106, 59.01864693, 59.40097292, 43.35140468,\n",
       "       27.30249493, 25.40364395, 34.033935  , 25.15055458, 57.1794304 ,\n",
       "       27.74585442, 20.90654726, 50.15819123, 28.34180492, 55.54040153,\n",
       "       24.58167589, 44.44552267, 11.97897063, 51.93439732, 43.08161706,\n",
       "       16.59525768, 51.25688425, 31.06356981, 10.96527752, 19.22578409,\n",
       "       40.18909393, 15.70542094, 13.35412865, 30.56094606, 34.37662425,\n",
       "       39.67247687, 59.55015021, 52.14884548, 33.12940641, 14.74567352,\n",
       "       20.20084343, 21.43070661, 25.40687113, 26.71150206, 36.51665123,\n",
       "       39.96073271, 28.84523192, 32.9514794 , 19.85269318, 28.70962163,\n",
       "       55.1009091 , 24.6368588 , 10.04428546, 45.89317941, 23.16381658,\n",
       "       20.67777605, 11.66671307, 49.07854745, 28.21436858, 28.36630862,\n",
       "       37.18666665, 52.35921364, 35.55880472, 34.94914726, 19.00952854,\n",
       "       28.73447221, 12.49259067, 56.61072735, 14.19002974, 23.40573669,\n",
       "       23.65555165, 17.40233196, 17.59129449, 43.89541921, 51.94030092,\n",
       "       44.07364214, 47.93858077, 23.70554725, 25.99502656, 20.82118266,\n",
       "       20.5776196 , 32.29939564, 39.25680567, 54.43921002, 48.77850915,\n",
       "       27.54592462, 21.36799346, 29.52632284, 12.54392388, 24.11049054,\n",
       "       35.78275895, 44.93644207, 57.79569691, 40.69274153, 20.45396928,\n",
       "       20.63814344, 15.9953552 , 54.13303263, 58.56434672, 46.53717343,\n",
       "       41.55223234, 41.07970511, 57.35009252, 59.90665312, 45.89477892,\n",
       "       23.13369763, 17.62639584, 47.0489481 , 48.88979503, 47.4339848 ,\n",
       "       55.59878558, 31.63738892, 54.10127277, 36.7147529 , 55.82764326,\n",
       "       57.91788131, 13.95077795, 12.71580868, 20.56294306, 55.4708529 ,\n",
       "       15.85821909, 14.9025373 , 18.59461194, 10.36315001, 40.36938575,\n",
       "       26.04076759, 18.40768048, 36.17873083, 48.99549238, 44.11401621,\n",
       "       12.73392089, 32.53040533, 16.13536876, 12.61530469, 48.17586473,\n",
       "       37.9443517 , 29.26972749, 30.94497102, 22.66250886, 59.75586993,\n",
       "       21.72604156, 48.06630485, 55.34968184, 47.93969133, 20.53051325,\n",
       "       24.0968251 , 11.71696756, 47.87992386, 10.21093116, 50.39767351,\n",
       "       59.38339741, 48.19178253, 56.48149302, 28.3483191 , 43.79146362,\n",
       "       26.23624947, 48.74373465, 31.68308134, 38.49128595, 38.5495278 ,\n",
       "       33.20962465, 44.03448126, 11.49301376, 34.20950558, 56.16711209,\n",
       "       53.27857167, 53.18617307, 11.83813917, 25.27452668, 43.20758939,\n",
       "       39.82270115, 22.45179433, 59.52983092, 39.924729  , 33.80212501,\n",
       "       33.13550328, 33.71692678, 57.81127089, 44.29459573, 37.73223294,\n",
       "       39.21180432, 25.81013728, 53.33262991, 58.6224941 , 52.94353642,\n",
       "       16.91750717, 19.71151614, 46.89896141, 50.3005353 , 42.59695755,\n",
       "       56.59046473, 36.9422698 , 51.68208705, 11.25070823, 24.84081751,\n",
       "       50.00703558, 12.73759403, 38.16730738, 20.94137778, 57.34023071,\n",
       "       41.6645207 , 48.43919874, 46.29435759, 19.92626165, 39.75519678,\n",
       "       10.87499404, 37.66193063, 55.47975004, 13.10952359, 12.94286561,\n",
       "       11.00481508, 27.23164193, 57.45223196, 17.51636615, 22.69635937,\n",
       "       20.70141786, 48.4112628 , 48.21871348, 57.13260145, 22.31007673,\n",
       "       24.76763219, 58.75127441, 59.56398954, 14.13373893, 16.05782908,\n",
       "       43.05673725, 23.71360574, 58.99946257, 10.1296385 , 35.01062147,\n",
       "       44.36468472, 20.35776826, 24.5512357 , 38.67727389, 36.975999  ,\n",
       "       37.21140417, 11.9400397 , 33.80221562, 36.93797897, 49.94827031,\n",
       "       15.70761495, 28.8549936 , 12.73791291, 59.52927097, 44.5929711 ,\n",
       "       14.46637134, 52.11410467, 11.0458192 , 57.52856396, 32.62369822,\n",
       "       19.95882309, 41.09880848, 46.43578349, 17.1113102 , 20.64617326,\n",
       "       31.39034615, 54.52546505, 53.6169171 , 41.50439791, 50.36427445,\n",
       "       51.1880083 , 28.78881495, 17.40566681, 30.18795873, 45.6393536 ,\n",
       "       10.7483106 , 17.97762368, 30.25302244, 47.84652749, 20.41323376,\n",
       "       56.60711902, 18.33179127, 27.65326589, 24.64484719, 47.82834064,\n",
       "       58.26849176, 57.97959681, 51.41762263, 36.49572845, 21.86311235,\n",
       "       34.58359717, 20.53644023, 13.94016559, 45.61152624, 55.21794179,\n",
       "       29.006019  , 50.75433311, 15.13217959, 59.35032852, 16.36142801,\n",
       "       42.58275988, 44.06678758, 34.36397381, 11.20643185, 25.92790077,\n",
       "       15.14397093, 59.50485513, 45.81289534, 48.25369424, 49.71691575,\n",
       "       17.45568669, 35.26575277, 50.8803794 , 39.66965317, 44.94165174,\n",
       "       33.676084  , 23.44318179, 34.71071509, 23.590908  , 27.32262629,\n",
       "       33.7500961 , 28.72812673, 56.86024096, 47.10673343, 27.29674949,\n",
       "       55.54913823, 16.7528177 , 14.02282021, 55.78143197, 24.15432566,\n",
       "       10.32836848, 11.00716834, 21.82252914, 20.41272152, 41.14220471,\n",
       "       21.42741999, 45.02354639, 40.41020536, 10.43097767, 56.31143306,\n",
       "       28.04358312, 15.00647731, 42.56431727, 18.87305865, 17.15624379,\n",
       "       55.15965426, 35.5752356 , 12.08688265, 36.94273775, 18.79546075,\n",
       "       19.04182481, 54.76914213, 44.65239623, 22.18275489, 31.58998437,\n",
       "       41.64003011, 18.2735371 , 41.9276024 , 39.59968724, 31.81184237,\n",
       "       53.71053272, 55.61149383, 45.61617026, 47.40480378, 49.8969609 ])"
      ]
     },
     "execution_count": 58,
     "metadata": {},
     "output_type": "execute_result"
    }
   ],
   "source": [
    "sample"
   ]
  },
  {
   "cell_type": "code",
   "execution_count": 59,
   "metadata": {},
   "outputs": [
    {
     "data": {
      "text/plain": [
       "<AxesSubplot:ylabel='Count'>"
      ]
     },
     "execution_count": 59,
     "metadata": {},
     "output_type": "execute_result"
    },
    {
     "data": {
      "image/png": "[encoded data removed]",
      "text/plain": [
       "<Figure size 432x288 with 1 Axes>"
      ]
     },
     "metadata": {
      "needs_background": "light"
     },
     "output_type": "display_data"
    }
   ],
   "source": [
    "sns.histplot(sample)"
   ]
  },
  {
   "cell_type": "code",
   "execution_count": 60,
   "metadata": {},
   "outputs": [],
   "source": [
    "sample = my_uniform.rvs(size=1000)"
   ]
  },
  {
   "cell_type": "code",
   "execution_count": 61,
   "metadata": {},
   "outputs": [
    {
     "data": {
      "text/plain": [
       "<AxesSubplot:ylabel='Count'>"
      ]
     },
     "execution_count": 61,
     "metadata": {},
     "output_type": "execute_result"
    },
    {
     "data": {
      "image/png": "[encoded data removed]",
      "text/plain": [
       "<Figure size 432x288 with 1 Axes>"
      ]
     },
     "metadata": {
      "needs_background": "light"
     },
     "output_type": "display_data"
    }
   ],
   "source": [
    "sns.histplot(sample)"
   ]
  },
  {
   "cell_type": "markdown",
   "metadata": {},
   "source": [
    "How are the two distributions different?"
   ]
  },
  {
   "cell_type": "code",
   "execution_count": null,
   "metadata": {},
   "outputs": [],
   "source": [
    "# your answer below"
   ]
  },
  {
   "cell_type": "markdown",
   "metadata": {},
   "source": [
    "## Normal Distribution\n",
    "\n",
    "1. In the same way in the Uniform Distribution challenge, write a function that generates normally distributed random numbers.\n",
    "1. Generate 1,000 normally distributed numbers with the average of 10 and standard deviation of 1\n",
    "1. Generate 1,000 normally distributed numbers with the average of 10 and standard deviation of 50\n",
    "2. Plot the distributions of the data generated.\n",
    "\n",
    "Expected output:\n",
    "\n",
    "![normal distribution](nd.png)"
   ]
  },
  {
   "cell_type": "code",
   "execution_count": 65,
   "metadata": {},
   "outputs": [],
   "source": [
    "from scipy.stats import norm"
   ]
  },
  {
   "cell_type": "code",
   "execution_count": 71,
   "metadata": {},
   "outputs": [],
   "source": [
    "my_normal = norm(loc=10, scale=1)"
   ]
  },
  {
   "cell_type": "code",
   "execution_count": 72,
   "metadata": {},
   "outputs": [],
   "source": [
    "sample = my_normal.rvs(size=1000)"
   ]
  },
  {
   "cell_type": "code",
   "execution_count": 73,
   "metadata": {
    "scrolled": true
   },
   "outputs": [
    {
     "data": {
      "text/plain": [
       "<AxesSubplot:ylabel='Count'>"
      ]
     },
     "execution_count": 73,
     "metadata": {},
     "output_type": "execute_result"
    },
    {
     "data": {
      "image/png": "[encoded data removed]",
      "text/plain": [
       "<Figure size 432x288 with 1 Axes>"
      ]
     },
     "metadata": {
      "needs_background": "light"
     },
     "output_type": "display_data"
    }
   ],
   "source": [
    "sns.histplot(sample)"
   ]
  },
  {
   "cell_type": "code",
   "execution_count": 74,
   "metadata": {},
   "outputs": [],
   "source": [
    "my_normal = norm(loc=10, scale=50)"
   ]
  },
  {
   "cell_type": "code",
   "execution_count": 75,
   "metadata": {},
   "outputs": [],
   "source": [
    "sample = my_normal.rvs(size=1000)"
   ]
  },
  {
   "cell_type": "code",
   "execution_count": 76,
   "metadata": {},
   "outputs": [
    {
     "data": {
      "text/plain": [
       "<AxesSubplot:ylabel='Count'>"
      ]
     },
     "execution_count": 76,
     "metadata": {},
     "output_type": "execute_result"
    },
    {
     "data": {
      "image/png": "[encoded data removed]",
      "text/plain": [
       "<Figure size 432x288 with 1 Axes>"
      ]
     },
     "metadata": {
      "needs_background": "light"
     },
     "output_type": "display_data"
    }
   ],
   "source": [
    "sns.histplot(sample)"
   ]
  },
  {
   "cell_type": "markdown",
   "metadata": {},
   "source": [
    "How are the two distributions different?"
   ]
  },
  {
   "cell_type": "code",
   "execution_count": null,
   "metadata": {},
   "outputs": [],
   "source": [
    "# your answer below"
   ]
  },
  {
   "cell_type": "markdown",
   "metadata": {},
   "source": [
    "## Normal Distribution of Real Data\n",
    "\n",
    "In this challenge we are going to take a look the real data. We will use vehicles.csv file for this exercise"
   ]
  },
  {
   "cell_type": "markdown",
   "metadata": {},
   "source": [
    "First import vehicles.csv.\n",
    "Then plot the histograms for the following variables:\n",
    "\n",
    "1. Fuel Barrels/Year"
   ]
  },
  {
   "cell_type": "code",
   "execution_count": 78,
   "metadata": {},
   "outputs": [],
   "source": [
    "import pandas as pd\n",
    "df=pd.read_csv(\"vehicles.csv\")"
   ]
  },
  {
   "cell_type": "code",
   "execution_count": 79,
   "metadata": {
    "scrolled": false
   },
   "outputs": [
    {
     "data": {
      "text/html": [
       "<div>\n",
       "<style scoped>\n",
       "    .dataframe tbody tr th:only-of-type {\n",
       "        vertical-align: middle;\n",
       "    }\n",
       "\n",
       "    .dataframe tbody tr th {\n",
       "        vertical-align: top;\n",
       "    }\n",
       "\n",
       "    .dataframe thead th {\n",
       "        text-align: right;\n",
       "    }\n",
       "</style>\n",
       "<table border=\"1\" class=\"dataframe\">\n",
       "  <thead>\n",
       "    <tr style=\"text-align: right;\">\n",
       "      <th></th>\n",
       "      <th>Make</th>\n",
       "      <th>Model</th>\n",
       "      <th>Year</th>\n",
       "      <th>Engine Displacement</th>\n",
       "      <th>Cylinders</th>\n",
       "      <th>Transmission</th>\n",
       "      <th>Drivetrain</th>\n",
       "      <th>Vehicle Class</th>\n",
       "      <th>Fuel Type</th>\n",
       "      <th>Fuel Barrels/Year</th>\n",
       "      <th>City MPG</th>\n",
       "      <th>Highway MPG</th>\n",
       "      <th>Combined MPG</th>\n",
       "      <th>CO2 Emission Grams/Mile</th>\n",
       "      <th>Fuel Cost/Year</th>\n",
       "    </tr>\n",
       "  </thead>\n",
       "  <tbody>\n",
       "    <tr>\n",
       "      <th>0</th>\n",
       "      <td>AM General</td>\n",
       "      <td>DJ Po Vehicle 2WD</td>\n",
       "      <td>1984</td>\n",
       "      <td>2.5</td>\n",
       "      <td>4.0</td>\n",
       "      <td>Automatic 3-spd</td>\n",
       "      <td>2-Wheel Drive</td>\n",
       "      <td>Special Purpose Vehicle 2WD</td>\n",
       "      <td>Regular</td>\n",
       "      <td>19.388824</td>\n",
       "      <td>18</td>\n",
       "      <td>17</td>\n",
       "      <td>17</td>\n",
       "      <td>522.764706</td>\n",
       "      <td>1950</td>\n",
       "    </tr>\n",
       "    <tr>\n",
       "      <th>1</th>\n",
       "      <td>AM General</td>\n",
       "      <td>FJ8c Post Office</td>\n",
       "      <td>1984</td>\n",
       "      <td>4.2</td>\n",
       "      <td>6.0</td>\n",
       "      <td>Automatic 3-spd</td>\n",
       "      <td>2-Wheel Drive</td>\n",
       "      <td>Special Purpose Vehicle 2WD</td>\n",
       "      <td>Regular</td>\n",
       "      <td>25.354615</td>\n",
       "      <td>13</td>\n",
       "      <td>13</td>\n",
       "      <td>13</td>\n",
       "      <td>683.615385</td>\n",
       "      <td>2550</td>\n",
       "    </tr>\n",
       "    <tr>\n",
       "      <th>2</th>\n",
       "      <td>AM General</td>\n",
       "      <td>Post Office DJ5 2WD</td>\n",
       "      <td>1985</td>\n",
       "      <td>2.5</td>\n",
       "      <td>4.0</td>\n",
       "      <td>Automatic 3-spd</td>\n",
       "      <td>Rear-Wheel Drive</td>\n",
       "      <td>Special Purpose Vehicle 2WD</td>\n",
       "      <td>Regular</td>\n",
       "      <td>20.600625</td>\n",
       "      <td>16</td>\n",
       "      <td>17</td>\n",
       "      <td>16</td>\n",
       "      <td>555.437500</td>\n",
       "      <td>2100</td>\n",
       "    </tr>\n",
       "    <tr>\n",
       "      <th>3</th>\n",
       "      <td>AM General</td>\n",
       "      <td>Post Office DJ8 2WD</td>\n",
       "      <td>1985</td>\n",
       "      <td>4.2</td>\n",
       "      <td>6.0</td>\n",
       "      <td>Automatic 3-spd</td>\n",
       "      <td>Rear-Wheel Drive</td>\n",
       "      <td>Special Purpose Vehicle 2WD</td>\n",
       "      <td>Regular</td>\n",
       "      <td>25.354615</td>\n",
       "      <td>13</td>\n",
       "      <td>13</td>\n",
       "      <td>13</td>\n",
       "      <td>683.615385</td>\n",
       "      <td>2550</td>\n",
       "    </tr>\n",
       "    <tr>\n",
       "      <th>4</th>\n",
       "      <td>ASC Incorporated</td>\n",
       "      <td>GNX</td>\n",
       "      <td>1987</td>\n",
       "      <td>3.8</td>\n",
       "      <td>6.0</td>\n",
       "      <td>Automatic 4-spd</td>\n",
       "      <td>Rear-Wheel Drive</td>\n",
       "      <td>Midsize Cars</td>\n",
       "      <td>Premium</td>\n",
       "      <td>20.600625</td>\n",
       "      <td>14</td>\n",
       "      <td>21</td>\n",
       "      <td>16</td>\n",
       "      <td>555.437500</td>\n",
       "      <td>2550</td>\n",
       "    </tr>\n",
       "    <tr>\n",
       "      <th>...</th>\n",
       "      <td>...</td>\n",
       "      <td>...</td>\n",
       "      <td>...</td>\n",
       "      <td>...</td>\n",
       "      <td>...</td>\n",
       "      <td>...</td>\n",
       "      <td>...</td>\n",
       "      <td>...</td>\n",
       "      <td>...</td>\n",
       "      <td>...</td>\n",
       "      <td>...</td>\n",
       "      <td>...</td>\n",
       "      <td>...</td>\n",
       "      <td>...</td>\n",
       "      <td>...</td>\n",
       "    </tr>\n",
       "    <tr>\n",
       "      <th>35947</th>\n",
       "      <td>smart</td>\n",
       "      <td>fortwo coupe</td>\n",
       "      <td>2013</td>\n",
       "      <td>1.0</td>\n",
       "      <td>3.0</td>\n",
       "      <td>Auto(AM5)</td>\n",
       "      <td>Rear-Wheel Drive</td>\n",
       "      <td>Two Seaters</td>\n",
       "      <td>Premium</td>\n",
       "      <td>9.155833</td>\n",
       "      <td>34</td>\n",
       "      <td>38</td>\n",
       "      <td>36</td>\n",
       "      <td>244.000000</td>\n",
       "      <td>1100</td>\n",
       "    </tr>\n",
       "    <tr>\n",
       "      <th>35948</th>\n",
       "      <td>smart</td>\n",
       "      <td>fortwo coupe</td>\n",
       "      <td>2014</td>\n",
       "      <td>1.0</td>\n",
       "      <td>3.0</td>\n",
       "      <td>Auto(AM5)</td>\n",
       "      <td>Rear-Wheel Drive</td>\n",
       "      <td>Two Seaters</td>\n",
       "      <td>Premium</td>\n",
       "      <td>9.155833</td>\n",
       "      <td>34</td>\n",
       "      <td>38</td>\n",
       "      <td>36</td>\n",
       "      <td>243.000000</td>\n",
       "      <td>1100</td>\n",
       "    </tr>\n",
       "    <tr>\n",
       "      <th>35949</th>\n",
       "      <td>smart</td>\n",
       "      <td>fortwo coupe</td>\n",
       "      <td>2015</td>\n",
       "      <td>1.0</td>\n",
       "      <td>3.0</td>\n",
       "      <td>Auto(AM5)</td>\n",
       "      <td>Rear-Wheel Drive</td>\n",
       "      <td>Two Seaters</td>\n",
       "      <td>Premium</td>\n",
       "      <td>9.155833</td>\n",
       "      <td>34</td>\n",
       "      <td>38</td>\n",
       "      <td>36</td>\n",
       "      <td>244.000000</td>\n",
       "      <td>1100</td>\n",
       "    </tr>\n",
       "    <tr>\n",
       "      <th>35950</th>\n",
       "      <td>smart</td>\n",
       "      <td>fortwo coupe</td>\n",
       "      <td>2016</td>\n",
       "      <td>0.9</td>\n",
       "      <td>3.0</td>\n",
       "      <td>Auto(AM6)</td>\n",
       "      <td>Rear-Wheel Drive</td>\n",
       "      <td>Two Seaters</td>\n",
       "      <td>Premium</td>\n",
       "      <td>9.155833</td>\n",
       "      <td>34</td>\n",
       "      <td>39</td>\n",
       "      <td>36</td>\n",
       "      <td>246.000000</td>\n",
       "      <td>1100</td>\n",
       "    </tr>\n",
       "    <tr>\n",
       "      <th>35951</th>\n",
       "      <td>smart</td>\n",
       "      <td>fortwo coupe</td>\n",
       "      <td>2016</td>\n",
       "      <td>0.9</td>\n",
       "      <td>3.0</td>\n",
       "      <td>Manual 5-spd</td>\n",
       "      <td>Rear-Wheel Drive</td>\n",
       "      <td>Two Seaters</td>\n",
       "      <td>Premium</td>\n",
       "      <td>9.417429</td>\n",
       "      <td>32</td>\n",
       "      <td>39</td>\n",
       "      <td>35</td>\n",
       "      <td>255.000000</td>\n",
       "      <td>1150</td>\n",
       "    </tr>\n",
       "  </tbody>\n",
       "</table>\n",
       "<p>35952 rows × 15 columns</p>\n",
       "</div>"
      ],
      "text/plain": [
       "                   Make                Model  Year  Engine Displacement  \\\n",
       "0            AM General    DJ Po Vehicle 2WD  1984                  2.5   \n",
       "1            AM General     FJ8c Post Office  1984                  4.2   \n",
       "2            AM General  Post Office DJ5 2WD  1985                  2.5   \n",
       "3            AM General  Post Office DJ8 2WD  1985                  4.2   \n",
       "4      ASC Incorporated                  GNX  1987                  3.8   \n",
       "...                 ...                  ...   ...                  ...   \n",
       "35947             smart         fortwo coupe  2013                  1.0   \n",
       "35948             smart         fortwo coupe  2014                  1.0   \n",
       "35949             smart         fortwo coupe  2015                  1.0   \n",
       "35950             smart         fortwo coupe  2016                  0.9   \n",
       "35951             smart         fortwo coupe  2016                  0.9   \n",
       "\n",
       "       Cylinders     Transmission        Drivetrain  \\\n",
       "0            4.0  Automatic 3-spd     2-Wheel Drive   \n",
       "1            6.0  Automatic 3-spd     2-Wheel Drive   \n",
       "2            4.0  Automatic 3-spd  Rear-Wheel Drive   \n",
       "3            6.0  Automatic 3-spd  Rear-Wheel Drive   \n",
       "4            6.0  Automatic 4-spd  Rear-Wheel Drive   \n",
       "...          ...              ...               ...   \n",
       "35947        3.0        Auto(AM5)  Rear-Wheel Drive   \n",
       "35948        3.0        Auto(AM5)  Rear-Wheel Drive   \n",
       "35949        3.0        Auto(AM5)  Rear-Wheel Drive   \n",
       "35950        3.0        Auto(AM6)  Rear-Wheel Drive   \n",
       "35951        3.0     Manual 5-spd  Rear-Wheel Drive   \n",
       "\n",
       "                     Vehicle Class Fuel Type  Fuel Barrels/Year  City MPG  \\\n",
       "0      Special Purpose Vehicle 2WD   Regular          19.388824        18   \n",
       "1      Special Purpose Vehicle 2WD   Regular          25.354615        13   \n",
       "2      Special Purpose Vehicle 2WD   Regular          20.600625        16   \n",
       "3      Special Purpose Vehicle 2WD   Regular          25.354615        13   \n",
       "4                     Midsize Cars   Premium          20.600625        14   \n",
       "...                            ...       ...                ...       ...   \n",
       "35947                  Two Seaters   Premium           9.155833        34   \n",
       "35948                  Two Seaters   Premium           9.155833        34   \n",
       "35949                  Two Seaters   Premium           9.155833        34   \n",
       "35950                  Two Seaters   Premium           9.155833        34   \n",
       "35951                  Two Seaters   Premium           9.417429        32   \n",
       "\n",
       "       Highway MPG  Combined MPG  CO2 Emission Grams/Mile  Fuel Cost/Year  \n",
       "0               17            17               522.764706            1950  \n",
       "1               13            13               683.615385            2550  \n",
       "2               17            16               555.437500            2100  \n",
       "3               13            13               683.615385            2550  \n",
       "4               21            16               555.437500            2550  \n",
       "...            ...           ...                      ...             ...  \n",
       "35947           38            36               244.000000            1100  \n",
       "35948           38            36               243.000000            1100  \n",
       "35949           38            36               244.000000            1100  \n",
       "35950           39            36               246.000000            1100  \n",
       "35951           39            35               255.000000            1150  \n",
       "\n",
       "[35952 rows x 15 columns]"
      ]
     },
     "execution_count": 79,
     "metadata": {},
     "output_type": "execute_result"
    }
   ],
   "source": [
    "df"
   ]
  },
  {
   "cell_type": "code",
   "execution_count": 88,
   "metadata": {},
   "outputs": [],
   "source": [
    "my_normal = norm(\"Fuel Barrels/Year\")"
   ]
  },
  {
   "cell_type": "code",
   "execution_count": 90,
   "metadata": {},
   "outputs": [
    {
     "data": {
      "text/plain": [
       "<scipy.stats._distn_infrastructure.rv_frozen at 0x1248e27c0>"
      ]
     },
     "execution_count": 90,
     "metadata": {},
     "output_type": "execute_result"
    }
   ],
   "source": [
    "my_normal"
   ]
  },
  {
   "cell_type": "code",
   "execution_count": 91,
   "metadata": {},
   "outputs": [
    {
     "ename": "UFuncTypeError",
     "evalue": "ufunc 'add' did not contain a loop with signature matching types (dtype('<U32'), dtype('<U32')) -> dtype('<U32')",
     "output_type": "error",
     "traceback": [
      "\u001b[0;31m---------------------------------------------------------------------------\u001b[0m",
      "\u001b[0;31mUFuncTypeError\u001b[0m                            Traceback (most recent call last)",
      "\u001b[0;32m<ipython-input-91-925e98401dab>\u001b[0m in \u001b[0;36m<module>\u001b[0;34m\u001b[0m\n\u001b[0;32m----> 1\u001b[0;31m \u001b[0msample\u001b[0m \u001b[0;34m=\u001b[0m \u001b[0mmy_normal\u001b[0m\u001b[0;34m.\u001b[0m\u001b[0mrvs\u001b[0m\u001b[0;34m(\u001b[0m\u001b[0msize\u001b[0m\u001b[0;34m=\u001b[0m\u001b[0;36m100\u001b[0m\u001b[0;34m)\u001b[0m\u001b[0;34m\u001b[0m\u001b[0;34m\u001b[0m\u001b[0m\n\u001b[0m",
      "\u001b[0;32m/usr/local/lib/python3.8/site-packages/scipy/stats/_distn_infrastructure.py\u001b[0m in \u001b[0;36mrvs\u001b[0;34m(self, size, random_state)\u001b[0m\n\u001b[1;32m    454\u001b[0m         \u001b[0mkwds\u001b[0m \u001b[0;34m=\u001b[0m \u001b[0mself\u001b[0m\u001b[0;34m.\u001b[0m\u001b[0mkwds\u001b[0m\u001b[0;34m.\u001b[0m\u001b[0mcopy\u001b[0m\u001b[0;34m(\u001b[0m\u001b[0;34m)\u001b[0m\u001b[0;34m\u001b[0m\u001b[0;34m\u001b[0m\u001b[0m\n\u001b[1;32m    455\u001b[0m         \u001b[0mkwds\u001b[0m\u001b[0;34m.\u001b[0m\u001b[0mupdate\u001b[0m\u001b[0;34m(\u001b[0m\u001b[0;34m{\u001b[0m\u001b[0;34m'size'\u001b[0m\u001b[0;34m:\u001b[0m \u001b[0msize\u001b[0m\u001b[0;34m,\u001b[0m \u001b[0;34m'random_state'\u001b[0m\u001b[0;34m:\u001b[0m \u001b[0mrandom_state\u001b[0m\u001b[0;34m}\u001b[0m\u001b[0;34m)\u001b[0m\u001b[0;34m\u001b[0m\u001b[0;34m\u001b[0m\u001b[0m\n\u001b[0;32m--> 456\u001b[0;31m         \u001b[0;32mreturn\u001b[0m \u001b[0mself\u001b[0m\u001b[0;34m.\u001b[0m\u001b[0mdist\u001b[0m\u001b[0;34m.\u001b[0m\u001b[0mrvs\u001b[0m\u001b[0;34m(\u001b[0m\u001b[0;34m*\u001b[0m\u001b[0mself\u001b[0m\u001b[0;34m.\u001b[0m\u001b[0margs\u001b[0m\u001b[0;34m,\u001b[0m \u001b[0;34m**\u001b[0m\u001b[0mkwds\u001b[0m\u001b[0;34m)\u001b[0m\u001b[0;34m\u001b[0m\u001b[0;34m\u001b[0m\u001b[0m\n\u001b[0m\u001b[1;32m    457\u001b[0m \u001b[0;34m\u001b[0m\u001b[0m\n\u001b[1;32m    458\u001b[0m     \u001b[0;32mdef\u001b[0m \u001b[0msf\u001b[0m\u001b[0;34m(\u001b[0m\u001b[0mself\u001b[0m\u001b[0;34m,\u001b[0m \u001b[0mx\u001b[0m\u001b[0;34m)\u001b[0m\u001b[0;34m:\u001b[0m\u001b[0;34m\u001b[0m\u001b[0;34m\u001b[0m\u001b[0m\n",
      "\u001b[0;32m/usr/local/lib/python3.8/site-packages/scipy/stats/_distn_infrastructure.py\u001b[0m in \u001b[0;36mrvs\u001b[0;34m(self, *args, **kwds)\u001b[0m\n\u001b[1;32m   1004\u001b[0m             \u001b[0mvals\u001b[0m \u001b[0;34m=\u001b[0m \u001b[0mself\u001b[0m\u001b[0;34m.\u001b[0m\u001b[0m_rvs\u001b[0m\u001b[0;34m(\u001b[0m\u001b[0;34m*\u001b[0m\u001b[0margs\u001b[0m\u001b[0;34m,\u001b[0m \u001b[0msize\u001b[0m\u001b[0;34m=\u001b[0m\u001b[0msize\u001b[0m\u001b[0;34m,\u001b[0m \u001b[0mrandom_state\u001b[0m\u001b[0;34m=\u001b[0m\u001b[0mrandom_state\u001b[0m\u001b[0;34m)\u001b[0m\u001b[0;34m\u001b[0m\u001b[0;34m\u001b[0m\u001b[0m\n\u001b[1;32m   1005\u001b[0m \u001b[0;34m\u001b[0m\u001b[0m\n\u001b[0;32m-> 1006\u001b[0;31m         \u001b[0mvals\u001b[0m \u001b[0;34m=\u001b[0m \u001b[0mvals\u001b[0m \u001b[0;34m*\u001b[0m \u001b[0mscale\u001b[0m \u001b[0;34m+\u001b[0m \u001b[0mloc\u001b[0m\u001b[0;34m\u001b[0m\u001b[0;34m\u001b[0m\u001b[0m\n\u001b[0m\u001b[1;32m   1007\u001b[0m \u001b[0;34m\u001b[0m\u001b[0m\n\u001b[1;32m   1008\u001b[0m         \u001b[0;31m# do not forget to restore the _random_state\u001b[0m\u001b[0;34m\u001b[0m\u001b[0;34m\u001b[0m\u001b[0;34m\u001b[0m\u001b[0m\n",
      "\u001b[0;31mUFuncTypeError\u001b[0m: ufunc 'add' did not contain a loop with signature matching types (dtype('<U32'), dtype('<U32')) -> dtype('<U32')"
     ]
    }
   ],
   "source": [
    "sample = my_normal.rvs(size=100)"
   ]
  },
  {
   "cell_type": "code",
   "execution_count": 92,
   "metadata": {},
   "outputs": [
    {
     "data": {
      "text/plain": [
       "<AxesSubplot:ylabel='Count'>"
      ]
     },
     "execution_count": 92,
     "metadata": {},
     "output_type": "execute_result"
    },
    {
     "data": {
      "image/png": "[encoded data removed]",
      "text/plain": [
       "<Figure size 432x288 with 1 Axes>"
      ]
     },
     "metadata": {
      "needs_background": "light"
     },
     "output_type": "display_data"
    }
   ],
   "source": [
    "sns.histplot(sample)"
   ]
  },
  {
   "cell_type": "markdown",
   "metadata": {},
   "source": [
    "2. CO2 Emission Grams/Mile "
   ]
  },
  {
   "cell_type": "code",
   "execution_count": 93,
   "metadata": {},
   "outputs": [],
   "source": [
    "my_normal = norm(\"CO2 Emission Grams/Mile\")"
   ]
  },
  {
   "cell_type": "code",
   "execution_count": 94,
   "metadata": {},
   "outputs": [
    {
     "ename": "UFuncTypeError",
     "evalue": "ufunc 'add' did not contain a loop with signature matching types (dtype('<U32'), dtype('<U32')) -> dtype('<U32')",
     "output_type": "error",
     "traceback": [
      "\u001b[0;31m---------------------------------------------------------------------------\u001b[0m",
      "\u001b[0;31mUFuncTypeError\u001b[0m                            Traceback (most recent call last)",
      "\u001b[0;32m<ipython-input-94-925e98401dab>\u001b[0m in \u001b[0;36m<module>\u001b[0;34m\u001b[0m\n\u001b[0;32m----> 1\u001b[0;31m \u001b[0msample\u001b[0m \u001b[0;34m=\u001b[0m \u001b[0mmy_normal\u001b[0m\u001b[0;34m.\u001b[0m\u001b[0mrvs\u001b[0m\u001b[0;34m(\u001b[0m\u001b[0msize\u001b[0m\u001b[0;34m=\u001b[0m\u001b[0;36m100\u001b[0m\u001b[0;34m)\u001b[0m\u001b[0;34m\u001b[0m\u001b[0;34m\u001b[0m\u001b[0m\n\u001b[0m",
      "\u001b[0;32m/usr/local/lib/python3.8/site-packages/scipy/stats/_distn_infrastructure.py\u001b[0m in \u001b[0;36mrvs\u001b[0;34m(self, size, random_state)\u001b[0m\n\u001b[1;32m    454\u001b[0m         \u001b[0mkwds\u001b[0m \u001b[0;34m=\u001b[0m \u001b[0mself\u001b[0m\u001b[0;34m.\u001b[0m\u001b[0mkwds\u001b[0m\u001b[0;34m.\u001b[0m\u001b[0mcopy\u001b[0m\u001b[0;34m(\u001b[0m\u001b[0;34m)\u001b[0m\u001b[0;34m\u001b[0m\u001b[0;34m\u001b[0m\u001b[0m\n\u001b[1;32m    455\u001b[0m         \u001b[0mkwds\u001b[0m\u001b[0;34m.\u001b[0m\u001b[0mupdate\u001b[0m\u001b[0;34m(\u001b[0m\u001b[0;34m{\u001b[0m\u001b[0;34m'size'\u001b[0m\u001b[0;34m:\u001b[0m \u001b[0msize\u001b[0m\u001b[0;34m,\u001b[0m \u001b[0;34m'random_state'\u001b[0m\u001b[0;34m:\u001b[0m \u001b[0mrandom_state\u001b[0m\u001b[0;34m}\u001b[0m\u001b[0;34m)\u001b[0m\u001b[0;34m\u001b[0m\u001b[0;34m\u001b[0m\u001b[0m\n\u001b[0;32m--> 456\u001b[0;31m         \u001b[0;32mreturn\u001b[0m \u001b[0mself\u001b[0m\u001b[0;34m.\u001b[0m\u001b[0mdist\u001b[0m\u001b[0;34m.\u001b[0m\u001b[0mrvs\u001b[0m\u001b[0;34m(\u001b[0m\u001b[0;34m*\u001b[0m\u001b[0mself\u001b[0m\u001b[0;34m.\u001b[0m\u001b[0margs\u001b[0m\u001b[0;34m,\u001b[0m \u001b[0;34m**\u001b[0m\u001b[0mkwds\u001b[0m\u001b[0;34m)\u001b[0m\u001b[0;34m\u001b[0m\u001b[0;34m\u001b[0m\u001b[0m\n\u001b[0m\u001b[1;32m    457\u001b[0m \u001b[0;34m\u001b[0m\u001b[0m\n\u001b[1;32m    458\u001b[0m     \u001b[0;32mdef\u001b[0m \u001b[0msf\u001b[0m\u001b[0;34m(\u001b[0m\u001b[0mself\u001b[0m\u001b[0;34m,\u001b[0m \u001b[0mx\u001b[0m\u001b[0;34m)\u001b[0m\u001b[0;34m:\u001b[0m\u001b[0;34m\u001b[0m\u001b[0;34m\u001b[0m\u001b[0m\n",
      "\u001b[0;32m/usr/local/lib/python3.8/site-packages/scipy/stats/_distn_infrastructure.py\u001b[0m in \u001b[0;36mrvs\u001b[0;34m(self, *args, **kwds)\u001b[0m\n\u001b[1;32m   1004\u001b[0m             \u001b[0mvals\u001b[0m \u001b[0;34m=\u001b[0m \u001b[0mself\u001b[0m\u001b[0;34m.\u001b[0m\u001b[0m_rvs\u001b[0m\u001b[0;34m(\u001b[0m\u001b[0;34m*\u001b[0m\u001b[0margs\u001b[0m\u001b[0;34m,\u001b[0m \u001b[0msize\u001b[0m\u001b[0;34m=\u001b[0m\u001b[0msize\u001b[0m\u001b[0;34m,\u001b[0m \u001b[0mrandom_state\u001b[0m\u001b[0;34m=\u001b[0m\u001b[0mrandom_state\u001b[0m\u001b[0;34m)\u001b[0m\u001b[0;34m\u001b[0m\u001b[0;34m\u001b[0m\u001b[0m\n\u001b[1;32m   1005\u001b[0m \u001b[0;34m\u001b[0m\u001b[0m\n\u001b[0;32m-> 1006\u001b[0;31m         \u001b[0mvals\u001b[0m \u001b[0;34m=\u001b[0m \u001b[0mvals\u001b[0m \u001b[0;34m*\u001b[0m \u001b[0mscale\u001b[0m \u001b[0;34m+\u001b[0m \u001b[0mloc\u001b[0m\u001b[0;34m\u001b[0m\u001b[0;34m\u001b[0m\u001b[0m\n\u001b[0m\u001b[1;32m   1007\u001b[0m \u001b[0;34m\u001b[0m\u001b[0m\n\u001b[1;32m   1008\u001b[0m         \u001b[0;31m# do not forget to restore the _random_state\u001b[0m\u001b[0;34m\u001b[0m\u001b[0;34m\u001b[0m\u001b[0;34m\u001b[0m\u001b[0m\n",
      "\u001b[0;31mUFuncTypeError\u001b[0m: ufunc 'add' did not contain a loop with signature matching types (dtype('<U32'), dtype('<U32')) -> dtype('<U32')"
     ]
    }
   ],
   "source": [
    "sample = my_normal.rvs(size=100)"
   ]
  },
  {
   "cell_type": "code",
   "execution_count": 95,
   "metadata": {},
   "outputs": [
    {
     "data": {
      "text/plain": [
       "<AxesSubplot:ylabel='Count'>"
      ]
     },
     "execution_count": 95,
     "metadata": {},
     "output_type": "execute_result"
    },
    {
     "data": {
      "image/png": "[encoded data removed]",
      "text/plain": [
       "<Figure size 432x288 with 1 Axes>"
      ]
     },
     "metadata": {
      "needs_background": "light"
     },
     "output_type": "display_data"
    }
   ],
   "source": [
    "sns.histplot(sample)"
   ]
  },
  {
   "cell_type": "markdown",
   "metadata": {},
   "source": [
    "3. Combined MPG"
   ]
  },
  {
   "cell_type": "code",
   "execution_count": null,
   "metadata": {},
   "outputs": [],
   "source": [
    "# your code here"
   ]
  },
  {
   "cell_type": "markdown",
   "metadata": {},
   "source": [
    "Which one(s) of the variables are nearly normally distributed? How do you know?"
   ]
  },
  {
   "cell_type": "code",
   "execution_count": null,
   "metadata": {},
   "outputs": [],
   "source": [
    "# your answer here"
   ]
  },
  {
   "cell_type": "markdown",
   "metadata": {},
   "source": [
    "## Exponential Distribution"
   ]
  },
  {
   "cell_type": "markdown",
   "metadata": {},
   "source": [
    "1. Using `numpy.random.exponential`, create a function that returns a list of numbers exponentially distributed with the mean of 10. \n",
    "\n",
    "1. Use the function to generate two number sequences with the size of 10 and 100.\n",
    "\n",
    "1. Plot the distributions as histograms with the nubmer of bins as 100.\n",
    "\n",
    "Your output should look like below:\n",
    "\n",
    "![exponential distribution](ed.png)"
   ]
  },
  {
   "cell_type": "code",
   "execution_count": 99,
   "metadata": {
    "scrolled": true
   },
   "outputs": [
    {
     "name": "stdout",
     "output_type": "stream",
     "text": [
      "[2.05402032 2.50368168 3.73654416 3.26406176 3.00417574 4.18708618\n",
      " 2.59450771 2.25618516 2.61902856 2.91624447]\n"
     ]
    }
   ],
   "source": [
    "import numpy as np\n",
    "from scipy.stats import uniform\n",
    "x = np.random.exponential(size=10)\n",
    "a = 2\n",
    "b = 3\n",
    "randoms  = a + (b-a)*x\n",
    "print(randoms)"
   ]
  },
  {
   "cell_type": "code",
   "execution_count": 106,
   "metadata": {},
   "outputs": [],
   "source": [
    "from scipy.stats import expon"
   ]
  },
  {
   "cell_type": "code",
   "execution_count": 116,
   "metadata": {},
   "outputs": [],
   "source": [
    "my_e = expon(10)"
   ]
  },
  {
   "cell_type": "code",
   "execution_count": 117,
   "metadata": {},
   "outputs": [
    {
     "data": {
      "text/plain": [
       "array([10.00841768, 14.06163743, 10.01739444, 14.1559159 , 14.14189581,\n",
       "       11.20157134, 11.52475842, 10.83449969, 12.53029584, 11.12587927,\n",
       "       10.91066209, 10.5074523 , 10.71972041, 10.9234152 , 10.089757  ,\n",
       "       10.38950365, 10.71597555, 10.52618396, 10.86803263, 10.5735421 ,\n",
       "       10.12952038, 10.17963107, 10.45434436, 10.00181408, 11.01245465,\n",
       "       10.39202499, 12.01796159, 11.25517142, 10.82537036, 10.97763532,\n",
       "       11.6187113 , 10.63547089, 11.51234755, 12.97252308, 10.27007976,\n",
       "       11.09355394, 10.71438598, 10.78000597, 10.6029884 , 10.11861587,\n",
       "       10.52676618, 13.20260303, 10.8699756 , 11.07804752, 11.63687332,\n",
       "       10.31919864, 10.38021882, 13.40005129, 10.55984666, 10.43325333,\n",
       "       10.69396795, 10.02429066, 10.92718142, 12.00683161, 10.93716894,\n",
       "       11.7058753 , 12.20014688, 10.20207822, 10.47440664, 11.23691473,\n",
       "       12.80059948, 11.03818471, 10.15424535, 10.30040787, 11.09879168,\n",
       "       11.90653297, 10.39783159, 10.3161777 , 10.09319741, 10.23141179,\n",
       "       10.5345484 , 10.84245945, 11.18430785, 10.01932559, 10.2534416 ,\n",
       "       10.74013378, 10.41624123, 10.80781859, 10.26890086, 10.20893221,\n",
       "       10.23579125, 10.05153506, 10.05600509, 10.09365171, 13.61977647,\n",
       "       11.15455274, 11.38851524, 16.2965745 , 10.72266304, 10.17790168,\n",
       "       11.25754259, 11.24363205, 12.96932673, 11.5947056 , 10.63302962,\n",
       "       10.46563854, 11.24348455, 11.56867786, 13.32281469, 10.15844832,\n",
       "       12.08074781, 10.54506342, 10.48647075, 10.06861976, 11.19092078,\n",
       "       11.59241601, 10.56141172, 11.36560607, 10.59859433, 12.75468191,\n",
       "       10.98545479, 10.13530489, 10.9474205 , 10.06279361, 10.28584166,\n",
       "       10.02344213, 10.43481267, 10.03076498, 11.08767548, 11.47946286,\n",
       "       10.51146848, 11.98613117, 12.18219808, 10.15366072, 10.50792985,\n",
       "       12.09422935, 10.67937532, 10.02431934, 12.04896676, 10.22472713,\n",
       "       10.17488468, 10.09349418, 10.15323055, 10.46950331, 10.08754248,\n",
       "       11.69530547, 10.53625139, 11.43521327, 10.05600261, 10.43325973,\n",
       "       12.57838711, 10.36286626, 10.46164936, 11.32274429, 10.36583114,\n",
       "       10.04449495, 10.91394375, 10.22623459, 10.73830084, 10.1792132 ,\n",
       "       10.30861016, 10.83113518, 13.05094343, 10.21819157, 10.05827021,\n",
       "       12.04391025, 12.68127398, 10.80117618, 10.50685021, 10.89729735,\n",
       "       10.05676946, 10.4103452 , 10.92574451, 10.4697128 , 10.66543377,\n",
       "       11.9974677 , 11.58169489, 10.72345749, 10.5813203 , 11.18954252,\n",
       "       10.55621301, 10.88582195, 10.28935959, 13.52904396, 12.77555256,\n",
       "       10.00182695, 11.19999117, 11.38411813, 12.21165643, 11.22155212,\n",
       "       11.71399665, 11.38591203, 11.5311591 , 10.24765652, 10.42276027,\n",
       "       11.26862808, 10.12766806, 11.35752044, 11.47932728, 11.15956276,\n",
       "       10.03593466, 10.79114336, 10.25027798, 11.88682945, 10.29257253,\n",
       "       10.18274844, 10.47177531, 13.1934023 , 10.1125144 , 10.50269749,\n",
       "       12.67619479, 10.39957899, 10.00412115, 10.36735726, 10.15643023,\n",
       "       11.61445558, 11.69427914, 11.13921005, 10.35002627, 10.97849459,\n",
       "       11.51326829, 10.18293027, 11.3583362 , 11.17357997, 11.74537864,\n",
       "       10.02521487, 10.48554683, 13.36787952, 10.85981495, 10.83321332,\n",
       "       11.11713803, 11.71994173, 10.15099027, 10.36978959, 11.38784579,\n",
       "       10.02473036, 14.89749336, 10.05627867, 10.62114289, 10.06116384,\n",
       "       10.10778284, 10.38644727, 10.69249797, 11.40018801, 10.36010412,\n",
       "       11.02658585, 11.40622173, 10.03186846, 11.70728327, 10.57601704,\n",
       "       10.62382949, 11.81437586, 10.37410576, 10.91132683, 12.10397766,\n",
       "       10.28426977, 10.1127703 , 11.286215  , 10.51831769, 10.14555566,\n",
       "       10.61267672, 10.14587005, 11.44648837, 10.41525077, 10.99032678,\n",
       "       11.8112492 , 10.57057632, 11.49574055, 10.52427921, 10.05440413,\n",
       "       10.69310153, 11.30437793, 10.57505009, 11.81857588, 12.57367846,\n",
       "       10.35794723, 10.76536519, 13.97751163, 10.20590371, 10.95876875,\n",
       "       10.15099906, 10.14034949, 10.93335201, 10.59091533, 10.05647416,\n",
       "       10.72488128, 11.26072145, 11.66084955, 11.74652127, 11.39410132,\n",
       "       14.39792312, 10.36935518, 10.3563731 , 10.94164949, 12.29634039,\n",
       "       12.38425737, 10.99907664, 10.69060293, 10.14818056, 13.56618203,\n",
       "       10.44685929, 11.81352748, 11.04425213, 10.29541876, 10.13114857,\n",
       "       10.01295832, 10.56101854, 10.27072864, 10.24554712, 10.75462373,\n",
       "       10.81403281, 12.22431979, 11.41511417, 10.07512953, 10.32821894,\n",
       "       10.44203743, 10.68762928, 10.02915014, 11.40802853, 11.96817458,\n",
       "       10.0750203 , 11.05325863, 11.82486532, 10.45899608, 11.10976795,\n",
       "       11.14316405, 10.8445552 , 10.82795248, 11.93173176, 11.37860768,\n",
       "       12.43513233, 13.29352111, 11.91351277, 10.09348644, 10.53657457,\n",
       "       10.50893204, 10.80809305, 11.09173002, 11.24645287, 11.29884219,\n",
       "       10.52975684, 12.61086431, 12.11387898, 10.11710545, 11.66450801,\n",
       "       10.07569235, 10.38544286, 10.22328641, 11.61433806, 10.10009574,\n",
       "       11.03444434, 11.21320148, 11.56622623, 10.2489149 , 11.45765232,\n",
       "       10.5001477 , 11.12069342, 10.92742363, 10.14695896, 11.30472856,\n",
       "       10.63031159, 12.45366668, 10.24177896, 10.04247151, 11.78468492,\n",
       "       10.91422969, 10.15846938, 12.26017248, 11.93472444, 10.52087827,\n",
       "       11.23817572, 13.10241793, 10.46443733, 10.02151074, 10.22200044,\n",
       "       10.01445844, 11.80314014, 10.53233097, 10.88574841, 11.22855773,\n",
       "       12.78253715, 10.88361371, 10.55396657, 10.06315232, 10.54976799,\n",
       "       10.59679487, 12.23087515, 10.64122637, 10.0340302 , 12.39268846,\n",
       "       10.4604917 , 12.11980875, 10.9080826 , 10.36557603, 13.08340917,\n",
       "       11.49216707, 10.3847349 , 11.72480088, 10.94335518, 10.10547579,\n",
       "       10.75694081, 13.34087209, 11.03858056, 10.06163347, 10.4496625 ,\n",
       "       11.20177606, 11.14907473, 10.91795171, 11.78896786, 11.99475651,\n",
       "       10.12848477, 10.50009275, 10.41088978, 12.21064703, 10.49805558,\n",
       "       10.24449554, 10.34814836, 12.0079365 , 13.82258573, 10.54698554,\n",
       "       10.46709396, 10.80792924, 10.72771042, 10.88355811, 11.00482841,\n",
       "       10.31095211, 11.86388576, 10.39811003, 10.33078316, 10.33521066,\n",
       "       11.12545066, 10.31289875, 10.10632085, 10.19075309, 10.84475177,\n",
       "       10.10733454, 10.79160225, 11.34628418, 10.41674746, 11.9616066 ,\n",
       "       10.64543214, 10.6237615 , 10.20041706, 11.32325778, 10.77066696,\n",
       "       10.09540549, 11.89838667, 10.26357238, 12.79223741, 10.76761367,\n",
       "       11.05484977, 11.36037125, 10.98055609, 10.95127926, 13.57316338,\n",
       "       11.09199614, 11.01166582, 11.30119724, 11.0494629 , 10.35566291,\n",
       "       12.18363188, 11.03506045, 12.05151569, 10.87427022, 11.05267008,\n",
       "       10.45948838, 13.62844226, 10.87266884, 10.03010377, 10.00755732,\n",
       "       10.52245525, 12.4159519 , 10.44896707, 10.54238827, 10.19409323,\n",
       "       10.8640823 , 10.2421006 , 10.86842772, 11.66609498, 10.88873181,\n",
       "       10.70532238, 10.38805042, 10.35390122, 10.28429658, 10.54611518,\n",
       "       10.11084916, 10.28305014, 12.04914754, 10.11395057, 12.03959641,\n",
       "       10.27417107, 10.76361383, 10.61094033, 11.00254085, 10.32887793,\n",
       "       10.28331227, 12.89514016, 11.31925331, 10.63352847, 10.26638137,\n",
       "       10.54369736, 10.51099944, 10.72845499, 13.82643021, 10.82204231,\n",
       "       11.32562696, 10.52405602, 11.58345154, 10.54584641, 10.91237614,\n",
       "       10.55605653, 11.41746853, 11.20756156, 10.30982982, 10.77203996,\n",
       "       10.08289792, 14.08843168, 10.20109168, 12.58016062, 10.14081061,\n",
       "       14.18417236, 10.26485949, 11.5025289 , 10.87452873, 11.0562385 ,\n",
       "       10.36987008, 13.51660991, 10.13716287, 11.79163112, 11.61881012,\n",
       "       10.24124059, 11.22478658, 10.84378293, 10.01466675, 10.02874702,\n",
       "       11.59399511, 12.45281113, 11.82739031, 10.20360202, 10.47505024,\n",
       "       10.16567315, 10.86449571, 10.88593537, 10.13923974, 10.04376602,\n",
       "       10.11840276, 11.57574582, 10.07829931, 10.14854148, 10.62274537,\n",
       "       10.11008764, 10.43929832, 10.55087748, 13.21671949, 12.05982217,\n",
       "       11.38808117, 11.24238726, 11.3364639 , 10.67075523, 10.57988619,\n",
       "       10.17732885, 10.58498881, 10.08793889, 10.62006297, 12.86948631,\n",
       "       11.17779318, 10.45430908, 11.00551197, 10.45303088, 10.07764221,\n",
       "       10.01131487, 10.82125971, 10.07160722, 10.29089158, 10.11429574,\n",
       "       13.54490894, 10.76282029, 10.26880201, 11.65009911, 10.46551408,\n",
       "       10.41760999, 10.05083652, 10.91907373, 11.32070139, 11.70982405,\n",
       "       10.10008308, 11.90062137, 10.48380645, 10.33279377, 10.0857102 ,\n",
       "       11.0479265 , 10.26739884, 10.88046114, 14.61953585, 13.48206259,\n",
       "       10.42252501, 10.40233287, 10.90603766, 10.49271774, 10.26398438,\n",
       "       10.78678684, 10.85848267, 11.0954876 , 10.40226182, 10.1718752 ,\n",
       "       10.36121491, 10.22677214, 10.02236517, 10.85437606, 10.83491468,\n",
       "       10.28777811, 11.17251681, 10.02152076, 10.02565126, 10.87747311,\n",
       "       10.46147397, 10.76318254, 11.36807525, 10.49847818, 10.35411552,\n",
       "       10.11840357, 12.33760376, 10.21851821, 10.53119099, 10.97481659,\n",
       "       10.21433306, 11.01283828, 12.95180619, 11.2762276 , 12.08021027,\n",
       "       10.37666797, 12.49065359, 11.41739639, 10.32020836, 11.18101499,\n",
       "       10.00078845, 10.37981916, 10.44943687, 10.76798828, 10.16481753,\n",
       "       10.33292819, 11.52944306, 10.84568214, 10.44166304, 14.25481129,\n",
       "       11.59183241, 11.11378248, 10.25504575, 10.19099265, 10.80068134,\n",
       "       11.47701906, 10.9150913 , 10.58565582, 10.41347625, 15.21836169,\n",
       "       10.07200947, 10.61130301, 10.39206118, 10.88460848, 10.97549012,\n",
       "       10.58901169, 10.7188818 , 10.9543414 , 10.95532038, 12.05543595,\n",
       "       10.24471866, 12.38504022, 10.29854953, 10.20925668, 10.20567704,\n",
       "       11.16316215, 10.2327581 , 10.40597027, 13.31282284, 11.82158533,\n",
       "       10.00296765, 10.31104748, 10.52797289, 12.82292326, 10.3864001 ,\n",
       "       12.34074621, 10.01164643, 10.85391332, 10.22960344, 10.87960486,\n",
       "       11.37471147, 10.05467166, 10.00549645, 11.11745433, 10.93797822,\n",
       "       11.29640487, 11.26649436, 11.71229662, 10.7718243 , 11.08120007,\n",
       "       10.10437614, 10.40237817, 10.75822506, 11.45880589, 11.34166112,\n",
       "       10.10565803, 10.85440679, 10.43742011, 11.11004546, 10.380899  ,\n",
       "       10.86616978, 10.52561427, 10.39097911, 11.90245646, 11.92218195,\n",
       "       10.14329829, 11.37119105, 11.6674811 , 10.33463112, 10.68938028,\n",
       "       11.54453854, 10.31409945, 10.04034468, 10.49030597, 11.75052655,\n",
       "       10.82459954, 11.18322869, 13.54598339, 10.39425686, 10.98899069,\n",
       "       10.97799728, 11.24471652, 10.71484667, 10.30146476, 10.19371505,\n",
       "       11.77998872, 10.49664764, 11.3095756 , 11.35488552, 11.46971374,\n",
       "       10.14495539, 10.31497617, 10.16388485, 12.47138153, 10.79980057,\n",
       "       10.4489202 , 10.45632559, 11.14137972, 10.11812017, 11.02350144,\n",
       "       10.35134612, 10.04213241, 11.83991632, 11.16145357, 10.50583528,\n",
       "       10.95939437, 10.11854089, 10.14569469, 17.42606883, 10.0152718 ,\n",
       "       10.78406524, 11.24173219, 10.46061162, 10.32128159, 10.682687  ,\n",
       "       10.39674709, 10.73832508, 10.87825453, 10.55511273, 13.26214997,\n",
       "       10.64517255, 11.96458799, 10.21790025, 10.22486113, 10.51911396,\n",
       "       10.18441263, 10.8841939 , 11.24797486, 14.310889  , 10.22116825,\n",
       "       10.09977305, 10.11149896, 10.00142349, 10.1303467 , 12.40502873,\n",
       "       12.665306  , 10.34662452, 11.05429768, 10.9081864 , 10.47185013,\n",
       "       11.64627544, 11.28831949, 10.76080988, 10.59027044, 11.91579433,\n",
       "       10.50850806, 11.44477635, 10.5125906 , 11.51560423, 10.96454353,\n",
       "       10.14855921, 14.85832049, 10.26966918, 10.74482598, 10.56284554,\n",
       "       10.73473293, 10.5234491 , 11.52505079, 11.29009356, 11.06530093,\n",
       "       12.4935778 , 11.25834761, 10.2660454 , 10.30149328, 10.9729705 ,\n",
       "       11.07170347, 11.89721607, 11.33468867, 10.27401776, 10.73313437,\n",
       "       10.05310356, 10.02952556, 10.22456304, 10.1325609 , 10.73469162,\n",
       "       10.26269118, 10.30253903, 10.48805012, 10.83922437, 11.58949931,\n",
       "       10.00159336, 10.62049348, 10.37161904, 11.38800343, 10.02393287,\n",
       "       10.08427275, 10.10876719, 10.88611404, 13.07498519, 10.40879122,\n",
       "       11.75387482, 12.12124438, 11.60955681, 10.4532511 , 10.17641077,\n",
       "       11.60243928, 10.09103968, 11.12214317, 11.52218557, 11.14471399,\n",
       "       13.3678684 , 10.0324802 , 10.40141724, 10.1722156 , 10.95306989,\n",
       "       10.48242286, 10.76094351, 14.06812372, 10.38296476, 10.31025802,\n",
       "       10.82212709, 11.38557559, 12.00895731, 10.06362552, 12.40204239,\n",
       "       11.37403765, 10.3225884 , 10.84772455, 10.57182663, 10.62221441,\n",
       "       10.64111466, 10.47084087, 10.22349906, 10.87833446, 10.04198166,\n",
       "       11.55168805, 12.15708756, 10.41117969, 10.0919319 , 10.39911614,\n",
       "       10.30988125, 10.11094649, 10.05018301, 10.23115742, 11.74852641,\n",
       "       12.03978169, 10.31469764, 11.4976449 , 13.9508193 , 11.14955431,\n",
       "       12.02092343, 10.90390914, 10.92995109, 10.02490075, 10.63186006,\n",
       "       11.82240209, 10.16212386, 10.45921312, 10.08938227, 10.70994783,\n",
       "       10.54621998, 10.47314501, 11.09571814, 13.61258479, 11.00336193,\n",
       "       15.83692732, 11.20330263, 10.85425061, 10.38162804, 11.50058519,\n",
       "       11.32699581, 10.04655006, 10.58026853, 10.81799845, 12.77711526,\n",
       "       10.29705813, 10.14390641, 10.03999194, 12.4225496 , 10.48830548,\n",
       "       10.10024721, 11.22913605, 11.11775369, 10.51971546, 10.09252834,\n",
       "       10.78939002, 14.01313753, 10.22865267, 10.55702311, 10.33548518,\n",
       "       10.1346481 , 11.6049682 , 10.42088626, 10.13509895, 10.03796808,\n",
       "       11.18759028, 10.09739018, 11.38502047, 10.70292404, 10.67625056,\n",
       "       10.8653093 , 10.6030976 , 10.07825871, 10.8780562 , 10.16826737,\n",
       "       11.50815993, 10.51853962, 10.07523507, 10.49143176, 10.14678811,\n",
       "       13.67901123, 13.45527197, 10.63009835, 11.29457191, 10.52369189,\n",
       "       10.57266497, 10.18084024, 10.58553695, 13.19270337, 10.32020462,\n",
       "       10.84044927, 10.35191156, 10.34298313, 10.27899318, 10.82756849,\n",
       "       10.66454293, 10.44373514, 10.18273351, 10.70877096, 10.4535612 ,\n",
       "       10.25738223, 12.08518084, 10.33839546, 11.28672111, 10.14269294,\n",
       "       14.65607292, 10.4692223 , 10.2444744 , 10.99554552, 10.3963956 ,\n",
       "       10.00555537, 10.42021984, 10.35784602, 10.7247242 , 11.30737348,\n",
       "       10.9398321 , 10.33110208, 10.44380008, 12.82852772, 10.05222849,\n",
       "       10.10427133, 10.67577357, 11.75451433, 10.03139409, 10.32271502,\n",
       "       10.00951046, 10.72284474, 11.04753836, 11.11484532, 10.40448939,\n",
       "       11.96050583, 10.39069592, 10.41644023, 10.77541675, 12.07986459,\n",
       "       10.6231071 , 11.48983894, 11.198272  , 10.56639824, 10.63238631,\n",
       "       10.53265943, 10.08181536, 10.07865155, 11.61370829, 12.02003506])"
      ]
     },
     "execution_count": 117,
     "metadata": {},
     "output_type": "execute_result"
    }
   ],
   "source": [
    "my_e.rvs(size=1000)"
   ]
  },
  {
   "cell_type": "code",
   "execution_count": 118,
   "metadata": {},
   "outputs": [],
   "source": [
    "sample = my_e.rvs(size=1000)"
   ]
  },
  {
   "cell_type": "code",
   "execution_count": 119,
   "metadata": {},
   "outputs": [
    {
     "data": {
      "text/plain": [
       "array([11.16946905, 10.53181511, 10.10651952, 11.54325543, 10.24885779,\n",
       "       10.62443508, 10.99224401, 11.29888074, 11.28177283, 11.13488405,\n",
       "       10.61557844, 10.89093128, 10.2105364 , 10.16217174, 10.255604  ,\n",
       "       10.63490977, 10.21899614, 10.76335564, 10.24769569, 11.89379093,\n",
       "       10.40626908, 10.1229628 , 11.15959308, 10.49784067, 10.48292141,\n",
       "       15.54486154, 15.88650603, 10.28337235, 10.31860408, 15.93982256,\n",
       "       10.12350452, 10.00878845, 13.01780511, 10.02814876, 12.98631326,\n",
       "       10.47838914, 11.46667448, 13.61101934, 10.12798317, 10.31605161,\n",
       "       10.84134018, 11.3357081 , 10.22920118, 10.62729419, 14.14633816,\n",
       "       10.09617041, 10.35856191, 11.61867307, 11.53125407, 10.49174157,\n",
       "       10.58230989, 12.46859636, 12.254378  , 11.05063461, 10.05308928,\n",
       "       10.33630169, 10.13487573, 10.23650027, 11.0949454 , 12.12684255,\n",
       "       12.22684188, 10.83277683, 12.7337212 , 12.75471112, 11.1344346 ,\n",
       "       10.16479394, 10.35781833, 10.13874956, 12.06217134, 10.24688099,\n",
       "       10.0761881 , 10.62872285, 10.58527551, 10.54417156, 11.10538088,\n",
       "       10.70468049, 10.83019688, 11.62126092, 10.67598603, 10.08000704,\n",
       "       12.02542014, 10.19530802, 10.04808933, 10.3039951 , 10.17813359,\n",
       "       11.17483856, 10.54506825, 10.29035183, 10.91876552, 10.38238943,\n",
       "       10.92900492, 10.05576349, 10.24702813, 13.69702239, 14.01471132,\n",
       "       10.24483954, 10.54360354, 11.85597765, 10.07109109, 10.47484858,\n",
       "       10.9434566 , 11.16458809, 10.84255047, 11.51476962, 10.24627478,\n",
       "       10.13798637, 12.61042301, 12.25850177, 10.33073128, 11.05817117,\n",
       "       10.78837872, 11.2505236 , 10.32129523, 10.28342395, 11.38544355,\n",
       "       11.11067105, 10.40848777, 11.84305256, 12.05666462, 10.21951359,\n",
       "       10.0403725 , 10.89675964, 10.82614498, 10.10687796, 10.145319  ,\n",
       "       10.08034646, 10.13260606, 11.45957386, 10.8305438 , 12.22712988,\n",
       "       10.84258666, 12.24391056, 11.97446088, 11.52099208, 10.62554498,\n",
       "       11.45394464, 10.28866802, 10.76432809, 10.68230909, 12.46900671,\n",
       "       10.18273124, 10.03204405, 13.45058562, 11.65394061, 10.40735642,\n",
       "       10.58314162, 12.16036297, 11.12180018, 10.82914984, 10.40135794,\n",
       "       11.4932652 , 11.34450876, 10.18190311, 14.79071638, 10.00688522,\n",
       "       10.93504977, 10.63755918, 12.80210001, 10.19165912, 12.77197831,\n",
       "       10.17151809, 11.16502056, 10.13169826, 13.57289586, 10.59218168,\n",
       "       10.28443809, 12.89345427, 10.33743539, 10.92462198, 10.34805822,\n",
       "       11.31437323, 10.90455263, 10.54550966, 10.66532671, 10.29017323,\n",
       "       10.21322548, 10.90313698, 12.14050662, 11.14630298, 10.32201071,\n",
       "       10.11572673, 11.11252089, 11.07615241, 10.83477376, 11.21467322,\n",
       "       10.87927882, 10.20761795, 10.49633167, 11.57362985, 11.21813208,\n",
       "       17.65064934, 10.20628488, 12.51744399, 10.75764133, 10.13383558,\n",
       "       11.06483164, 11.66918725, 11.5573695 , 10.19473975, 10.59972668,\n",
       "       10.04594526, 10.70361625, 10.25668598, 10.63101756, 11.48525236,\n",
       "       11.68496529, 10.6934894 , 14.29454873, 16.98401061, 10.22071608,\n",
       "       14.02106587, 10.71474578, 10.42276495, 12.07034809, 10.90344617,\n",
       "       10.0924649 , 10.50040747, 10.34151883, 10.48200846, 10.45016186,\n",
       "       10.84035754, 10.52558644, 10.70221398, 10.78862361, 10.49942913,\n",
       "       14.26209561, 11.97009923, 10.42459761, 10.66603403, 10.04733154,\n",
       "       10.2876499 , 10.04588347, 10.13592942, 12.79383348, 10.80516438,\n",
       "       10.97712791, 10.30932182, 10.04583757, 10.76997064, 12.73308002,\n",
       "       10.49384598, 10.22746506, 11.02159244, 12.3254874 , 10.24320399,\n",
       "       10.28895869, 10.16701405, 12.23657415, 10.74453025, 10.90283845,\n",
       "       10.21078143, 10.31633368, 11.8549018 , 11.97943333, 10.16856425,\n",
       "       10.27369049, 10.11892426, 10.29745026, 10.31863955, 10.9322557 ,\n",
       "       10.09110244, 10.77117106, 12.3787902 , 11.00796119, 10.6603536 ,\n",
       "       10.88299579, 11.23746367, 10.36340975, 10.02002764, 11.49670137,\n",
       "       10.94599798, 10.63983833, 10.41593379, 11.87505792, 11.94911463,\n",
       "       12.6103954 , 11.50816913, 12.6849178 , 11.11179715, 11.42974964,\n",
       "       12.13866864, 11.86313243, 10.09499112, 12.31486858, 10.19766325,\n",
       "       12.02601322, 13.06338191, 10.86923957, 10.6737338 , 10.81778637,\n",
       "       10.59990953, 10.42763205, 10.06508607, 12.85815475, 10.52771683,\n",
       "       11.59833919, 10.18893015, 10.04273357, 11.00762737, 10.64154537,\n",
       "       10.95423893, 10.71850812, 12.11079598, 10.03119043, 11.97855961,\n",
       "       12.08651696, 10.74024198, 11.32756684, 10.71750627, 10.99879149,\n",
       "       10.43788288, 11.4758796 , 10.57462128, 11.8119259 , 11.18423057,\n",
       "       11.20527298, 13.3641581 , 11.52466539, 10.20306109, 11.34213406,\n",
       "       11.33762058, 11.4865957 , 11.82551788, 10.66633361, 10.65173441,\n",
       "       11.75521258, 10.23382868, 10.97842843, 13.08735032, 10.31082726,\n",
       "       10.73069453, 10.76327502, 11.03945819, 12.42064091, 10.65165315,\n",
       "       10.49500834, 10.91758391, 12.48234595, 12.47207636, 11.89364283,\n",
       "       10.27294524, 11.17141075, 10.4830806 , 10.02008869, 10.04424136,\n",
       "       10.46897337, 10.32168177, 10.62597149, 10.78594599, 10.48452033,\n",
       "       11.34445315, 12.70292966, 11.31644131, 11.00143024, 11.52099643,\n",
       "       10.87323799, 10.00945892, 11.14485675, 11.53185878, 10.26438482,\n",
       "       12.61181415, 12.28566264, 10.59620179, 10.02547322, 12.50781191,\n",
       "       11.61586611, 10.58198411, 10.14623044, 10.27389355, 10.02971885,\n",
       "       10.54809547, 11.80776543, 10.22104531, 10.24348231, 12.55963267,\n",
       "       10.7751913 , 10.29593342, 10.43083816, 10.94238404, 11.14695077,\n",
       "       10.17223198, 10.379481  , 11.81193127, 10.32619759, 10.26467482,\n",
       "       10.57919671, 16.5760595 , 10.40789878, 10.16072685, 11.70625079,\n",
       "       12.19700073, 10.97940446, 13.17174767, 11.24512276, 11.85825404,\n",
       "       10.71467617, 10.68424013, 10.25784594, 10.08013064, 10.85856246,\n",
       "       10.18470483, 10.58162322, 10.59378568, 10.12913738, 12.00305205,\n",
       "       10.41537752, 11.25074214, 10.75961503, 10.51215975, 11.52273727,\n",
       "       11.08536402, 10.65550669, 10.88776623, 11.94961256, 10.9195347 ,\n",
       "       10.66258992, 10.19408557, 10.86706835, 10.51867846, 10.35785711,\n",
       "       10.11085724, 10.10895776, 10.99753997, 11.06914835, 10.54676454,\n",
       "       10.27717223, 11.87753756, 10.39727794, 10.29324025, 10.87249798,\n",
       "       10.21406683, 10.44439055, 10.11957344, 10.29606373, 10.24419658,\n",
       "       11.29663571, 10.37287646, 14.13740429, 10.42974413, 10.60813852,\n",
       "       10.4636061 , 13.75554848, 10.29419085, 10.07098712, 14.83045155,\n",
       "       10.31565893, 10.08836919, 14.56325738, 11.20894823, 12.6441939 ,\n",
       "       11.81596206, 11.38395437, 10.65945595, 10.39589925, 11.68295699,\n",
       "       10.77819054, 10.89025619, 10.25513157, 12.53283401, 10.79145094,\n",
       "       10.79296465, 12.65694954, 11.85515303, 10.56820393, 10.67276042,\n",
       "       10.6138789 , 11.35466275, 14.2856429 , 11.50591267, 10.18594791,\n",
       "       11.34466096, 10.21067398, 10.50906961, 10.35804324, 10.01199325,\n",
       "       11.43896533, 12.32117025, 11.8274931 , 11.64950741, 12.07464868,\n",
       "       10.10150678, 10.97700649, 10.68665821, 11.48088217, 10.14595981,\n",
       "       10.14733896, 10.02087883, 10.46978624, 10.00989627, 10.9443371 ,\n",
       "       10.30456927, 12.50718705, 10.19093531, 10.69164675, 11.21697145,\n",
       "       11.41179744, 10.59920779, 10.67715221, 10.75181773, 11.00801586,\n",
       "       12.30272721, 10.59964907, 10.08143653, 13.91724405, 15.13874747,\n",
       "       12.48441633, 10.73396551, 11.56365106, 13.27386563, 10.29244502,\n",
       "       10.57569735, 10.845901  , 13.17760324, 11.12064455, 10.11977779,\n",
       "       11.55774084, 10.62611252, 10.35510037, 10.16100436, 10.25103539,\n",
       "       12.23047978, 10.8494833 , 11.22266931, 10.45363555, 11.45411709,\n",
       "       10.36053258, 10.23744036, 11.15068766, 11.90206318, 10.0942538 ,\n",
       "       10.20160946, 10.9059698 , 10.11974354, 10.87268002, 10.86673086,\n",
       "       10.61559538, 12.26917728, 10.82121007, 10.73749629, 11.09098402,\n",
       "       11.05146575, 10.28458719, 10.25878607, 10.02956532, 11.16219251,\n",
       "       10.14994708, 10.02643581, 10.87273888, 10.19111315, 12.27501601,\n",
       "       10.02409375, 12.52790066, 10.12554378, 10.99723466, 10.17858556,\n",
       "       10.93774104, 12.08952179, 10.23595723, 10.75461848, 10.62927505,\n",
       "       11.11665277, 10.52018991, 10.47182821, 11.39771106, 11.86687893,\n",
       "       11.29811962, 10.19815215, 11.13868822, 10.0540954 , 10.23443418,\n",
       "       10.39299203, 10.05442766, 12.35891028, 10.84299972, 12.27060959,\n",
       "       12.17261094, 10.24857469, 10.81490183, 11.11443725, 10.40917251,\n",
       "       10.90712339, 10.03849053, 11.33031697, 18.05046201, 10.19474902,\n",
       "       12.40397034, 10.88259797, 14.67692088, 10.32799759, 12.41688737,\n",
       "       11.90458625, 12.05709755, 10.14953339, 10.04556851, 11.75123185,\n",
       "       12.79145368, 10.09365862, 10.9303055 , 10.10744178, 10.87218683,\n",
       "       10.26663753, 12.74911497, 10.5675337 , 10.38729522, 10.85781461,\n",
       "       11.19940239, 11.754362  , 10.40535908, 14.26148099, 10.49722635,\n",
       "       11.93366862, 11.4782612 , 14.5919384 , 12.69398906, 10.37433653,\n",
       "       10.06297797, 10.25195312, 10.6916359 , 10.20485319, 10.76372737,\n",
       "       10.22472684, 10.31678986, 10.83324306, 11.34486882, 10.5665839 ,\n",
       "       10.15134811, 10.93374335, 11.72556065, 11.02989046, 12.15604769,\n",
       "       11.781852  , 11.79207696, 10.22949075, 12.53553467, 11.26995895,\n",
       "       13.97984876, 10.09479061, 10.60086042, 10.62663159, 10.96409676,\n",
       "       10.44723233, 10.64614397, 10.56109604, 10.16739517, 10.42470488,\n",
       "       10.49373692, 10.51086949, 10.90133898, 11.34017478, 15.54231567,\n",
       "       10.78638318, 13.28180889, 10.87549582, 12.00304564, 10.25850288,\n",
       "       11.22953382, 11.28515926, 10.07240428, 11.40397978, 11.65487353,\n",
       "       10.57549662, 11.69465037, 11.07445772, 11.3354486 , 14.72471044,\n",
       "       10.13488351, 11.28149159, 10.12582908, 10.41731416, 10.61120828,\n",
       "       10.28246457, 11.4129358 , 11.94536618, 11.34827894, 10.37257732,\n",
       "       10.96605352, 10.24807156, 10.03634316, 12.12853952, 11.05173695,\n",
       "       11.49008027, 10.30847525, 10.28747907, 10.0048253 , 10.25268976,\n",
       "       10.75824085, 11.16867011, 10.00316642, 13.98026706, 12.08142835,\n",
       "       10.97197289, 10.09117735, 11.02625722, 10.84371597, 10.66652771,\n",
       "       10.22060565, 10.38749137, 10.11239069, 11.06563615, 10.0611658 ,\n",
       "       13.8192179 , 10.53994504, 10.59506219, 12.344646  , 10.07522457,\n",
       "       11.15264889, 10.99150406, 11.26078086, 11.55279545, 12.53418991,\n",
       "       13.01997395, 10.08424384, 11.82729272, 10.83122956, 10.13540787,\n",
       "       11.57522556, 11.6170494 , 10.90399945, 10.05766038, 10.67103503,\n",
       "       12.16464984, 10.66444027, 10.40666717, 10.27590689, 11.11871141,\n",
       "       11.24644261, 11.15560739, 12.50949778, 10.22355125, 10.45150107,\n",
       "       10.20275354, 13.1249637 , 12.04864013, 10.66914909, 10.02976403,\n",
       "       10.50187903, 11.76066683, 10.99859296, 10.90722492, 10.04212644,\n",
       "       11.01235699, 12.50321306, 12.51510414, 11.13476782, 10.21972516,\n",
       "       11.12490209, 11.81415432, 10.21550578, 10.59136514, 11.38528203,\n",
       "       10.33617534, 11.01514296, 11.20438124, 10.00046215, 10.31384039,\n",
       "       10.4003077 , 10.38332318, 12.65742031, 10.133857  , 10.0394338 ,\n",
       "       10.42561757, 11.04344354, 10.10069687, 12.51552407, 11.50843221,\n",
       "       11.53138918, 11.7136942 , 10.59941427, 10.32486503, 10.03441884,\n",
       "       11.00758178, 10.73677879, 10.21210999, 10.64792827, 10.01515786,\n",
       "       11.27992876, 10.63715702, 10.57927807, 10.16946013, 10.00516551,\n",
       "       11.36947975, 10.31524963, 10.49562996, 10.13995222, 10.31775725,\n",
       "       11.55118483, 12.35108662, 10.04396632, 10.09278873, 11.13457366,\n",
       "       11.04255369, 10.4165508 , 10.08034859, 11.21686377, 10.69666443,\n",
       "       12.151829  , 10.91027067, 11.0351561 , 13.61175242, 10.32965452,\n",
       "       10.00346694, 10.53616532, 10.78211515, 10.46046792, 10.11017649,\n",
       "       10.1212884 , 10.25029864, 11.64000422, 10.48233757, 10.47435718,\n",
       "       10.0283478 , 11.90501699, 10.67481659, 10.1057881 , 11.23043973,\n",
       "       10.15784793, 10.83204353, 12.02838667, 10.53932657, 10.60825549,\n",
       "       10.60682692, 10.77824795, 10.41741125, 10.29430414, 12.35036209,\n",
       "       10.20006774, 10.16201883, 10.14639344, 10.02545731, 10.60904618,\n",
       "       10.62918304, 10.02348768, 11.49618218, 12.19654059, 10.55051399,\n",
       "       10.15435128, 11.10079211, 11.69807682, 10.50493101, 10.31081532,\n",
       "       12.28318938, 10.81287339, 10.53792771, 10.15090432, 10.14153905,\n",
       "       11.94516119, 13.52494525, 12.67777283, 10.88844669, 11.90836321,\n",
       "       11.10697533, 11.86302034, 10.93304502, 11.28304685, 10.12276803,\n",
       "       10.08046198, 12.97260349, 11.14855148, 11.09725187, 10.09283582,\n",
       "       12.41349014, 11.1949475 , 11.17880363, 11.46129742, 11.6135169 ,\n",
       "       10.52527989, 10.13233344, 11.56357298, 11.09460734, 10.76558495,\n",
       "       11.78756907, 10.04316988, 11.32185188, 10.5162156 , 10.42421828,\n",
       "       10.60371497, 10.78142174, 10.8532328 , 10.44927544, 11.99439673,\n",
       "       11.298347  , 10.06667095, 10.05810947, 15.13503396, 10.08745006,\n",
       "       10.51832058, 10.69953607, 12.81705357, 11.66372771, 10.50738969,\n",
       "       10.06701454, 10.89985332, 10.06136646, 12.34994274, 11.44338151,\n",
       "       10.36567844, 10.77141226, 10.03275404, 10.55830941, 12.75917849,\n",
       "       10.2618933 , 13.59472859, 11.18560686, 10.42364333, 11.14640175,\n",
       "       11.23501231, 14.5738219 , 12.12994102, 10.68379844, 10.06698997,\n",
       "       10.53884378, 11.57959545, 10.0168009 , 11.02204375, 10.12438144,\n",
       "       10.35776822, 10.1807875 , 10.23707101, 14.43212914, 10.375066  ,\n",
       "       10.07405275, 10.6342512 , 11.51058866, 11.28251993, 10.4845228 ,\n",
       "       11.05744078, 10.67948848, 10.07647011, 10.74259433, 11.01551939,\n",
       "       12.38721856, 10.33810967, 10.05160121, 10.3828437 , 10.13778025,\n",
       "       12.87698509, 10.98057888, 10.33594308, 12.04611124, 12.29399814,\n",
       "       10.30481351, 13.53618701, 11.23291616, 10.08496387, 10.16649384,\n",
       "       10.40209438, 11.17576171, 11.7702961 , 10.1219757 , 11.5845119 ,\n",
       "       12.04353647, 11.702769  , 10.45906336, 11.28861495, 10.27797708,\n",
       "       10.89076636, 12.31638831, 10.12873534, 10.79731924, 10.18367136,\n",
       "       10.05925386, 10.03334633, 10.47320391, 10.10957798, 10.99534395,\n",
       "       10.72597844, 12.06806834, 15.35508761, 10.28833267, 10.3516007 ,\n",
       "       10.13832292, 11.03510302, 10.7392175 , 10.86856279, 11.8313322 ,\n",
       "       10.03943805, 11.2035043 , 12.85721888, 11.1925545 , 13.48223151,\n",
       "       11.58403877, 10.20128553, 10.52672469, 11.05318469, 10.0693614 ,\n",
       "       11.56274438, 12.28197845, 11.42184711, 10.48568466, 10.95892615,\n",
       "       10.01927506, 10.18149485, 10.39526295, 10.24027791, 10.16249718,\n",
       "       11.01059188, 14.17470357, 12.79453869, 10.07276849, 11.55768615])"
      ]
     },
     "execution_count": 119,
     "metadata": {},
     "output_type": "execute_result"
    }
   ],
   "source": [
    "sample"
   ]
  },
  {
   "cell_type": "code",
   "execution_count": 120,
   "metadata": {
    "scrolled": false
   },
   "outputs": [
    {
     "data": {
      "text/plain": [
       "<AxesSubplot:ylabel='Count'>"
      ]
     },
     "execution_count": 120,
     "metadata": {},
     "output_type": "execute_result"
    },
    {
     "data": {
      "image/png": "[encoded data removed]",
      "text/plain": [
       "<Figure size 432x288 with 1 Axes>"
      ]
     },
     "metadata": {
      "needs_background": "light"
     },
     "output_type": "display_data"
    }
   ],
   "source": [
    "sns.histplot(sample)"
   ]
  },
  {
   "cell_type": "code",
   "execution_count": 116,
   "metadata": {},
   "outputs": [],
   "source": [
    "my_e = expon(10)"
   ]
  },
  {
   "cell_type": "code",
   "execution_count": 117,
   "metadata": {},
   "outputs": [
    {
     "data": {
      "text/plain": [
       "array([10.00841768, 14.06163743, 10.01739444, 14.1559159 , 14.14189581,\n",
       "       11.20157134, 11.52475842, 10.83449969, 12.53029584, 11.12587927,\n",
       "       10.91066209, 10.5074523 , 10.71972041, 10.9234152 , 10.089757  ,\n",
       "       10.38950365, 10.71597555, 10.52618396, 10.86803263, 10.5735421 ,\n",
       "       10.12952038, 10.17963107, 10.45434436, 10.00181408, 11.01245465,\n",
       "       10.39202499, 12.01796159, 11.25517142, 10.82537036, 10.97763532,\n",
       "       11.6187113 , 10.63547089, 11.51234755, 12.97252308, 10.27007976,\n",
       "       11.09355394, 10.71438598, 10.78000597, 10.6029884 , 10.11861587,\n",
       "       10.52676618, 13.20260303, 10.8699756 , 11.07804752, 11.63687332,\n",
       "       10.31919864, 10.38021882, 13.40005129, 10.55984666, 10.43325333,\n",
       "       10.69396795, 10.02429066, 10.92718142, 12.00683161, 10.93716894,\n",
       "       11.7058753 , 12.20014688, 10.20207822, 10.47440664, 11.23691473,\n",
       "       12.80059948, 11.03818471, 10.15424535, 10.30040787, 11.09879168,\n",
       "       11.90653297, 10.39783159, 10.3161777 , 10.09319741, 10.23141179,\n",
       "       10.5345484 , 10.84245945, 11.18430785, 10.01932559, 10.2534416 ,\n",
       "       10.74013378, 10.41624123, 10.80781859, 10.26890086, 10.20893221,\n",
       "       10.23579125, 10.05153506, 10.05600509, 10.09365171, 13.61977647,\n",
       "       11.15455274, 11.38851524, 16.2965745 , 10.72266304, 10.17790168,\n",
       "       11.25754259, 11.24363205, 12.96932673, 11.5947056 , 10.63302962,\n",
       "       10.46563854, 11.24348455, 11.56867786, 13.32281469, 10.15844832,\n",
       "       12.08074781, 10.54506342, 10.48647075, 10.06861976, 11.19092078,\n",
       "       11.59241601, 10.56141172, 11.36560607, 10.59859433, 12.75468191,\n",
       "       10.98545479, 10.13530489, 10.9474205 , 10.06279361, 10.28584166,\n",
       "       10.02344213, 10.43481267, 10.03076498, 11.08767548, 11.47946286,\n",
       "       10.51146848, 11.98613117, 12.18219808, 10.15366072, 10.50792985,\n",
       "       12.09422935, 10.67937532, 10.02431934, 12.04896676, 10.22472713,\n",
       "       10.17488468, 10.09349418, 10.15323055, 10.46950331, 10.08754248,\n",
       "       11.69530547, 10.53625139, 11.43521327, 10.05600261, 10.43325973,\n",
       "       12.57838711, 10.36286626, 10.46164936, 11.32274429, 10.36583114,\n",
       "       10.04449495, 10.91394375, 10.22623459, 10.73830084, 10.1792132 ,\n",
       "       10.30861016, 10.83113518, 13.05094343, 10.21819157, 10.05827021,\n",
       "       12.04391025, 12.68127398, 10.80117618, 10.50685021, 10.89729735,\n",
       "       10.05676946, 10.4103452 , 10.92574451, 10.4697128 , 10.66543377,\n",
       "       11.9974677 , 11.58169489, 10.72345749, 10.5813203 , 11.18954252,\n",
       "       10.55621301, 10.88582195, 10.28935959, 13.52904396, 12.77555256,\n",
       "       10.00182695, 11.19999117, 11.38411813, 12.21165643, 11.22155212,\n",
       "       11.71399665, 11.38591203, 11.5311591 , 10.24765652, 10.42276027,\n",
       "       11.26862808, 10.12766806, 11.35752044, 11.47932728, 11.15956276,\n",
       "       10.03593466, 10.79114336, 10.25027798, 11.88682945, 10.29257253,\n",
       "       10.18274844, 10.47177531, 13.1934023 , 10.1125144 , 10.50269749,\n",
       "       12.67619479, 10.39957899, 10.00412115, 10.36735726, 10.15643023,\n",
       "       11.61445558, 11.69427914, 11.13921005, 10.35002627, 10.97849459,\n",
       "       11.51326829, 10.18293027, 11.3583362 , 11.17357997, 11.74537864,\n",
       "       10.02521487, 10.48554683, 13.36787952, 10.85981495, 10.83321332,\n",
       "       11.11713803, 11.71994173, 10.15099027, 10.36978959, 11.38784579,\n",
       "       10.02473036, 14.89749336, 10.05627867, 10.62114289, 10.06116384,\n",
       "       10.10778284, 10.38644727, 10.69249797, 11.40018801, 10.36010412,\n",
       "       11.02658585, 11.40622173, 10.03186846, 11.70728327, 10.57601704,\n",
       "       10.62382949, 11.81437586, 10.37410576, 10.91132683, 12.10397766,\n",
       "       10.28426977, 10.1127703 , 11.286215  , 10.51831769, 10.14555566,\n",
       "       10.61267672, 10.14587005, 11.44648837, 10.41525077, 10.99032678,\n",
       "       11.8112492 , 10.57057632, 11.49574055, 10.52427921, 10.05440413,\n",
       "       10.69310153, 11.30437793, 10.57505009, 11.81857588, 12.57367846,\n",
       "       10.35794723, 10.76536519, 13.97751163, 10.20590371, 10.95876875,\n",
       "       10.15099906, 10.14034949, 10.93335201, 10.59091533, 10.05647416,\n",
       "       10.72488128, 11.26072145, 11.66084955, 11.74652127, 11.39410132,\n",
       "       14.39792312, 10.36935518, 10.3563731 , 10.94164949, 12.29634039,\n",
       "       12.38425737, 10.99907664, 10.69060293, 10.14818056, 13.56618203,\n",
       "       10.44685929, 11.81352748, 11.04425213, 10.29541876, 10.13114857,\n",
       "       10.01295832, 10.56101854, 10.27072864, 10.24554712, 10.75462373,\n",
       "       10.81403281, 12.22431979, 11.41511417, 10.07512953, 10.32821894,\n",
       "       10.44203743, 10.68762928, 10.02915014, 11.40802853, 11.96817458,\n",
       "       10.0750203 , 11.05325863, 11.82486532, 10.45899608, 11.10976795,\n",
       "       11.14316405, 10.8445552 , 10.82795248, 11.93173176, 11.37860768,\n",
       "       12.43513233, 13.29352111, 11.91351277, 10.09348644, 10.53657457,\n",
       "       10.50893204, 10.80809305, 11.09173002, 11.24645287, 11.29884219,\n",
       "       10.52975684, 12.61086431, 12.11387898, 10.11710545, 11.66450801,\n",
       "       10.07569235, 10.38544286, 10.22328641, 11.61433806, 10.10009574,\n",
       "       11.03444434, 11.21320148, 11.56622623, 10.2489149 , 11.45765232,\n",
       "       10.5001477 , 11.12069342, 10.92742363, 10.14695896, 11.30472856,\n",
       "       10.63031159, 12.45366668, 10.24177896, 10.04247151, 11.78468492,\n",
       "       10.91422969, 10.15846938, 12.26017248, 11.93472444, 10.52087827,\n",
       "       11.23817572, 13.10241793, 10.46443733, 10.02151074, 10.22200044,\n",
       "       10.01445844, 11.80314014, 10.53233097, 10.88574841, 11.22855773,\n",
       "       12.78253715, 10.88361371, 10.55396657, 10.06315232, 10.54976799,\n",
       "       10.59679487, 12.23087515, 10.64122637, 10.0340302 , 12.39268846,\n",
       "       10.4604917 , 12.11980875, 10.9080826 , 10.36557603, 13.08340917,\n",
       "       11.49216707, 10.3847349 , 11.72480088, 10.94335518, 10.10547579,\n",
       "       10.75694081, 13.34087209, 11.03858056, 10.06163347, 10.4496625 ,\n",
       "       11.20177606, 11.14907473, 10.91795171, 11.78896786, 11.99475651,\n",
       "       10.12848477, 10.50009275, 10.41088978, 12.21064703, 10.49805558,\n",
       "       10.24449554, 10.34814836, 12.0079365 , 13.82258573, 10.54698554,\n",
       "       10.46709396, 10.80792924, 10.72771042, 10.88355811, 11.00482841,\n",
       "       10.31095211, 11.86388576, 10.39811003, 10.33078316, 10.33521066,\n",
       "       11.12545066, 10.31289875, 10.10632085, 10.19075309, 10.84475177,\n",
       "       10.10733454, 10.79160225, 11.34628418, 10.41674746, 11.9616066 ,\n",
       "       10.64543214, 10.6237615 , 10.20041706, 11.32325778, 10.77066696,\n",
       "       10.09540549, 11.89838667, 10.26357238, 12.79223741, 10.76761367,\n",
       "       11.05484977, 11.36037125, 10.98055609, 10.95127926, 13.57316338,\n",
       "       11.09199614, 11.01166582, 11.30119724, 11.0494629 , 10.35566291,\n",
       "       12.18363188, 11.03506045, 12.05151569, 10.87427022, 11.05267008,\n",
       "       10.45948838, 13.62844226, 10.87266884, 10.03010377, 10.00755732,\n",
       "       10.52245525, 12.4159519 , 10.44896707, 10.54238827, 10.19409323,\n",
       "       10.8640823 , 10.2421006 , 10.86842772, 11.66609498, 10.88873181,\n",
       "       10.70532238, 10.38805042, 10.35390122, 10.28429658, 10.54611518,\n",
       "       10.11084916, 10.28305014, 12.04914754, 10.11395057, 12.03959641,\n",
       "       10.27417107, 10.76361383, 10.61094033, 11.00254085, 10.32887793,\n",
       "       10.28331227, 12.89514016, 11.31925331, 10.63352847, 10.26638137,\n",
       "       10.54369736, 10.51099944, 10.72845499, 13.82643021, 10.82204231,\n",
       "       11.32562696, 10.52405602, 11.58345154, 10.54584641, 10.91237614,\n",
       "       10.55605653, 11.41746853, 11.20756156, 10.30982982, 10.77203996,\n",
       "       10.08289792, 14.08843168, 10.20109168, 12.58016062, 10.14081061,\n",
       "       14.18417236, 10.26485949, 11.5025289 , 10.87452873, 11.0562385 ,\n",
       "       10.36987008, 13.51660991, 10.13716287, 11.79163112, 11.61881012,\n",
       "       10.24124059, 11.22478658, 10.84378293, 10.01466675, 10.02874702,\n",
       "       11.59399511, 12.45281113, 11.82739031, 10.20360202, 10.47505024,\n",
       "       10.16567315, 10.86449571, 10.88593537, 10.13923974, 10.04376602,\n",
       "       10.11840276, 11.57574582, 10.07829931, 10.14854148, 10.62274537,\n",
       "       10.11008764, 10.43929832, 10.55087748, 13.21671949, 12.05982217,\n",
       "       11.38808117, 11.24238726, 11.3364639 , 10.67075523, 10.57988619,\n",
       "       10.17732885, 10.58498881, 10.08793889, 10.62006297, 12.86948631,\n",
       "       11.17779318, 10.45430908, 11.00551197, 10.45303088, 10.07764221,\n",
       "       10.01131487, 10.82125971, 10.07160722, 10.29089158, 10.11429574,\n",
       "       13.54490894, 10.76282029, 10.26880201, 11.65009911, 10.46551408,\n",
       "       10.41760999, 10.05083652, 10.91907373, 11.32070139, 11.70982405,\n",
       "       10.10008308, 11.90062137, 10.48380645, 10.33279377, 10.0857102 ,\n",
       "       11.0479265 , 10.26739884, 10.88046114, 14.61953585, 13.48206259,\n",
       "       10.42252501, 10.40233287, 10.90603766, 10.49271774, 10.26398438,\n",
       "       10.78678684, 10.85848267, 11.0954876 , 10.40226182, 10.1718752 ,\n",
       "       10.36121491, 10.22677214, 10.02236517, 10.85437606, 10.83491468,\n",
       "       10.28777811, 11.17251681, 10.02152076, 10.02565126, 10.87747311,\n",
       "       10.46147397, 10.76318254, 11.36807525, 10.49847818, 10.35411552,\n",
       "       10.11840357, 12.33760376, 10.21851821, 10.53119099, 10.97481659,\n",
       "       10.21433306, 11.01283828, 12.95180619, 11.2762276 , 12.08021027,\n",
       "       10.37666797, 12.49065359, 11.41739639, 10.32020836, 11.18101499,\n",
       "       10.00078845, 10.37981916, 10.44943687, 10.76798828, 10.16481753,\n",
       "       10.33292819, 11.52944306, 10.84568214, 10.44166304, 14.25481129,\n",
       "       11.59183241, 11.11378248, 10.25504575, 10.19099265, 10.80068134,\n",
       "       11.47701906, 10.9150913 , 10.58565582, 10.41347625, 15.21836169,\n",
       "       10.07200947, 10.61130301, 10.39206118, 10.88460848, 10.97549012,\n",
       "       10.58901169, 10.7188818 , 10.9543414 , 10.95532038, 12.05543595,\n",
       "       10.24471866, 12.38504022, 10.29854953, 10.20925668, 10.20567704,\n",
       "       11.16316215, 10.2327581 , 10.40597027, 13.31282284, 11.82158533,\n",
       "       10.00296765, 10.31104748, 10.52797289, 12.82292326, 10.3864001 ,\n",
       "       12.34074621, 10.01164643, 10.85391332, 10.22960344, 10.87960486,\n",
       "       11.37471147, 10.05467166, 10.00549645, 11.11745433, 10.93797822,\n",
       "       11.29640487, 11.26649436, 11.71229662, 10.7718243 , 11.08120007,\n",
       "       10.10437614, 10.40237817, 10.75822506, 11.45880589, 11.34166112,\n",
       "       10.10565803, 10.85440679, 10.43742011, 11.11004546, 10.380899  ,\n",
       "       10.86616978, 10.52561427, 10.39097911, 11.90245646, 11.92218195,\n",
       "       10.14329829, 11.37119105, 11.6674811 , 10.33463112, 10.68938028,\n",
       "       11.54453854, 10.31409945, 10.04034468, 10.49030597, 11.75052655,\n",
       "       10.82459954, 11.18322869, 13.54598339, 10.39425686, 10.98899069,\n",
       "       10.97799728, 11.24471652, 10.71484667, 10.30146476, 10.19371505,\n",
       "       11.77998872, 10.49664764, 11.3095756 , 11.35488552, 11.46971374,\n",
       "       10.14495539, 10.31497617, 10.16388485, 12.47138153, 10.79980057,\n",
       "       10.4489202 , 10.45632559, 11.14137972, 10.11812017, 11.02350144,\n",
       "       10.35134612, 10.04213241, 11.83991632, 11.16145357, 10.50583528,\n",
       "       10.95939437, 10.11854089, 10.14569469, 17.42606883, 10.0152718 ,\n",
       "       10.78406524, 11.24173219, 10.46061162, 10.32128159, 10.682687  ,\n",
       "       10.39674709, 10.73832508, 10.87825453, 10.55511273, 13.26214997,\n",
       "       10.64517255, 11.96458799, 10.21790025, 10.22486113, 10.51911396,\n",
       "       10.18441263, 10.8841939 , 11.24797486, 14.310889  , 10.22116825,\n",
       "       10.09977305, 10.11149896, 10.00142349, 10.1303467 , 12.40502873,\n",
       "       12.665306  , 10.34662452, 11.05429768, 10.9081864 , 10.47185013,\n",
       "       11.64627544, 11.28831949, 10.76080988, 10.59027044, 11.91579433,\n",
       "       10.50850806, 11.44477635, 10.5125906 , 11.51560423, 10.96454353,\n",
       "       10.14855921, 14.85832049, 10.26966918, 10.74482598, 10.56284554,\n",
       "       10.73473293, 10.5234491 , 11.52505079, 11.29009356, 11.06530093,\n",
       "       12.4935778 , 11.25834761, 10.2660454 , 10.30149328, 10.9729705 ,\n",
       "       11.07170347, 11.89721607, 11.33468867, 10.27401776, 10.73313437,\n",
       "       10.05310356, 10.02952556, 10.22456304, 10.1325609 , 10.73469162,\n",
       "       10.26269118, 10.30253903, 10.48805012, 10.83922437, 11.58949931,\n",
       "       10.00159336, 10.62049348, 10.37161904, 11.38800343, 10.02393287,\n",
       "       10.08427275, 10.10876719, 10.88611404, 13.07498519, 10.40879122,\n",
       "       11.75387482, 12.12124438, 11.60955681, 10.4532511 , 10.17641077,\n",
       "       11.60243928, 10.09103968, 11.12214317, 11.52218557, 11.14471399,\n",
       "       13.3678684 , 10.0324802 , 10.40141724, 10.1722156 , 10.95306989,\n",
       "       10.48242286, 10.76094351, 14.06812372, 10.38296476, 10.31025802,\n",
       "       10.82212709, 11.38557559, 12.00895731, 10.06362552, 12.40204239,\n",
       "       11.37403765, 10.3225884 , 10.84772455, 10.57182663, 10.62221441,\n",
       "       10.64111466, 10.47084087, 10.22349906, 10.87833446, 10.04198166,\n",
       "       11.55168805, 12.15708756, 10.41117969, 10.0919319 , 10.39911614,\n",
       "       10.30988125, 10.11094649, 10.05018301, 10.23115742, 11.74852641,\n",
       "       12.03978169, 10.31469764, 11.4976449 , 13.9508193 , 11.14955431,\n",
       "       12.02092343, 10.90390914, 10.92995109, 10.02490075, 10.63186006,\n",
       "       11.82240209, 10.16212386, 10.45921312, 10.08938227, 10.70994783,\n",
       "       10.54621998, 10.47314501, 11.09571814, 13.61258479, 11.00336193,\n",
       "       15.83692732, 11.20330263, 10.85425061, 10.38162804, 11.50058519,\n",
       "       11.32699581, 10.04655006, 10.58026853, 10.81799845, 12.77711526,\n",
       "       10.29705813, 10.14390641, 10.03999194, 12.4225496 , 10.48830548,\n",
       "       10.10024721, 11.22913605, 11.11775369, 10.51971546, 10.09252834,\n",
       "       10.78939002, 14.01313753, 10.22865267, 10.55702311, 10.33548518,\n",
       "       10.1346481 , 11.6049682 , 10.42088626, 10.13509895, 10.03796808,\n",
       "       11.18759028, 10.09739018, 11.38502047, 10.70292404, 10.67625056,\n",
       "       10.8653093 , 10.6030976 , 10.07825871, 10.8780562 , 10.16826737,\n",
       "       11.50815993, 10.51853962, 10.07523507, 10.49143176, 10.14678811,\n",
       "       13.67901123, 13.45527197, 10.63009835, 11.29457191, 10.52369189,\n",
       "       10.57266497, 10.18084024, 10.58553695, 13.19270337, 10.32020462,\n",
       "       10.84044927, 10.35191156, 10.34298313, 10.27899318, 10.82756849,\n",
       "       10.66454293, 10.44373514, 10.18273351, 10.70877096, 10.4535612 ,\n",
       "       10.25738223, 12.08518084, 10.33839546, 11.28672111, 10.14269294,\n",
       "       14.65607292, 10.4692223 , 10.2444744 , 10.99554552, 10.3963956 ,\n",
       "       10.00555537, 10.42021984, 10.35784602, 10.7247242 , 11.30737348,\n",
       "       10.9398321 , 10.33110208, 10.44380008, 12.82852772, 10.05222849,\n",
       "       10.10427133, 10.67577357, 11.75451433, 10.03139409, 10.32271502,\n",
       "       10.00951046, 10.72284474, 11.04753836, 11.11484532, 10.40448939,\n",
       "       11.96050583, 10.39069592, 10.41644023, 10.77541675, 12.07986459,\n",
       "       10.6231071 , 11.48983894, 11.198272  , 10.56639824, 10.63238631,\n",
       "       10.53265943, 10.08181536, 10.07865155, 11.61370829, 12.02003506])"
      ]
     },
     "execution_count": 117,
     "metadata": {},
     "output_type": "execute_result"
    }
   ],
   "source": [
    "my_e.rvs(size=1000)"
   ]
  },
  {
   "cell_type": "code",
   "execution_count": 118,
   "metadata": {},
   "outputs": [],
   "source": [
    "sample = my_e.rvs(size=1000)"
   ]
  },
  {
   "cell_type": "code",
   "execution_count": 119,
   "metadata": {
    "scrolled": false
   },
   "outputs": [
    {
     "data": {
      "text/plain": [
       "array([11.16946905, 10.53181511, 10.10651952, 11.54325543, 10.24885779,\n",
       "       10.62443508, 10.99224401, 11.29888074, 11.28177283, 11.13488405,\n",
       "       10.61557844, 10.89093128, 10.2105364 , 10.16217174, 10.255604  ,\n",
       "       10.63490977, 10.21899614, 10.76335564, 10.24769569, 11.89379093,\n",
       "       10.40626908, 10.1229628 , 11.15959308, 10.49784067, 10.48292141,\n",
       "       15.54486154, 15.88650603, 10.28337235, 10.31860408, 15.93982256,\n",
       "       10.12350452, 10.00878845, 13.01780511, 10.02814876, 12.98631326,\n",
       "       10.47838914, 11.46667448, 13.61101934, 10.12798317, 10.31605161,\n",
       "       10.84134018, 11.3357081 , 10.22920118, 10.62729419, 14.14633816,\n",
       "       10.09617041, 10.35856191, 11.61867307, 11.53125407, 10.49174157,\n",
       "       10.58230989, 12.46859636, 12.254378  , 11.05063461, 10.05308928,\n",
       "       10.33630169, 10.13487573, 10.23650027, 11.0949454 , 12.12684255,\n",
       "       12.22684188, 10.83277683, 12.7337212 , 12.75471112, 11.1344346 ,\n",
       "       10.16479394, 10.35781833, 10.13874956, 12.06217134, 10.24688099,\n",
       "       10.0761881 , 10.62872285, 10.58527551, 10.54417156, 11.10538088,\n",
       "       10.70468049, 10.83019688, 11.62126092, 10.67598603, 10.08000704,\n",
       "       12.02542014, 10.19530802, 10.04808933, 10.3039951 , 10.17813359,\n",
       "       11.17483856, 10.54506825, 10.29035183, 10.91876552, 10.38238943,\n",
       "       10.92900492, 10.05576349, 10.24702813, 13.69702239, 14.01471132,\n",
       "       10.24483954, 10.54360354, 11.85597765, 10.07109109, 10.47484858,\n",
       "       10.9434566 , 11.16458809, 10.84255047, 11.51476962, 10.24627478,\n",
       "       10.13798637, 12.61042301, 12.25850177, 10.33073128, 11.05817117,\n",
       "       10.78837872, 11.2505236 , 10.32129523, 10.28342395, 11.38544355,\n",
       "       11.11067105, 10.40848777, 11.84305256, 12.05666462, 10.21951359,\n",
       "       10.0403725 , 10.89675964, 10.82614498, 10.10687796, 10.145319  ,\n",
       "       10.08034646, 10.13260606, 11.45957386, 10.8305438 , 12.22712988,\n",
       "       10.84258666, 12.24391056, 11.97446088, 11.52099208, 10.62554498,\n",
       "       11.45394464, 10.28866802, 10.76432809, 10.68230909, 12.46900671,\n",
       "       10.18273124, 10.03204405, 13.45058562, 11.65394061, 10.40735642,\n",
       "       10.58314162, 12.16036297, 11.12180018, 10.82914984, 10.40135794,\n",
       "       11.4932652 , 11.34450876, 10.18190311, 14.79071638, 10.00688522,\n",
       "       10.93504977, 10.63755918, 12.80210001, 10.19165912, 12.77197831,\n",
       "       10.17151809, 11.16502056, 10.13169826, 13.57289586, 10.59218168,\n",
       "       10.28443809, 12.89345427, 10.33743539, 10.92462198, 10.34805822,\n",
       "       11.31437323, 10.90455263, 10.54550966, 10.66532671, 10.29017323,\n",
       "       10.21322548, 10.90313698, 12.14050662, 11.14630298, 10.32201071,\n",
       "       10.11572673, 11.11252089, 11.07615241, 10.83477376, 11.21467322,\n",
       "       10.87927882, 10.20761795, 10.49633167, 11.57362985, 11.21813208,\n",
       "       17.65064934, 10.20628488, 12.51744399, 10.75764133, 10.13383558,\n",
       "       11.06483164, 11.66918725, 11.5573695 , 10.19473975, 10.59972668,\n",
       "       10.04594526, 10.70361625, 10.25668598, 10.63101756, 11.48525236,\n",
       "       11.68496529, 10.6934894 , 14.29454873, 16.98401061, 10.22071608,\n",
       "       14.02106587, 10.71474578, 10.42276495, 12.07034809, 10.90344617,\n",
       "       10.0924649 , 10.50040747, 10.34151883, 10.48200846, 10.45016186,\n",
       "       10.84035754, 10.52558644, 10.70221398, 10.78862361, 10.49942913,\n",
       "       14.26209561, 11.97009923, 10.42459761, 10.66603403, 10.04733154,\n",
       "       10.2876499 , 10.04588347, 10.13592942, 12.79383348, 10.80516438,\n",
       "       10.97712791, 10.30932182, 10.04583757, 10.76997064, 12.73308002,\n",
       "       10.49384598, 10.22746506, 11.02159244, 12.3254874 , 10.24320399,\n",
       "       10.28895869, 10.16701405, 12.23657415, 10.74453025, 10.90283845,\n",
       "       10.21078143, 10.31633368, 11.8549018 , 11.97943333, 10.16856425,\n",
       "       10.27369049, 10.11892426, 10.29745026, 10.31863955, 10.9322557 ,\n",
       "       10.09110244, 10.77117106, 12.3787902 , 11.00796119, 10.6603536 ,\n",
       "       10.88299579, 11.23746367, 10.36340975, 10.02002764, 11.49670137,\n",
       "       10.94599798, 10.63983833, 10.41593379, 11.87505792, 11.94911463,\n",
       "       12.6103954 , 11.50816913, 12.6849178 , 11.11179715, 11.42974964,\n",
       "       12.13866864, 11.86313243, 10.09499112, 12.31486858, 10.19766325,\n",
       "       12.02601322, 13.06338191, 10.86923957, 10.6737338 , 10.81778637,\n",
       "       10.59990953, 10.42763205, 10.06508607, 12.85815475, 10.52771683,\n",
       "       11.59833919, 10.18893015, 10.04273357, 11.00762737, 10.64154537,\n",
       "       10.95423893, 10.71850812, 12.11079598, 10.03119043, 11.97855961,\n",
       "       12.08651696, 10.74024198, 11.32756684, 10.71750627, 10.99879149,\n",
       "       10.43788288, 11.4758796 , 10.57462128, 11.8119259 , 11.18423057,\n",
       "       11.20527298, 13.3641581 , 11.52466539, 10.20306109, 11.34213406,\n",
       "       11.33762058, 11.4865957 , 11.82551788, 10.66633361, 10.65173441,\n",
       "       11.75521258, 10.23382868, 10.97842843, 13.08735032, 10.31082726,\n",
       "       10.73069453, 10.76327502, 11.03945819, 12.42064091, 10.65165315,\n",
       "       10.49500834, 10.91758391, 12.48234595, 12.47207636, 11.89364283,\n",
       "       10.27294524, 11.17141075, 10.4830806 , 10.02008869, 10.04424136,\n",
       "       10.46897337, 10.32168177, 10.62597149, 10.78594599, 10.48452033,\n",
       "       11.34445315, 12.70292966, 11.31644131, 11.00143024, 11.52099643,\n",
       "       10.87323799, 10.00945892, 11.14485675, 11.53185878, 10.26438482,\n",
       "       12.61181415, 12.28566264, 10.59620179, 10.02547322, 12.50781191,\n",
       "       11.61586611, 10.58198411, 10.14623044, 10.27389355, 10.02971885,\n",
       "       10.54809547, 11.80776543, 10.22104531, 10.24348231, 12.55963267,\n",
       "       10.7751913 , 10.29593342, 10.43083816, 10.94238404, 11.14695077,\n",
       "       10.17223198, 10.379481  , 11.81193127, 10.32619759, 10.26467482,\n",
       "       10.57919671, 16.5760595 , 10.40789878, 10.16072685, 11.70625079,\n",
       "       12.19700073, 10.97940446, 13.17174767, 11.24512276, 11.85825404,\n",
       "       10.71467617, 10.68424013, 10.25784594, 10.08013064, 10.85856246,\n",
       "       10.18470483, 10.58162322, 10.59378568, 10.12913738, 12.00305205,\n",
       "       10.41537752, 11.25074214, 10.75961503, 10.51215975, 11.52273727,\n",
       "       11.08536402, 10.65550669, 10.88776623, 11.94961256, 10.9195347 ,\n",
       "       10.66258992, 10.19408557, 10.86706835, 10.51867846, 10.35785711,\n",
       "       10.11085724, 10.10895776, 10.99753997, 11.06914835, 10.54676454,\n",
       "       10.27717223, 11.87753756, 10.39727794, 10.29324025, 10.87249798,\n",
       "       10.21406683, 10.44439055, 10.11957344, 10.29606373, 10.24419658,\n",
       "       11.29663571, 10.37287646, 14.13740429, 10.42974413, 10.60813852,\n",
       "       10.4636061 , 13.75554848, 10.29419085, 10.07098712, 14.83045155,\n",
       "       10.31565893, 10.08836919, 14.56325738, 11.20894823, 12.6441939 ,\n",
       "       11.81596206, 11.38395437, 10.65945595, 10.39589925, 11.68295699,\n",
       "       10.77819054, 10.89025619, 10.25513157, 12.53283401, 10.79145094,\n",
       "       10.79296465, 12.65694954, 11.85515303, 10.56820393, 10.67276042,\n",
       "       10.6138789 , 11.35466275, 14.2856429 , 11.50591267, 10.18594791,\n",
       "       11.34466096, 10.21067398, 10.50906961, 10.35804324, 10.01199325,\n",
       "       11.43896533, 12.32117025, 11.8274931 , 11.64950741, 12.07464868,\n",
       "       10.10150678, 10.97700649, 10.68665821, 11.48088217, 10.14595981,\n",
       "       10.14733896, 10.02087883, 10.46978624, 10.00989627, 10.9443371 ,\n",
       "       10.30456927, 12.50718705, 10.19093531, 10.69164675, 11.21697145,\n",
       "       11.41179744, 10.59920779, 10.67715221, 10.75181773, 11.00801586,\n",
       "       12.30272721, 10.59964907, 10.08143653, 13.91724405, 15.13874747,\n",
       "       12.48441633, 10.73396551, 11.56365106, 13.27386563, 10.29244502,\n",
       "       10.57569735, 10.845901  , 13.17760324, 11.12064455, 10.11977779,\n",
       "       11.55774084, 10.62611252, 10.35510037, 10.16100436, 10.25103539,\n",
       "       12.23047978, 10.8494833 , 11.22266931, 10.45363555, 11.45411709,\n",
       "       10.36053258, 10.23744036, 11.15068766, 11.90206318, 10.0942538 ,\n",
       "       10.20160946, 10.9059698 , 10.11974354, 10.87268002, 10.86673086,\n",
       "       10.61559538, 12.26917728, 10.82121007, 10.73749629, 11.09098402,\n",
       "       11.05146575, 10.28458719, 10.25878607, 10.02956532, 11.16219251,\n",
       "       10.14994708, 10.02643581, 10.87273888, 10.19111315, 12.27501601,\n",
       "       10.02409375, 12.52790066, 10.12554378, 10.99723466, 10.17858556,\n",
       "       10.93774104, 12.08952179, 10.23595723, 10.75461848, 10.62927505,\n",
       "       11.11665277, 10.52018991, 10.47182821, 11.39771106, 11.86687893,\n",
       "       11.29811962, 10.19815215, 11.13868822, 10.0540954 , 10.23443418,\n",
       "       10.39299203, 10.05442766, 12.35891028, 10.84299972, 12.27060959,\n",
       "       12.17261094, 10.24857469, 10.81490183, 11.11443725, 10.40917251,\n",
       "       10.90712339, 10.03849053, 11.33031697, 18.05046201, 10.19474902,\n",
       "       12.40397034, 10.88259797, 14.67692088, 10.32799759, 12.41688737,\n",
       "       11.90458625, 12.05709755, 10.14953339, 10.04556851, 11.75123185,\n",
       "       12.79145368, 10.09365862, 10.9303055 , 10.10744178, 10.87218683,\n",
       "       10.26663753, 12.74911497, 10.5675337 , 10.38729522, 10.85781461,\n",
       "       11.19940239, 11.754362  , 10.40535908, 14.26148099, 10.49722635,\n",
       "       11.93366862, 11.4782612 , 14.5919384 , 12.69398906, 10.37433653,\n",
       "       10.06297797, 10.25195312, 10.6916359 , 10.20485319, 10.76372737,\n",
       "       10.22472684, 10.31678986, 10.83324306, 11.34486882, 10.5665839 ,\n",
       "       10.15134811, 10.93374335, 11.72556065, 11.02989046, 12.15604769,\n",
       "       11.781852  , 11.79207696, 10.22949075, 12.53553467, 11.26995895,\n",
       "       13.97984876, 10.09479061, 10.60086042, 10.62663159, 10.96409676,\n",
       "       10.44723233, 10.64614397, 10.56109604, 10.16739517, 10.42470488,\n",
       "       10.49373692, 10.51086949, 10.90133898, 11.34017478, 15.54231567,\n",
       "       10.78638318, 13.28180889, 10.87549582, 12.00304564, 10.25850288,\n",
       "       11.22953382, 11.28515926, 10.07240428, 11.40397978, 11.65487353,\n",
       "       10.57549662, 11.69465037, 11.07445772, 11.3354486 , 14.72471044,\n",
       "       10.13488351, 11.28149159, 10.12582908, 10.41731416, 10.61120828,\n",
       "       10.28246457, 11.4129358 , 11.94536618, 11.34827894, 10.37257732,\n",
       "       10.96605352, 10.24807156, 10.03634316, 12.12853952, 11.05173695,\n",
       "       11.49008027, 10.30847525, 10.28747907, 10.0048253 , 10.25268976,\n",
       "       10.75824085, 11.16867011, 10.00316642, 13.98026706, 12.08142835,\n",
       "       10.97197289, 10.09117735, 11.02625722, 10.84371597, 10.66652771,\n",
       "       10.22060565, 10.38749137, 10.11239069, 11.06563615, 10.0611658 ,\n",
       "       13.8192179 , 10.53994504, 10.59506219, 12.344646  , 10.07522457,\n",
       "       11.15264889, 10.99150406, 11.26078086, 11.55279545, 12.53418991,\n",
       "       13.01997395, 10.08424384, 11.82729272, 10.83122956, 10.13540787,\n",
       "       11.57522556, 11.6170494 , 10.90399945, 10.05766038, 10.67103503,\n",
       "       12.16464984, 10.66444027, 10.40666717, 10.27590689, 11.11871141,\n",
       "       11.24644261, 11.15560739, 12.50949778, 10.22355125, 10.45150107,\n",
       "       10.20275354, 13.1249637 , 12.04864013, 10.66914909, 10.02976403,\n",
       "       10.50187903, 11.76066683, 10.99859296, 10.90722492, 10.04212644,\n",
       "       11.01235699, 12.50321306, 12.51510414, 11.13476782, 10.21972516,\n",
       "       11.12490209, 11.81415432, 10.21550578, 10.59136514, 11.38528203,\n",
       "       10.33617534, 11.01514296, 11.20438124, 10.00046215, 10.31384039,\n",
       "       10.4003077 , 10.38332318, 12.65742031, 10.133857  , 10.0394338 ,\n",
       "       10.42561757, 11.04344354, 10.10069687, 12.51552407, 11.50843221,\n",
       "       11.53138918, 11.7136942 , 10.59941427, 10.32486503, 10.03441884,\n",
       "       11.00758178, 10.73677879, 10.21210999, 10.64792827, 10.01515786,\n",
       "       11.27992876, 10.63715702, 10.57927807, 10.16946013, 10.00516551,\n",
       "       11.36947975, 10.31524963, 10.49562996, 10.13995222, 10.31775725,\n",
       "       11.55118483, 12.35108662, 10.04396632, 10.09278873, 11.13457366,\n",
       "       11.04255369, 10.4165508 , 10.08034859, 11.21686377, 10.69666443,\n",
       "       12.151829  , 10.91027067, 11.0351561 , 13.61175242, 10.32965452,\n",
       "       10.00346694, 10.53616532, 10.78211515, 10.46046792, 10.11017649,\n",
       "       10.1212884 , 10.25029864, 11.64000422, 10.48233757, 10.47435718,\n",
       "       10.0283478 , 11.90501699, 10.67481659, 10.1057881 , 11.23043973,\n",
       "       10.15784793, 10.83204353, 12.02838667, 10.53932657, 10.60825549,\n",
       "       10.60682692, 10.77824795, 10.41741125, 10.29430414, 12.35036209,\n",
       "       10.20006774, 10.16201883, 10.14639344, 10.02545731, 10.60904618,\n",
       "       10.62918304, 10.02348768, 11.49618218, 12.19654059, 10.55051399,\n",
       "       10.15435128, 11.10079211, 11.69807682, 10.50493101, 10.31081532,\n",
       "       12.28318938, 10.81287339, 10.53792771, 10.15090432, 10.14153905,\n",
       "       11.94516119, 13.52494525, 12.67777283, 10.88844669, 11.90836321,\n",
       "       11.10697533, 11.86302034, 10.93304502, 11.28304685, 10.12276803,\n",
       "       10.08046198, 12.97260349, 11.14855148, 11.09725187, 10.09283582,\n",
       "       12.41349014, 11.1949475 , 11.17880363, 11.46129742, 11.6135169 ,\n",
       "       10.52527989, 10.13233344, 11.56357298, 11.09460734, 10.76558495,\n",
       "       11.78756907, 10.04316988, 11.32185188, 10.5162156 , 10.42421828,\n",
       "       10.60371497, 10.78142174, 10.8532328 , 10.44927544, 11.99439673,\n",
       "       11.298347  , 10.06667095, 10.05810947, 15.13503396, 10.08745006,\n",
       "       10.51832058, 10.69953607, 12.81705357, 11.66372771, 10.50738969,\n",
       "       10.06701454, 10.89985332, 10.06136646, 12.34994274, 11.44338151,\n",
       "       10.36567844, 10.77141226, 10.03275404, 10.55830941, 12.75917849,\n",
       "       10.2618933 , 13.59472859, 11.18560686, 10.42364333, 11.14640175,\n",
       "       11.23501231, 14.5738219 , 12.12994102, 10.68379844, 10.06698997,\n",
       "       10.53884378, 11.57959545, 10.0168009 , 11.02204375, 10.12438144,\n",
       "       10.35776822, 10.1807875 , 10.23707101, 14.43212914, 10.375066  ,\n",
       "       10.07405275, 10.6342512 , 11.51058866, 11.28251993, 10.4845228 ,\n",
       "       11.05744078, 10.67948848, 10.07647011, 10.74259433, 11.01551939,\n",
       "       12.38721856, 10.33810967, 10.05160121, 10.3828437 , 10.13778025,\n",
       "       12.87698509, 10.98057888, 10.33594308, 12.04611124, 12.29399814,\n",
       "       10.30481351, 13.53618701, 11.23291616, 10.08496387, 10.16649384,\n",
       "       10.40209438, 11.17576171, 11.7702961 , 10.1219757 , 11.5845119 ,\n",
       "       12.04353647, 11.702769  , 10.45906336, 11.28861495, 10.27797708,\n",
       "       10.89076636, 12.31638831, 10.12873534, 10.79731924, 10.18367136,\n",
       "       10.05925386, 10.03334633, 10.47320391, 10.10957798, 10.99534395,\n",
       "       10.72597844, 12.06806834, 15.35508761, 10.28833267, 10.3516007 ,\n",
       "       10.13832292, 11.03510302, 10.7392175 , 10.86856279, 11.8313322 ,\n",
       "       10.03943805, 11.2035043 , 12.85721888, 11.1925545 , 13.48223151,\n",
       "       11.58403877, 10.20128553, 10.52672469, 11.05318469, 10.0693614 ,\n",
       "       11.56274438, 12.28197845, 11.42184711, 10.48568466, 10.95892615,\n",
       "       10.01927506, 10.18149485, 10.39526295, 10.24027791, 10.16249718,\n",
       "       11.01059188, 14.17470357, 12.79453869, 10.07276849, 11.55768615])"
      ]
     },
     "execution_count": 119,
     "metadata": {},
     "output_type": "execute_result"
    }
   ],
   "source": [
    "sample"
   ]
  },
  {
   "cell_type": "code",
   "execution_count": 127,
   "metadata": {},
   "outputs": [
    {
     "data": {
      "text/plain": [
       "<AxesSubplot:ylabel='Count'>"
      ]
     },
     "execution_count": 127,
     "metadata": {},
     "output_type": "execute_result"
    },
    {
     "data": {
      "image/png": "[encoded data removed]",
      "text/plain": [
       "<Figure size 432x288 with 1 Axes>"
      ]
     },
     "metadata": {
      "needs_background": "light"
     },
     "output_type": "display_data"
    }
   ],
   "source": [
    "sns.histplot(sample)"
   ]
  },
  {
   "cell_type": "code",
   "execution_count": 121,
   "metadata": {},
   "outputs": [],
   "source": [
    "my_e = expon(100)"
   ]
  },
  {
   "cell_type": "code",
   "execution_count": 122,
   "metadata": {},
   "outputs": [
    {
     "data": {
      "text/plain": [
       "array([101.57172721, 100.2614343 , 100.02902649, 100.33420482,\n",
       "       100.06866519, 100.24905934, 100.62303776, 100.06739532,\n",
       "       100.15054648, 100.14129445, 100.1443974 , 100.47950762,\n",
       "       100.32572979, 102.83019745, 100.27370182, 103.57099945,\n",
       "       100.96099544, 100.72065256, 100.51855224, 101.30639615,\n",
       "       101.56616045, 101.87323308, 101.92838951, 100.42093   ,\n",
       "       100.26868651, 101.10900606, 101.91993879, 100.97771544,\n",
       "       100.30082671, 100.09009645, 100.11071541, 100.59979239,\n",
       "       101.35169913, 101.29111392, 100.55730882, 101.39379291,\n",
       "       103.41273027, 100.03210114, 100.97943387, 100.65548505,\n",
       "       100.02185469, 101.07349665, 100.1653077 , 100.39081319,\n",
       "       100.07241122, 101.32405737, 100.3857697 , 100.1113807 ,\n",
       "       100.4959386 , 101.57108469, 101.50964455, 101.0968544 ,\n",
       "       101.17392298, 101.62934409, 101.5103936 , 100.67527631,\n",
       "       100.44450728, 100.09028801, 101.96703651, 100.6320315 ,\n",
       "       100.2085539 , 100.39971486, 100.5342337 , 100.11199799,\n",
       "       100.81816384, 101.12049301, 100.18429002, 100.88943873,\n",
       "       102.05885939, 102.4552043 , 101.02784638, 100.52624702,\n",
       "       102.97171825, 100.77616074, 102.83260991, 101.36260112,\n",
       "       101.83700609, 101.46720516, 100.80286742, 100.85471346,\n",
       "       101.30554079, 101.27800091, 100.87015345, 100.07468652,\n",
       "       102.00206053, 100.57455881, 101.3571236 , 101.20090402,\n",
       "       100.98157704, 100.42408107, 100.02036092, 100.15643284,\n",
       "       101.10292952, 101.92147917, 101.67119028, 100.08234686,\n",
       "       100.382105  , 101.36486949, 100.00834338, 102.52756217,\n",
       "       104.25742926, 102.15997207, 100.27724611, 102.38278322,\n",
       "       100.26947224, 100.17395166, 100.10229512, 101.17022263,\n",
       "       100.01161729, 100.42414617, 102.51059585, 100.46197907,\n",
       "       100.31476689, 101.06170007, 100.14599619, 101.555697  ,\n",
       "       100.78617231, 100.37626452, 100.58150516, 100.03953057,\n",
       "       102.16645058, 100.01893109, 100.86203426, 100.17430769,\n",
       "       100.14021609, 102.05344717, 100.34499553, 100.03231327,\n",
       "       100.48492998, 100.31034913, 100.43545132, 103.45101781,\n",
       "       102.20072836, 101.39992817, 102.09388943, 100.7172001 ,\n",
       "       101.50291402, 104.85458753, 100.61982848, 101.0739707 ,\n",
       "       100.92376939, 101.5680154 , 100.04455703, 100.18048141,\n",
       "       100.96368032, 100.81799888, 100.69147226, 104.21762296,\n",
       "       100.17153083, 100.38397575, 101.09903826, 101.38018485,\n",
       "       103.94033502, 100.01851005, 101.58031544, 101.36794485,\n",
       "       101.64802851, 101.006152  , 100.72339213, 101.62612631,\n",
       "       100.01201275, 100.28191057, 100.48345796, 100.66454486,\n",
       "       101.08047519, 100.15904127, 101.49350521, 100.30002199,\n",
       "       104.43026162, 100.89374005, 101.22061687, 100.62841104,\n",
       "       100.56931473, 100.99001246, 101.42569691, 103.60494293,\n",
       "       101.36114974, 100.17879496, 100.26912995, 100.21525909,\n",
       "       100.85048151, 101.12960723, 101.75852953, 100.63655376,\n",
       "       101.6687659 , 100.97429385, 100.60983811, 100.86447262,\n",
       "       100.62652203, 100.87702203, 100.31054989, 101.26565054,\n",
       "       101.24916186, 101.02338858, 101.42969155, 101.34389097,\n",
       "       100.28654839, 100.14364942, 102.04035009, 100.64292946,\n",
       "       100.08332045, 100.31572366, 100.51798266, 100.42179197,\n",
       "       100.07828239, 100.09802591, 100.37223612, 101.43199117,\n",
       "       101.22680037, 100.16489648, 100.45277871, 100.51896209,\n",
       "       100.03196068, 100.21183518, 100.09285445, 100.31840235,\n",
       "       100.71135048, 100.1352971 , 100.21962313, 100.7324896 ,\n",
       "       102.4365403 , 100.68317782, 100.19629015, 100.79719969,\n",
       "       102.16136509, 104.14574405, 106.18924545, 100.46139885,\n",
       "       100.52786811, 101.54718025, 100.09936903, 102.22685355,\n",
       "       100.18584874, 100.46001823, 101.02762484, 100.44251788,\n",
       "       102.18311755, 101.3744137 , 102.12016013, 102.83577639,\n",
       "       100.01158197, 100.0933104 , 101.52943501, 100.94424187,\n",
       "       100.61505926, 100.67417813, 100.06078638, 103.07565608,\n",
       "       100.56061855, 100.48174494, 100.53880222, 100.40416046,\n",
       "       100.1545531 , 100.22247084, 100.38845637, 102.10222561,\n",
       "       100.53550548, 102.10566681, 100.15802705, 100.74962639,\n",
       "       104.87312758, 101.00057158, 100.44153391, 100.8298904 ,\n",
       "       101.01469706, 100.23995572, 100.8673399 , 102.43477378,\n",
       "       100.0807005 , 101.61118994, 100.13736323, 100.47597087,\n",
       "       100.15113791, 101.37709882, 100.77583178, 102.39494895,\n",
       "       100.72279169, 100.29930231, 102.83294572, 100.78506542,\n",
       "       100.17924863, 100.16995819, 100.41014182, 100.03835592,\n",
       "       101.17187972, 100.52143074, 102.68421056, 100.2766349 ,\n",
       "       100.24580014, 100.12298511, 100.78603802, 101.23926099,\n",
       "       100.90151203, 102.19497903, 101.70829955, 100.86685216,\n",
       "       101.93948496, 100.18847108, 102.37490363, 103.26289285,\n",
       "       100.17857169, 101.63096984, 106.9786576 , 101.7740661 ,\n",
       "       100.59346718, 100.38481474, 100.40754908, 100.8603806 ,\n",
       "       100.04516598, 101.83950955, 100.05549424, 100.84367756,\n",
       "       100.10358542, 101.14697471, 101.19134493, 100.11244018,\n",
       "       101.97516087, 100.5465277 , 100.22173654, 100.33439582,\n",
       "       100.05426253, 100.6770888 , 100.35738009, 100.35780828,\n",
       "       100.3796766 , 101.46551647, 100.79015464, 100.43502078,\n",
       "       101.49423795, 101.08941422, 101.29742692, 100.31023639,\n",
       "       101.06474013, 101.07914816, 100.65529115, 103.43401751,\n",
       "       100.4139017 , 100.75977144, 100.44893933, 101.89673999,\n",
       "       100.2613649 , 101.20187189, 100.48152139, 101.06148373,\n",
       "       100.03857361, 100.78913869, 101.77026243, 101.45001421,\n",
       "       100.64083987, 100.05317426, 101.0310092 , 103.62777223,\n",
       "       101.5704393 , 101.87961179, 101.0414566 , 100.28877524,\n",
       "       101.21040389, 101.2631727 , 100.53039928, 100.15920156,\n",
       "       100.16606806, 101.0868287 , 100.56459653, 100.49092767,\n",
       "       100.24863946, 102.13366113, 101.64235245, 100.24887286,\n",
       "       100.35676121, 101.13299517, 100.52684033, 100.2129023 ,\n",
       "       103.56127505, 100.64459146, 100.13782868, 100.32395493,\n",
       "       102.46344174, 100.37702906, 100.89178508, 100.16229178,\n",
       "       100.27391689, 101.38676963, 101.71783308, 100.89371596,\n",
       "       100.48084953, 100.00767756, 100.80744318, 103.23230983,\n",
       "       100.34945393, 100.47974251, 104.56904275, 100.15614874,\n",
       "       100.05714936, 100.08643068, 100.26674302, 100.09623199,\n",
       "       100.33932258, 100.95781617, 101.36886799, 101.00232129,\n",
       "       100.07165632, 100.74845059, 100.41228974, 100.34207238,\n",
       "       100.74179038, 101.83577109, 100.08830476, 101.17587351,\n",
       "       100.25209761, 100.02650972, 100.0018733 , 100.25740271,\n",
       "       100.8756038 , 102.2304353 , 100.09751729, 101.42664593,\n",
       "       100.71710382, 100.00474786, 101.65902788, 101.26291884,\n",
       "       101.12166775, 100.01345515, 101.23281214, 100.13080189,\n",
       "       101.99819926, 100.25059955, 101.0405496 , 100.7064699 ,\n",
       "       100.04788549, 100.2223766 , 101.67747789, 100.04191912,\n",
       "       100.74200267, 100.62890613, 100.86718634, 103.52190385,\n",
       "       100.11781851, 100.5988436 , 100.19401277, 101.10549844,\n",
       "       101.00962865, 101.82950597, 100.33714819, 100.07592003,\n",
       "       100.05454467, 100.24121293, 100.46160405, 100.1344255 ,\n",
       "       101.99473189, 100.41104259, 100.8096737 , 102.99264951,\n",
       "       100.31254953, 101.63850019, 100.56496892, 100.07880574,\n",
       "       101.88037115, 100.69265126, 100.0157265 , 100.2037677 ,\n",
       "       100.04911056, 101.07945966, 100.06953899, 103.33280596,\n",
       "       100.30630936, 101.28513725, 100.56582766, 100.17959792,\n",
       "       100.92239356, 101.10499643, 101.06655914, 101.0535429 ,\n",
       "       100.83663308, 100.12687772, 100.56655171, 100.12941512,\n",
       "       102.68886033, 100.03448023, 100.32885209, 100.33876024,\n",
       "       100.81389026, 102.12232366, 100.60152745, 100.95122404,\n",
       "       100.32369264, 100.64092516, 100.14654163, 100.49834412,\n",
       "       100.89590055, 100.75755488, 100.34128638, 101.7703071 ,\n",
       "       100.83513246, 101.81010496, 100.87137693, 100.88784453,\n",
       "       100.03094932, 100.65407582, 100.27966169, 103.90178781,\n",
       "       100.80834434, 100.08861029, 100.33794095, 100.67915391,\n",
       "       101.51955348, 101.79022745, 101.8152094 , 101.42798546,\n",
       "       101.13359825, 100.177912  , 101.53088185, 100.12082652,\n",
       "       101.29284127, 100.21823093, 100.49154734, 100.17837189,\n",
       "       100.20904194, 100.23514023, 101.47508843, 100.21792011,\n",
       "       101.16627665, 100.3343013 , 100.09970476, 100.08813458,\n",
       "       101.10117015, 100.09810486, 101.82161998, 101.40748472,\n",
       "       101.39862813, 100.44146561, 100.37759148, 100.02776388,\n",
       "       100.57263373, 100.49947738, 100.87069809, 100.50727484,\n",
       "       103.22133334, 101.08878934, 100.80440287, 100.84680519,\n",
       "       100.52405512, 101.42434143, 100.74238853, 103.31200893,\n",
       "       100.60820912, 100.80439456, 101.42277735, 102.31257495,\n",
       "       101.29773955, 100.59135234, 103.58367602, 101.65357027,\n",
       "       100.03611562, 100.56334649, 100.23368344, 100.32618816,\n",
       "       104.45428881, 100.71207138, 100.01901123, 100.98177086,\n",
       "       101.30725688, 102.36046408, 100.73545777, 100.71715275,\n",
       "       102.22752922, 101.1693777 , 101.5331038 , 100.18855136,\n",
       "       102.42051068, 102.29397953, 100.71439386, 102.06855887,\n",
       "       100.36267958, 100.12784388, 100.60166544, 100.13208226,\n",
       "       102.29891691, 100.64533104, 100.0560182 , 101.01414663,\n",
       "       100.79745321, 103.97690349, 100.29320561, 100.54225553,\n",
       "       100.09249299, 103.00211893, 102.34883698, 101.26806377,\n",
       "       102.88477142, 100.49089234, 101.25019737, 100.01042884,\n",
       "       100.35369653, 100.24778468, 100.94601485, 100.59203716,\n",
       "       102.45437818, 100.16554209, 100.12972397, 100.02204726,\n",
       "       100.1859808 , 101.525791  , 100.06987235, 101.25032985,\n",
       "       102.35078639, 100.16967756, 100.69452234, 102.12061682,\n",
       "       102.58515815, 100.41889729, 102.29854346, 101.1982054 ,\n",
       "       100.80404446, 100.56208079, 100.70192361, 105.35699838,\n",
       "       100.59018593, 104.10574885, 102.23034764, 102.77888609,\n",
       "       100.30226488, 100.11814341, 103.03850181, 103.92330938,\n",
       "       100.41397421, 100.98791869, 100.33761345, 101.36388293,\n",
       "       100.7575846 , 100.41108022, 100.82574695, 103.63497638,\n",
       "       100.02364685, 100.55229853, 104.45588662, 100.02763904,\n",
       "       101.87178826, 100.59298752, 100.16468233, 100.56800133,\n",
       "       101.03532776, 100.36834836, 100.28392025, 100.20633231,\n",
       "       105.36593639, 100.22324513, 101.29505633, 100.97585021,\n",
       "       104.7595918 , 101.26412723, 100.94630273, 100.5201475 ,\n",
       "       101.4327306 , 100.16913827, 102.30835043, 100.25760259,\n",
       "       100.72846746, 100.01262725, 100.52735135, 100.28674149,\n",
       "       100.32484004, 101.60664058, 100.84961337, 101.00247749,\n",
       "       104.27782046, 100.1550947 , 100.37592396, 102.32901302,\n",
       "       100.04102128, 103.74183648, 101.25105231, 100.7745146 ,\n",
       "       100.46958268, 101.5035304 , 100.42704783, 101.21687824,\n",
       "       101.2100717 , 100.03858636, 101.2709159 , 100.99645848,\n",
       "       100.35526167, 100.57009813, 100.13298477, 100.60522524,\n",
       "       100.51441261, 103.32065812, 100.76597673, 101.16199582,\n",
       "       102.55999162, 101.0225626 , 100.23931924, 101.03432114,\n",
       "       100.95070396, 101.83636289, 100.76960783, 100.81168657,\n",
       "       100.25853114, 102.20688586, 100.52357815, 100.07076155,\n",
       "       105.06712153, 100.04938529, 103.12880175, 100.78324064,\n",
       "       102.5415685 , 100.32886866, 100.25461695, 100.37866251,\n",
       "       100.03971474, 100.05934255, 101.64835953, 101.91475466,\n",
       "       100.06321425, 101.85454144, 103.83133677, 100.48134775,\n",
       "       100.4738753 , 100.68278186, 100.25930735, 101.07525331,\n",
       "       100.80235873, 100.07729975, 100.21064169, 100.18163983,\n",
       "       100.96726145, 100.90562827, 101.97604231, 100.76560522,\n",
       "       101.24483303, 101.80728007, 100.90113431, 100.00029901,\n",
       "       100.68116606, 103.31095567, 101.11592708, 101.76747869,\n",
       "       100.24894451, 100.58305707, 102.29501951, 106.72672461,\n",
       "       100.81274212, 101.24587363, 100.32446285, 100.47984285,\n",
       "       100.4261737 , 100.358714  , 100.37146517, 100.72511389,\n",
       "       100.9001104 , 102.47972988, 100.4201068 , 100.74952714,\n",
       "       100.11237575, 102.64168431, 100.53004876, 100.25316989,\n",
       "       100.96237401, 100.18154192, 100.04168518, 100.01578622,\n",
       "       100.06485483, 100.65824558, 102.25879527, 100.07566348,\n",
       "       100.52184814, 101.04874993, 102.23573422, 101.15247701,\n",
       "       101.30515773, 102.04509125, 103.29240006, 100.57948077,\n",
       "       100.04690551, 100.24775782, 101.85229436, 100.3040294 ,\n",
       "       101.52200699, 100.28086854, 100.19496238, 101.75876501,\n",
       "       103.81311252, 100.82263523, 100.21490665, 100.55062679,\n",
       "       100.61765211, 100.77832552, 101.86545865, 101.08544274,\n",
       "       100.58175392, 100.69713743, 104.11869587, 102.75265921,\n",
       "       100.00522712, 100.22876406, 100.71954093, 101.52752169,\n",
       "       102.55143584, 100.42719896, 100.658496  , 100.17174658,\n",
       "       101.05306801, 100.92594233, 103.74362325, 101.17771409,\n",
       "       101.18472865, 101.3863658 , 101.06477257, 100.92813508,\n",
       "       100.1096378 , 100.43716261, 100.36068953, 100.27400698,\n",
       "       101.75836825, 100.68130761, 100.25060351, 102.71671379,\n",
       "       100.55419608, 100.20734398, 100.09716403, 100.56991737,\n",
       "       103.10323694, 100.74443707, 101.54102707, 100.64846446,\n",
       "       101.25511921, 100.00004126, 103.07970346, 102.34897771,\n",
       "       101.18107746, 100.34717917, 101.19517201, 102.07474563,\n",
       "       100.51328457, 100.78368344, 100.08871029, 104.38909725,\n",
       "       100.47471951, 100.7271841 , 106.81660808, 100.31586402,\n",
       "       101.53803785, 100.22661588, 100.37888173, 100.51430708,\n",
       "       101.08198794, 100.57666132, 100.12248892, 100.80918906,\n",
       "       101.06264787, 100.24084732, 100.59072684, 102.36657043,\n",
       "       102.21309519, 102.78897573, 100.44205824, 100.23822326,\n",
       "       101.09599632, 102.73202346, 101.35738656, 100.3514603 ,\n",
       "       100.28492048, 100.69335676, 101.37846904, 100.69723217,\n",
       "       100.42325625, 100.36502639, 100.70559779, 102.74662228,\n",
       "       100.68224225, 100.22150733, 100.26212086, 101.64197976,\n",
       "       100.10485165, 100.56238478, 100.96560929, 102.45188341,\n",
       "       101.07421747, 100.60778172, 100.22532209, 100.37581899,\n",
       "       100.20080237, 102.91499417, 100.06110282, 100.55028743,\n",
       "       100.84376405, 100.20647875, 100.229805  , 100.01370869,\n",
       "       100.23535828, 100.1233505 , 102.47875127, 100.67718915,\n",
       "       100.88058071, 100.9730196 , 100.90419676, 100.58101839,\n",
       "       100.44602257, 100.43325177, 100.37475857, 100.02148605,\n",
       "       100.39462694, 102.0278955 , 100.04631428, 104.19246584,\n",
       "       101.06821072, 100.44179785, 105.26534219, 100.59660566,\n",
       "       101.27967542, 100.02431838, 103.55671685, 101.28341361,\n",
       "       102.01789096, 100.16817133, 101.07065187, 101.96078387,\n",
       "       102.59463566, 100.21166181, 100.18376526, 101.96829266,\n",
       "       100.2624589 , 102.9642053 , 100.80222199, 100.92931774,\n",
       "       100.70161181, 100.79813084, 102.48584062, 100.81636765,\n",
       "       100.17681801, 102.03289221, 100.59270338, 100.23394559,\n",
       "       100.30587065, 100.020055  , 100.68564945, 101.21495715,\n",
       "       101.3204889 , 100.39577803, 101.61934893, 101.67148392,\n",
       "       101.83150154, 102.4433035 , 100.69718814, 100.86266594,\n",
       "       102.61363582, 100.08244318, 100.40552399, 100.8915521 ,\n",
       "       100.30021439, 100.57477981, 102.27164097, 102.73189093,\n",
       "       100.48214455, 100.39789206, 105.21849798, 104.10014172,\n",
       "       100.34659921, 100.36476876, 100.47257515, 103.17609296,\n",
       "       102.28288219, 100.10069625, 101.22505495, 100.22053174,\n",
       "       100.16438493, 101.87484812, 100.42967217, 100.44769618,\n",
       "       101.27415276, 101.13013361, 100.69758706, 100.70177181,\n",
       "       100.01114402, 100.25536614, 100.25512214, 102.05989483,\n",
       "       101.29007546, 100.79561916, 100.5158582 , 100.33517375,\n",
       "       101.82251659, 106.01886249, 101.14881086, 100.95797489,\n",
       "       100.26357907, 100.01403109, 101.60122835, 102.84926735,\n",
       "       100.98283681, 100.3269768 , 100.83324787, 100.10042646,\n",
       "       100.08959693, 101.28486672, 100.00740035, 100.01915565,\n",
       "       100.7061651 , 100.67830985, 101.77483607, 100.4672499 ])"
      ]
     },
     "execution_count": 122,
     "metadata": {},
     "output_type": "execute_result"
    }
   ],
   "source": [
    "my_e.rvs(size=1000)"
   ]
  },
  {
   "cell_type": "code",
   "execution_count": 125,
   "metadata": {},
   "outputs": [],
   "source": [
    "sample = my_e.rvs(size=1000)"
   ]
  },
  {
   "cell_type": "code",
   "execution_count": 126,
   "metadata": {},
   "outputs": [
    {
     "data": {
      "text/plain": [
       "array([102.74138386, 101.10544711, 102.91963362, 100.51992059,\n",
       "       100.21309565, 100.24799181, 103.74106096, 100.39158101,\n",
       "       102.1052397 , 100.32336674, 100.01333838, 100.05481354,\n",
       "       103.84176537, 100.17240563, 100.33405282, 101.72592241,\n",
       "       100.00146379, 103.37262171, 100.14187273, 102.03288591,\n",
       "       100.24788137, 101.51476681, 101.98565755, 100.08389824,\n",
       "       100.85515715, 101.16579824, 101.80839129, 101.55517321,\n",
       "       100.77111039, 100.19572767, 100.48635857, 102.25101048,\n",
       "       101.28517925, 101.88134213, 100.9121198 , 101.03281681,\n",
       "       101.12130181, 101.98114068, 100.42161225, 101.63108967,\n",
       "       101.21208354, 103.21540903, 100.19797406, 100.40561089,\n",
       "       101.92100192, 101.20882335, 100.49703118, 100.25663532,\n",
       "       100.01214474, 100.9367096 , 100.53025457, 101.61006618,\n",
       "       101.31463423, 100.89666744, 100.07737573, 102.67868181,\n",
       "       100.25657024, 100.49038548, 100.01221322, 101.67149854,\n",
       "       100.43420004, 101.35095272, 100.11863843, 101.1005661 ,\n",
       "       101.7975315 , 100.07435906, 100.42754284, 100.63215505,\n",
       "       100.0364744 , 100.10618595, 101.94795441, 100.86592841,\n",
       "       102.67295091, 100.09811767, 101.75951243, 101.49764449,\n",
       "       100.19639602, 101.11205668, 100.38214622, 103.54797656,\n",
       "       104.52222498, 100.82405962, 100.22356504, 100.61042133,\n",
       "       100.37892737, 100.64544356, 101.18219962, 101.81303884,\n",
       "       100.84495335, 101.18143861, 102.04788474, 100.51837449,\n",
       "       100.42329999, 100.12419035, 101.58167246, 103.61585789,\n",
       "       100.26742963, 101.63050663, 101.76150909, 100.5103726 ,\n",
       "       100.79619231, 102.91410437, 100.40078559, 100.11660479,\n",
       "       100.11119667, 100.66019801, 100.08876077, 102.7987458 ,\n",
       "       103.24520315, 101.78972724, 100.24142432, 100.89067857,\n",
       "       100.23227456, 100.21819163, 100.08344903, 100.47423541,\n",
       "       101.03015724, 100.29631259, 100.20817297, 102.43505173,\n",
       "       100.56830036, 102.12915597, 103.96997312, 100.53213798,\n",
       "       107.16953917, 100.30843109, 100.16127376, 100.17555213,\n",
       "       101.46961756, 100.62737832, 100.08925089, 100.01285796,\n",
       "       100.91489999, 100.14352896, 101.22119118, 101.60586971,\n",
       "       102.19819752, 101.67376042, 101.81375865, 100.684765  ,\n",
       "       101.36562302, 100.32420272, 101.08730196, 102.04094887,\n",
       "       101.55961806, 100.52907239, 100.58870138, 101.06842776,\n",
       "       100.36955098, 100.03782107, 100.47229778, 100.1144226 ,\n",
       "       100.50847048, 100.0198742 , 102.22697268, 100.18142544,\n",
       "       100.16799866, 101.15891533, 101.21663899, 101.89186805,\n",
       "       100.05288833, 100.246713  , 101.02519358, 102.2196997 ,\n",
       "       100.08922946, 100.00707071, 101.78371659, 100.33183543,\n",
       "       101.56707912, 100.67142819, 100.18683363, 101.01011992,\n",
       "       100.33579227, 105.6136886 , 100.30650913, 102.8313701 ,\n",
       "       100.22327762, 101.30315938, 100.47236185, 100.14688234,\n",
       "       101.04235661, 100.43844172, 100.0320406 , 100.64438906,\n",
       "       100.53013559, 101.326903  , 100.64384273, 102.06335672,\n",
       "       100.97574417, 100.15173893, 100.6178109 , 100.55431334,\n",
       "       102.11407002, 100.14622401, 100.07023418, 101.19101773,\n",
       "       100.36749519, 101.12424071, 100.12483222, 100.48168092,\n",
       "       100.92341089, 101.37199533, 100.33680231, 101.11258231,\n",
       "       100.35802803, 100.23112732, 101.47538333, 102.25342442,\n",
       "       100.28484212, 101.70416941, 100.67151729, 100.02213468,\n",
       "       100.2537224 , 100.39401066, 101.15410067, 101.17573576,\n",
       "       100.3559197 , 102.43818777, 101.16580036, 101.50754172,\n",
       "       101.25541812, 100.32782622, 100.26691749, 100.82199042,\n",
       "       101.31123799, 100.37929434, 100.32245577, 102.16911583,\n",
       "       102.04239537, 100.71964377, 101.9351415 , 100.84241168,\n",
       "       101.7198973 , 100.30514438, 100.38776389, 102.99527708,\n",
       "       100.22725239, 100.14856196, 100.59617864, 101.09058503,\n",
       "       100.0949674 , 100.77057688, 101.1515651 , 101.17828878,\n",
       "       101.94541683, 101.81570923, 100.24510033, 100.0733997 ,\n",
       "       101.05631722, 100.71260916, 101.53409284, 100.65476297,\n",
       "       101.0770765 , 102.30824015, 100.41828391, 101.2895545 ,\n",
       "       102.29089573, 100.11756651, 100.17358812, 100.56200987,\n",
       "       100.34906231, 100.609995  , 100.17191954, 100.52318916,\n",
       "       100.2669502 , 100.02443058, 102.00151081, 100.02396985,\n",
       "       100.19767863, 103.77402484, 100.06315678, 102.14833124,\n",
       "       102.10499165, 105.50938314, 102.47056194, 100.3583191 ,\n",
       "       102.32389186, 102.01445434, 101.25105706, 102.29056759,\n",
       "       101.62838733, 101.4554767 , 103.09084322, 100.01771699,\n",
       "       100.03632025, 102.07301784, 102.21748402, 100.14906346,\n",
       "       102.7219906 , 100.16442379, 100.66193669, 100.21093937,\n",
       "       102.19414994, 102.10973543, 100.01376255, 101.50075655,\n",
       "       101.17608679, 100.58341325, 100.50493271, 100.34894834,\n",
       "       100.87419141, 100.31427217, 102.19733407, 100.7646467 ,\n",
       "       101.05374347, 100.22583003, 101.9562909 , 101.68831787,\n",
       "       102.01036321, 100.32627024, 100.18790296, 102.10762614,\n",
       "       100.22829472, 100.83724359, 100.6661667 , 100.30810772,\n",
       "       100.63937787, 100.49753707, 101.07975232, 101.71641202,\n",
       "       100.04301756, 104.01136055, 100.62746103, 101.08715778,\n",
       "       104.01354663, 100.15975327, 100.44358921, 100.08601899,\n",
       "       101.71352704, 100.54587087, 100.42742588, 100.77047361,\n",
       "       102.88198404, 100.57437826, 101.17195666, 100.55048106,\n",
       "       100.20423486, 100.05836261, 100.97159907, 103.93691901,\n",
       "       100.17431241, 101.52223119, 101.85806679, 100.01033712,\n",
       "       100.21112081, 100.95452141, 100.09548838, 100.8014618 ,\n",
       "       101.65748061, 103.63143752, 100.54432168, 100.51248469,\n",
       "       101.39058523, 100.85114674, 100.44268501, 100.1975482 ,\n",
       "       100.18997066, 100.15871792, 101.52341314, 101.90646593,\n",
       "       100.24263945, 101.09814968, 100.49859911, 101.26918896,\n",
       "       100.6748265 , 101.59461421, 101.3239204 , 100.98446404,\n",
       "       102.12209958, 100.88077785, 102.02699403, 101.57781799,\n",
       "       100.59132312, 100.02617553, 103.10953434, 100.1210901 ,\n",
       "       100.01695341, 101.13560204, 100.53635839, 101.98415109,\n",
       "       100.81352518, 100.21417548, 100.54577616, 100.24209953,\n",
       "       101.56512224, 100.58918434, 100.07385484, 102.51745254,\n",
       "       100.42513882, 101.22692415, 103.07299367, 101.68271027,\n",
       "       101.26953994, 100.09060261, 100.38048155, 101.68675471,\n",
       "       101.71027792, 100.2167296 , 100.94989673, 100.76341957,\n",
       "       101.15473529, 102.26163015, 100.62980623, 100.89640938,\n",
       "       101.83754215, 101.11188189, 100.24079329, 100.38162371,\n",
       "       101.97528141, 100.27474194, 100.79204393, 100.85858951,\n",
       "       100.62475536, 102.30063964, 100.6341605 , 100.26093947,\n",
       "       101.39984663, 101.00229604, 103.40347325, 100.58165877,\n",
       "       100.30758638, 100.47197991, 100.09962298, 100.23591265,\n",
       "       101.22454427, 100.24488085, 101.85294754, 100.29614223,\n",
       "       101.25791954, 100.93785749, 100.69732103, 100.46933505,\n",
       "       100.23865237, 100.90440761, 100.13482289, 101.49372926,\n",
       "       100.02268866, 101.48005426, 101.97714069, 102.1919445 ,\n",
       "       100.32813013, 103.65240114, 100.11955291, 100.20033811,\n",
       "       103.73748346, 100.19687439, 100.05541209, 101.12551438,\n",
       "       100.47921712, 100.01190739, 100.45597339, 101.27902503,\n",
       "       100.3935566 , 101.83174249, 101.51568851, 100.42921616,\n",
       "       103.63688616, 101.23796792, 101.86515402, 100.32193297,\n",
       "       100.52821625, 101.75049892, 100.04964742, 103.07624725,\n",
       "       100.45170505, 100.79075659, 101.41278611, 100.76935926,\n",
       "       100.61086979, 100.47950686, 100.10332955, 100.26833559,\n",
       "       100.06875827, 100.87693883, 100.70063132, 100.92143829,\n",
       "       100.62790883, 100.03601787, 100.59111639, 100.76158279,\n",
       "       100.13443848, 100.73104062, 100.1893884 , 101.09168677,\n",
       "       102.73305264, 102.90720471, 101.52011554, 109.00034463,\n",
       "       100.52292568, 101.92237541, 102.26105838, 100.79137043,\n",
       "       100.24439566, 100.44263523, 100.14533185, 100.21787349,\n",
       "       101.14976969, 100.13092413, 100.70978238, 101.62287806,\n",
       "       102.42379489, 100.41461786, 100.6687516 , 100.11576955,\n",
       "       100.09808615, 100.95514137, 102.45382377, 102.54500013,\n",
       "       100.00058987, 100.16848908, 101.45235158, 100.10400962,\n",
       "       100.44067565, 101.16427613, 100.14542727, 102.46444876,\n",
       "       100.10725136, 100.5348755 , 100.37457228, 100.04729214,\n",
       "       100.91211893, 102.78862727, 100.19320142, 100.19101075,\n",
       "       101.38041452, 102.79992176, 100.15661654, 101.71582509,\n",
       "       103.8201786 , 100.04416961, 100.31601511, 100.99251146,\n",
       "       100.04580486, 100.33859095, 100.06164229, 101.9633224 ,\n",
       "       101.34708393, 100.29435629, 102.67811388, 100.12839294,\n",
       "       100.35733211, 100.56653263, 102.8572198 , 100.95517651,\n",
       "       102.18110762, 101.59242422, 101.51536392, 100.28139174,\n",
       "       101.00071714, 100.10307434, 101.75328704, 100.34007297,\n",
       "       100.29928226, 100.01596496, 100.38087026, 100.67330023,\n",
       "       100.43815089, 100.26257471, 100.24071596, 100.12187734,\n",
       "       100.06030377, 101.23161985, 102.39437522, 101.90195434,\n",
       "       101.10694546, 101.69316724, 100.06480495, 100.01199586,\n",
       "       100.26508672, 100.63937678, 100.49746996, 100.24188597,\n",
       "       101.63731364, 100.08263079, 101.32588814, 101.021233  ,\n",
       "       100.97505025, 101.17653219, 100.36016764, 101.09821026,\n",
       "       100.74450851, 100.0430197 , 101.50596453, 100.27093351,\n",
       "       100.62041825, 100.07989229, 100.29320309, 100.66041201,\n",
       "       100.84532077, 100.34504918, 100.71758623, 100.51215442,\n",
       "       100.89852454, 100.45884704, 100.42475132, 102.18874439,\n",
       "       102.70762376, 100.32403866, 100.04916293, 101.36106889,\n",
       "       101.2507237 , 101.6106394 , 100.96291772, 102.1804395 ,\n",
       "       100.75718047, 100.83489727, 101.57925476, 100.09383473,\n",
       "       101.18662309, 103.419094  , 100.38876679, 100.09950965,\n",
       "       102.21623745, 101.3060934 , 101.84127729, 100.42967694,\n",
       "       105.62778896, 100.26734555, 101.3014622 , 100.66740578,\n",
       "       100.43299464, 102.1982723 , 100.88894234, 100.52369315,\n",
       "       100.26270938, 100.44408727, 100.7840624 , 101.32207811,\n",
       "       100.8830668 , 100.77177742, 101.46576318, 101.61788871,\n",
       "       100.78653104, 104.78823704, 100.60250627, 100.46075449,\n",
       "       101.44655614, 100.18174905, 100.32486324, 101.60145736,\n",
       "       100.92365558, 101.80118336, 107.16980054, 100.24927806,\n",
       "       101.16135228, 101.08411904, 100.53601587, 100.2879101 ,\n",
       "       100.35681245, 100.48463475, 100.54603681, 100.32104507,\n",
       "       100.12571399, 100.02082691, 101.2890863 , 100.50110741,\n",
       "       100.85801985, 100.30146061, 101.59109323, 100.94460911,\n",
       "       101.26320917, 100.86202239, 102.19159616, 100.85518679,\n",
       "       100.2247233 , 101.4025639 , 102.05840734, 100.30004802,\n",
       "       100.59358943, 100.06818455, 100.27608222, 102.07682232,\n",
       "       100.68435624, 101.22153799, 100.57139022, 101.13979989,\n",
       "       100.44835599, 102.51175415, 102.04323941, 100.99367671,\n",
       "       100.12364086, 101.36084751, 101.06677692, 100.41277977,\n",
       "       101.67539974, 100.23465179, 100.03879265, 100.42103365,\n",
       "       103.39527493, 101.07993508, 101.73031862, 100.18593275,\n",
       "       103.08753286, 100.23162075, 100.26346757, 100.18347796,\n",
       "       100.29038773, 100.26972508, 101.63951428, 100.24431665,\n",
       "       101.66079583, 100.42740016, 100.15857748, 100.51020623,\n",
       "       100.61880506, 100.06751541, 100.02015115, 100.26776359,\n",
       "       100.34142172, 102.27817725, 100.15789518, 100.62997442,\n",
       "       100.11113722, 101.5992815 , 100.4157067 , 101.83899505,\n",
       "       100.96056515, 101.42000751, 102.92182789, 100.12752681,\n",
       "       101.06352057, 100.70145711, 101.27163273, 100.39906179,\n",
       "       101.0484005 , 101.06594943, 100.06193758, 102.51262603,\n",
       "       102.96008172, 100.4474291 , 100.01856447, 102.78633351,\n",
       "       102.72150376, 102.65524974, 101.73803898, 100.409299  ,\n",
       "       100.01633932, 100.8995068 , 100.64256077, 100.62213142,\n",
       "       100.0317917 , 101.23437675, 100.11388749, 100.1885892 ,\n",
       "       101.39664332, 100.96316313, 100.04966862, 105.50379261,\n",
       "       100.12344326, 102.41538157, 102.80829259, 100.93965069,\n",
       "       100.46630133, 100.05325871, 100.05280296, 100.38082907,\n",
       "       100.78155253, 101.97521374, 100.93516033, 100.6166125 ,\n",
       "       100.45096565, 100.75424499, 100.9863194 , 100.07527478,\n",
       "       107.3801554 , 101.14241414, 100.02477791, 100.73153469,\n",
       "       100.74804178, 101.58531283, 100.45753587, 101.91223676,\n",
       "       101.23558056, 100.12661356, 102.70772469, 100.11754531,\n",
       "       100.90987126, 100.83891957, 100.77831064, 100.29763565,\n",
       "       100.54549851, 100.63864502, 101.10904966, 102.00415904,\n",
       "       101.10610043, 101.36786582, 102.36874363, 100.01092829,\n",
       "       100.1063137 , 100.01205115, 101.7356568 , 101.42083802,\n",
       "       100.00681107, 101.21497131, 100.29725191, 100.62633546,\n",
       "       101.16485228, 102.461022  , 100.90379462, 105.44123603,\n",
       "       100.52459765, 100.47812682, 100.89188837, 100.22006151,\n",
       "       100.20551311, 100.26164269, 100.81531288, 103.42872449,\n",
       "       100.98041801, 101.58830112, 100.2087768 , 100.38384533,\n",
       "       100.34195154, 102.151848  , 100.26093806, 101.01425811,\n",
       "       100.6385007 , 102.36025859, 100.07717404, 100.8748752 ,\n",
       "       100.29723805, 101.40280053, 100.73853564, 100.14181141,\n",
       "       100.69097915, 100.17823107, 100.18752137, 100.07791499,\n",
       "       102.15610014, 100.79389296, 100.07133378, 100.12516662,\n",
       "       100.12055061, 102.08167526, 100.24405031, 101.06909735,\n",
       "       100.84531829, 100.13288391, 100.62872821, 100.0625296 ,\n",
       "       100.00511935, 100.58477224, 100.63825023, 100.54237854,\n",
       "       100.63808551, 100.36696621, 100.85946746, 101.39319427,\n",
       "       100.00664468, 102.03999676, 103.07748278, 102.1387346 ,\n",
       "       101.29746477, 100.33703902, 100.46488032, 101.48281289,\n",
       "       100.29593104, 100.52672312, 101.95540144, 100.61368261,\n",
       "       101.11341152, 100.93334903, 101.04318792, 101.33168642,\n",
       "       100.46330571, 100.03850852, 100.11299341, 100.19567454,\n",
       "       102.35096299, 100.80986602, 100.44117257, 101.1544379 ,\n",
       "       100.98309531, 101.80754548, 100.48457143, 101.86372229,\n",
       "       100.10686294, 100.48602917, 101.03267843, 100.00233591,\n",
       "       100.42716076, 101.87288373, 101.96661704, 101.54718581,\n",
       "       100.47619731, 100.7887379 , 100.02900497, 100.17850618,\n",
       "       100.22046224, 101.41296915, 100.53579931, 100.49527221,\n",
       "       100.2280731 , 100.07092224, 101.1216532 , 100.49799603,\n",
       "       100.68239181, 104.4369024 , 101.05329076, 100.96286184,\n",
       "       102.24558259, 101.35329453, 100.10832781, 101.77896287,\n",
       "       102.11622642, 100.09817183, 100.36484845, 103.44860145,\n",
       "       100.63609967, 100.28018063, 100.35693147, 100.72833426,\n",
       "       100.044606  , 103.40007714, 100.03508743, 100.20926887,\n",
       "       100.78795076, 104.17743387, 100.70160376, 100.05097517,\n",
       "       103.89581726, 100.25424469, 102.81973367, 102.61825883,\n",
       "       100.37862027, 100.32401503, 102.28115664, 100.10831931,\n",
       "       100.02045903, 100.64420611, 100.19724992, 102.95903548,\n",
       "       100.56107603, 100.99974263, 100.22598688, 101.95659275,\n",
       "       100.58852138, 100.58308459, 102.64550216, 100.57347943,\n",
       "       100.45571564, 100.67079053, 100.35543936, 103.16733969,\n",
       "       101.27513642, 100.0804466 , 104.0898161 , 101.30507568,\n",
       "       100.02816392, 100.69920923, 100.20943082, 101.13349998,\n",
       "       100.74251554, 101.18285043, 100.31364178, 100.14672111,\n",
       "       100.97738791, 100.99986886, 102.42597467, 100.37250891,\n",
       "       101.08232056, 100.55673803, 100.07502584, 100.58732297,\n",
       "       100.34537153, 100.97411186, 100.35738071, 100.01784974,\n",
       "       101.14341335, 100.71656969, 100.97670715, 102.20002617,\n",
       "       101.98139617, 100.2604526 , 102.70738872, 103.43586484,\n",
       "       100.21164987, 101.46432037, 100.52550812, 100.18564619,\n",
       "       100.74122786, 100.03111436, 100.00041741, 100.40976764,\n",
       "       100.23863287, 101.38656536, 101.45341274, 100.58415651,\n",
       "       102.06412598, 101.46513993, 100.71314246, 101.51886325,\n",
       "       101.25167583, 100.54524456, 100.25154045, 103.06359393,\n",
       "       100.22578226, 101.10883561, 102.80864377, 100.1338625 ])"
      ]
     },
     "execution_count": 126,
     "metadata": {},
     "output_type": "execute_result"
    }
   ],
   "source": [
    "sample"
   ]
  },
  {
   "cell_type": "code",
   "execution_count": 128,
   "metadata": {},
   "outputs": [
    {
     "data": {
      "text/plain": [
       "<AxesSubplot:ylabel='Count'>"
      ]
     },
     "execution_count": 128,
     "metadata": {},
     "output_type": "execute_result"
    },
    {
     "data": {
      "image/png": "[encoded data removed]",
      "text/plain": [
       "<Figure size 432x288 with 1 Axes>"
      ]
     },
     "metadata": {
      "needs_background": "light"
     },
     "output_type": "display_data"
    }
   ],
   "source": [
    "sns.histplot(sample)"
   ]
  },
  {
   "cell_type": "markdown",
   "metadata": {},
   "source": [
    "How are the two distributions different?"
   ]
  },
  {
   "cell_type": "code",
   "execution_count": null,
   "metadata": {},
   "outputs": [],
   "source": [
    "# your answer here"
   ]
  },
  {
   "cell_type": "markdown",
   "metadata": {},
   "source": [
    "## Exponential Distribution of Real Data\n",
    "\n",
    "Suppose that the amount of time one spends in a bank is exponentially distributed with mean as 10 minutes (i.e. λ = 1/10). What is the probability that a customer will spend less than fifteen minutes in the bank? \n",
    "\n",
    "Write a code in python to solve this problem"
   ]
  },
  {
   "cell_type": "code",
   "execution_count": null,
   "metadata": {},
   "outputs": [],
   "source": [
    "# your answer here\n",
    "# Hint: This is same as saying P(x<15)"
   ]
  },
  {
   "cell_type": "code",
   "execution_count": 132,
   "metadata": {},
   "outputs": [],
   "source": [
    "my_uniform = uniform(1, 15)"
   ]
  },
  {
   "cell_type": "code",
   "execution_count": 133,
   "metadata": {},
   "outputs": [],
   "source": [
    "sample = my_uniform.rvs(size=10)"
   ]
  },
  {
   "cell_type": "code",
   "execution_count": 134,
   "metadata": {
    "scrolled": true
   },
   "outputs": [
    {
     "data": {
      "text/plain": [
       "array([ 2.72883749, 13.19165274,  2.52713019,  4.07952542,  8.0749991 ,\n",
       "        5.80301216,  5.73659466,  7.38777817, 13.18574475,  1.69026615])"
      ]
     },
     "execution_count": 134,
     "metadata": {},
     "output_type": "execute_result"
    }
   ],
   "source": [
    "sample"
   ]
  },
  {
   "cell_type": "code",
   "execution_count": 135,
   "metadata": {},
   "outputs": [
    {
     "data": {
      "text/plain": [
       "<AxesSubplot:ylabel='Count'>"
      ]
     },
     "execution_count": 135,
     "metadata": {},
     "output_type": "execute_result"
    },
    {
     "data": {
      "image/png": "[encoded data removed]",
      "text/plain": [
       "<Figure size 432x288 with 1 Axes>"
      ]
     },
     "metadata": {
      "needs_background": "light"
     },
     "output_type": "display_data"
    }
   ],
   "source": [
    "sns.histplot(sample)"
   ]
  },
  {
   "cell_type": "markdown",
   "metadata": {},
   "source": [
    "What is the probability that the customer will spend more than 15 minutes"
   ]
  },
  {
   "cell_type": "code",
   "execution_count": null,
   "metadata": {},
   "outputs": [],
   "source": [
    "# your answer here"
   ]
  },
  {
   "cell_type": "code",
   "execution_count": null,
   "metadata": {},
   "outputs": [],
   "source": []
  }
 ],
 "metadata": {
  "kernelspec": {
   "display_name": "Python 3",
   "language": "python",
   "name": "python3"
  },
  "language_info": {
   "codemirror_mode": {
    "name": "ipython",
    "version": 3
   },
   "file_extension": ".py",
   "mimetype": "text/x-python",
   "name": "python",
   "nbconvert_exporter": "python",
   "pygments_lexer": "ipython3",
   "version": "3.8.5"
  }
 },
 "nbformat": 4,
 "nbformat_minor": 2
}
