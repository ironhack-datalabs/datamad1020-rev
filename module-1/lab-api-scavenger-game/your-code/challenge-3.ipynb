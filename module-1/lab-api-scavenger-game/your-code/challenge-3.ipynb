{
 "cells": [
  {
   "cell_type": "code",
   "execution_count": 1,
   "metadata": {},
   "outputs": [
    {
     "data": {
      "text/plain": [
       "True"
      ]
     },
     "execution_count": 1,
     "metadata": {},
     "output_type": "execute_result"
    }
   ],
   "source": [
    "import os\n",
    "from dotenv import load_dotenv\n",
    "import json\n",
    "import requests\n",
    "import re\n",
    "load_dotenv() "
   ]
  },
  {
   "cell_type": "code",
   "execution_count": 2,
   "metadata": {},
   "outputs": [],
   "source": [
    "token = os.getenv('token')"
   ]
  },
  {
   "cell_type": "code",
   "execution_count": 3,
   "metadata": {},
   "outputs": [],
   "source": [
    "header = {'Authorization' : f'token {token}'}"
   ]
  },
  {
   "cell_type": "code",
   "execution_count": 25,
   "metadata": {},
   "outputs": [],
   "source": [
    "repo = 'scavenger'\n",
    "owner ='ironhack-datalabs'"
   ]
  },
  {
   "cell_type": "markdown",
   "metadata": {},
   "source": [
    "voy hacer un arbol de archivos con tree y  los sha. Sacado de stackover..."
   ]
  },
  {
   "cell_type": "code",
   "execution_count": 26,
   "metadata": {},
   "outputs": [],
   "source": [
    "url =f'https://api.github.com/repos/{owner}/{repo}/branches/master' #commit inicial\n",
    "response = requests.get(url,headers = header)"
   ]
  },
  {
   "cell_type": "code",
   "execution_count": 27,
   "metadata": {},
   "outputs": [
    {
     "data": {
      "text/plain": [
       "{'name': 'master',\n",
       " 'commit': {'sha': '9308ccc8a4c34c5e3a991ee815222a9691c32476',\n",
       "  'node_id': 'MDY6Q29tbWl0MTYyMzc1MTgxOjkzMDhjY2M4YTRjMzRjNWUzYTk5MWVlODE1MjIyYTk2OTFjMzI0NzY=',\n",
       "  'commit': {'author': {'name': 'Zhou Zhou',\n",
       "    'email': 'zhou.eye8@gmail.com',\n",
       "    'date': '2018-12-19T03:03:57Z'},\n",
       "   'committer': {'name': 'Zhou Zhou',\n",
       "    'email': 'zhou.eye8@gmail.com',\n",
       "    'date': '2018-12-19T03:03:57Z'},\n",
       "   'message': 'initial commit',\n",
       "   'tree': {'sha': '0d82bf748275dbc1239a11e9157b198d88da7383',\n",
       "    'url': 'https://api.github.com/repos/ironhack-datalabs/scavenger/git/trees/0d82bf748275dbc1239a11e9157b198d88da7383'},\n",
       "   'url': 'https://api.github.com/repos/ironhack-datalabs/scavenger/git/commits/9308ccc8a4c34c5e3a991ee815222a9691c32476',\n",
       "   'comment_count': 0,\n",
       "   'verification': {'verified': False,\n",
       "    'reason': 'unsigned',\n",
       "    'signature': None,\n",
       "    'payload': None}},\n",
       "  'url': 'https://api.github.com/repos/ironhack-datalabs/scavenger/commits/9308ccc8a4c34c5e3a991ee815222a9691c32476',\n",
       "  'html_url': 'https://github.com/ironhack-datalabs/scavenger/commit/9308ccc8a4c34c5e3a991ee815222a9691c32476',\n",
       "  'comments_url': 'https://api.github.com/repos/ironhack-datalabs/scavenger/commits/9308ccc8a4c34c5e3a991ee815222a9691c32476/comments',\n",
       "  'author': {'login': 'eye8',\n",
       "   'id': 1659798,\n",
       "   'node_id': 'MDQ6VXNlcjE2NTk3OTg=',\n",
       "   'avatar_url': 'https://avatars3.githubusercontent.com/u/1659798?v=4',\n",
       "   'gravatar_id': '',\n",
       "   'url': 'https://api.github.com/users/eye8',\n",
       "   'html_url': 'https://github.com/eye8',\n",
       "   'followers_url': 'https://api.github.com/users/eye8/followers',\n",
       "   'following_url': 'https://api.github.com/users/eye8/following{/other_user}',\n",
       "   'gists_url': 'https://api.github.com/users/eye8/gists{/gist_id}',\n",
       "   'starred_url': 'https://api.github.com/users/eye8/starred{/owner}{/repo}',\n",
       "   'subscriptions_url': 'https://api.github.com/users/eye8/subscriptions',\n",
       "   'organizations_url': 'https://api.github.com/users/eye8/orgs',\n",
       "   'repos_url': 'https://api.github.com/users/eye8/repos',\n",
       "   'events_url': 'https://api.github.com/users/eye8/events{/privacy}',\n",
       "   'received_events_url': 'https://api.github.com/users/eye8/received_events',\n",
       "   'type': 'User',\n",
       "   'site_admin': False},\n",
       "  'committer': {'login': 'eye8',\n",
       "   'id': 1659798,\n",
       "   'node_id': 'MDQ6VXNlcjE2NTk3OTg=',\n",
       "   'avatar_url': 'https://avatars3.githubusercontent.com/u/1659798?v=4',\n",
       "   'gravatar_id': '',\n",
       "   'url': 'https://api.github.com/users/eye8',\n",
       "   'html_url': 'https://github.com/eye8',\n",
       "   'followers_url': 'https://api.github.com/users/eye8/followers',\n",
       "   'following_url': 'https://api.github.com/users/eye8/following{/other_user}',\n",
       "   'gists_url': 'https://api.github.com/users/eye8/gists{/gist_id}',\n",
       "   'starred_url': 'https://api.github.com/users/eye8/starred{/owner}{/repo}',\n",
       "   'subscriptions_url': 'https://api.github.com/users/eye8/subscriptions',\n",
       "   'organizations_url': 'https://api.github.com/users/eye8/orgs',\n",
       "   'repos_url': 'https://api.github.com/users/eye8/repos',\n",
       "   'events_url': 'https://api.github.com/users/eye8/events{/privacy}',\n",
       "   'received_events_url': 'https://api.github.com/users/eye8/received_events',\n",
       "   'type': 'User',\n",
       "   'site_admin': False},\n",
       "  'parents': []},\n",
       " '_links': {'self': 'https://api.github.com/repos/ironhack-datalabs/scavenger/branches/master',\n",
       "  'html': 'https://github.com/ironhack-datalabs/scavenger/tree/master'},\n",
       " 'protected': False,\n",
       " 'protection': {'enabled': False,\n",
       "  'required_status_checks': {'enforcement_level': 'off', 'contexts': []}},\n",
       " 'protection_url': 'https://api.github.com/repos/ironhack-datalabs/scavenger/branches/master/protection'}"
      ]
     },
     "execution_count": 27,
     "metadata": {},
     "output_type": "execute_result"
    }
   ],
   "source": [
    "result = response.json()\n",
    "result "
   ]
  },
  {
   "cell_type": "code",
   "execution_count": 28,
   "metadata": {},
   "outputs": [
    {
     "data": {
      "text/plain": [
       "'9308ccc8a4c34c5e3a991ee815222a9691c32476'"
      ]
     },
     "execution_count": 28,
     "metadata": {},
     "output_type": "execute_result"
    }
   ],
   "source": [
    "sha = result['commit']['sha']\n",
    "sha"
   ]
  },
  {
   "cell_type": "code",
   "execution_count": 29,
   "metadata": {},
   "outputs": [],
   "source": [
    "url_tree = f'https://api.github.com/repos/{owner}/{repo}/git/trees/{sha}'"
   ]
  },
  {
   "cell_type": "code",
   "execution_count": 30,
   "metadata": {},
   "outputs": [
    {
     "data": {
      "text/plain": [
       "{'sha': '9308ccc8a4c34c5e3a991ee815222a9691c32476',\n",
       " 'url': 'https://api.github.com/repos/ironhack-datalabs/scavenger/git/trees/9308ccc8a4c34c5e3a991ee815222a9691c32476',\n",
       " 'tree': [{'path': '.gitignore',\n",
       "   'mode': '100644',\n",
       "   'type': 'blob',\n",
       "   'sha': 'e43b0f988953ae3a84b00331d0ccf5f7d51cb3cf',\n",
       "   'size': 10,\n",
       "   'url': 'https://api.github.com/repos/ironhack-datalabs/scavenger/git/blobs/e43b0f988953ae3a84b00331d0ccf5f7d51cb3cf'},\n",
       "  {'path': '15024',\n",
       "   'mode': '040000',\n",
       "   'type': 'tree',\n",
       "   'sha': '2945e51c87ad5da893c954afcf092f06343bbb7d',\n",
       "   'url': 'https://api.github.com/repos/ironhack-datalabs/scavenger/git/trees/2945e51c87ad5da893c954afcf092f06343bbb7d'},\n",
       "  {'path': '15534',\n",
       "   'mode': '040000',\n",
       "   'type': 'tree',\n",
       "   'sha': '5af6f2a7287e4191f39e55693fc1e9c8918d1d3a',\n",
       "   'url': 'https://api.github.com/repos/ironhack-datalabs/scavenger/git/trees/5af6f2a7287e4191f39e55693fc1e9c8918d1d3a'},\n",
       "  {'path': '17020',\n",
       "   'mode': '040000',\n",
       "   'type': 'tree',\n",
       "   'sha': '9c49f920aa4d9433fa99a5824128f0e6b90ec5f2',\n",
       "   'url': 'https://api.github.com/repos/ironhack-datalabs/scavenger/git/trees/9c49f920aa4d9433fa99a5824128f0e6b90ec5f2'},\n",
       "  {'path': '30351',\n",
       "   'mode': '040000',\n",
       "   'type': 'tree',\n",
       "   'sha': 'c488d7f64088c852e22067d48fdc64ee3670f3ba',\n",
       "   'url': 'https://api.github.com/repos/ironhack-datalabs/scavenger/git/trees/c488d7f64088c852e22067d48fdc64ee3670f3ba'},\n",
       "  {'path': '40303',\n",
       "   'mode': '040000',\n",
       "   'type': 'tree',\n",
       "   'sha': '30193d9cf62b07bcbb6366513ff03596861f2d29',\n",
       "   'url': 'https://api.github.com/repos/ironhack-datalabs/scavenger/git/trees/30193d9cf62b07bcbb6366513ff03596861f2d29'},\n",
       "  {'path': '44639',\n",
       "   'mode': '040000',\n",
       "   'type': 'tree',\n",
       "   'sha': '22fc3d5c2db80822c351edb2248f3491c8ebda86',\n",
       "   'url': 'https://api.github.com/repos/ironhack-datalabs/scavenger/git/trees/22fc3d5c2db80822c351edb2248f3491c8ebda86'},\n",
       "  {'path': '45525',\n",
       "   'mode': '040000',\n",
       "   'type': 'tree',\n",
       "   'sha': '6a4a88cd9084110c8646c3cfd84dfe96b300a4a7',\n",
       "   'url': 'https://api.github.com/repos/ironhack-datalabs/scavenger/git/trees/6a4a88cd9084110c8646c3cfd84dfe96b300a4a7'},\n",
       "  {'path': '47222',\n",
       "   'mode': '040000',\n",
       "   'type': 'tree',\n",
       "   'sha': 'c7001604cdadc2fe7b82e0f6996690718cac6941',\n",
       "   'url': 'https://api.github.com/repos/ironhack-datalabs/scavenger/git/trees/c7001604cdadc2fe7b82e0f6996690718cac6941'},\n",
       "  {'path': '47830',\n",
       "   'mode': '040000',\n",
       "   'type': 'tree',\n",
       "   'sha': 'f84882ad7560fd2b8c6a0867bc707ce9009ef288',\n",
       "   'url': 'https://api.github.com/repos/ironhack-datalabs/scavenger/git/trees/f84882ad7560fd2b8c6a0867bc707ce9009ef288'},\n",
       "  {'path': '49418',\n",
       "   'mode': '040000',\n",
       "   'type': 'tree',\n",
       "   'sha': '46bc658c09589d9023246b00e848ce97d30d4989',\n",
       "   'url': 'https://api.github.com/repos/ironhack-datalabs/scavenger/git/trees/46bc658c09589d9023246b00e848ce97d30d4989'},\n",
       "  {'path': '50896',\n",
       "   'mode': '040000',\n",
       "   'type': 'tree',\n",
       "   'sha': 'e47a7a35a19f80694587330c57d94e28d3b4c054',\n",
       "   'url': 'https://api.github.com/repos/ironhack-datalabs/scavenger/git/trees/e47a7a35a19f80694587330c57d94e28d3b4c054'},\n",
       "  {'path': '55417',\n",
       "   'mode': '040000',\n",
       "   'type': 'tree',\n",
       "   'sha': '636fa555a2ee752759144a268fd860feb2b6fd2d',\n",
       "   'url': 'https://api.github.com/repos/ironhack-datalabs/scavenger/git/trees/636fa555a2ee752759144a268fd860feb2b6fd2d'},\n",
       "  {'path': '55685',\n",
       "   'mode': '040000',\n",
       "   'type': 'tree',\n",
       "   'sha': 'a00a8148a88287508a867616d7063786d3d5d4ff',\n",
       "   'url': 'https://api.github.com/repos/ironhack-datalabs/scavenger/git/trees/a00a8148a88287508a867616d7063786d3d5d4ff'},\n",
       "  {'path': '60224',\n",
       "   'mode': '040000',\n",
       "   'type': 'tree',\n",
       "   'sha': '28d70fba98bfacfaa5e5544b2eff6b61c9e8f57b',\n",
       "   'url': 'https://api.github.com/repos/ironhack-datalabs/scavenger/git/trees/28d70fba98bfacfaa5e5544b2eff6b61c9e8f57b'},\n",
       "  {'path': '64880',\n",
       "   'mode': '040000',\n",
       "   'type': 'tree',\n",
       "   'sha': '88b159d6f73378e6968bb35ccfd8e3ad0cc462d2',\n",
       "   'url': 'https://api.github.com/repos/ironhack-datalabs/scavenger/git/trees/88b159d6f73378e6968bb35ccfd8e3ad0cc462d2'},\n",
       "  {'path': '66032',\n",
       "   'mode': '040000',\n",
       "   'type': 'tree',\n",
       "   'sha': '0230fa6fa1ccf49ab976fbbfc9eb838094779785',\n",
       "   'url': 'https://api.github.com/repos/ironhack-datalabs/scavenger/git/trees/0230fa6fa1ccf49ab976fbbfc9eb838094779785'},\n",
       "  {'path': '68848',\n",
       "   'mode': '040000',\n",
       "   'type': 'tree',\n",
       "   'sha': 'ed2f90be6835e7e74c283aedba1942b788754d32',\n",
       "   'url': 'https://api.github.com/repos/ironhack-datalabs/scavenger/git/trees/ed2f90be6835e7e74c283aedba1942b788754d32'},\n",
       "  {'path': '70751',\n",
       "   'mode': '040000',\n",
       "   'type': 'tree',\n",
       "   'sha': 'a5d9391003b67cecf3c336398ec38cfa75a689b7',\n",
       "   'url': 'https://api.github.com/repos/ironhack-datalabs/scavenger/git/trees/a5d9391003b67cecf3c336398ec38cfa75a689b7'},\n",
       "  {'path': '70985',\n",
       "   'mode': '040000',\n",
       "   'type': 'tree',\n",
       "   'sha': 'd1a654c5811f52ec8a101652b0a04367644eab99',\n",
       "   'url': 'https://api.github.com/repos/ironhack-datalabs/scavenger/git/trees/d1a654c5811f52ec8a101652b0a04367644eab99'},\n",
       "  {'path': '88596',\n",
       "   'mode': '040000',\n",
       "   'type': 'tree',\n",
       "   'sha': 'f294d2a0e55a4bab12625a7f709b44450a5e4648',\n",
       "   'url': 'https://api.github.com/repos/ironhack-datalabs/scavenger/git/trees/f294d2a0e55a4bab12625a7f709b44450a5e4648'},\n",
       "  {'path': '89046',\n",
       "   'mode': '040000',\n",
       "   'type': 'tree',\n",
       "   'sha': '5f3ef5f14cf72bbe03a24b69777ba02f19a3adb5',\n",
       "   'url': 'https://api.github.com/repos/ironhack-datalabs/scavenger/git/trees/5f3ef5f14cf72bbe03a24b69777ba02f19a3adb5'},\n",
       "  {'path': '89338',\n",
       "   'mode': '040000',\n",
       "   'type': 'tree',\n",
       "   'sha': '79c94a4032a927b2af52cc6da4ce27eb2abbf55e',\n",
       "   'url': 'https://api.github.com/repos/ironhack-datalabs/scavenger/git/trees/79c94a4032a927b2af52cc6da4ce27eb2abbf55e'},\n",
       "  {'path': '91701',\n",
       "   'mode': '040000',\n",
       "   'type': 'tree',\n",
       "   'sha': '0ad19115f0b56c3cd10cb7e077140c201b527301',\n",
       "   'url': 'https://api.github.com/repos/ironhack-datalabs/scavenger/git/trees/0ad19115f0b56c3cd10cb7e077140c201b527301'},\n",
       "  {'path': '97881',\n",
       "   'mode': '040000',\n",
       "   'type': 'tree',\n",
       "   'sha': 'c369c43c17ec44cc3e66dd27f8e557f9d15d40f4',\n",
       "   'url': 'https://api.github.com/repos/ironhack-datalabs/scavenger/git/trees/c369c43c17ec44cc3e66dd27f8e557f9d15d40f4'},\n",
       "  {'path': '98750',\n",
       "   'mode': '040000',\n",
       "   'type': 'tree',\n",
       "   'sha': 'cdc23915e0a5179127458431986ba3750840a924',\n",
       "   'url': 'https://api.github.com/repos/ironhack-datalabs/scavenger/git/trees/cdc23915e0a5179127458431986ba3750840a924'}],\n",
       " 'truncated': False}"
      ]
     },
     "execution_count": 30,
     "metadata": {},
     "output_type": "execute_result"
    }
   ],
   "source": [
    "response_t = requests.get(url_tree,headers = header)\n",
    "result_t = response_t.json()\n",
    "result_t "
   ]
  },
  {
   "cell_type": "code",
   "execution_count": null,
   "metadata": {},
   "outputs": [],
   "source": []
  }
 ],
 "metadata": {
  "kernelspec": {
   "display_name": "Python 3",
   "language": "python",
   "name": "python3"
  },
  "language_info": {
   "codemirror_mode": {
    "name": "ipython",
    "version": 3
   },
   "file_extension": ".py",
   "mimetype": "text/x-python",
   "name": "python",
   "nbconvert_exporter": "python",
   "pygments_lexer": "ipython3",
   "version": "3.8.5"
  }
 },
 "nbformat": 4,
 "nbformat_minor": 4
}
