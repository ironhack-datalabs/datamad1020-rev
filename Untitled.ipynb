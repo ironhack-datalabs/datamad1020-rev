{
 "cells": [
  {
   "cell_type": "code",
   "execution_count": 6,
   "metadata": {},
   "outputs": [
    {
     "name": "stdout",
     "output_type": "stream",
     "text": [
      "{'alien': 8000.0, 'predator': 152000.0, 'terminator': 1600.0}\n"
     ]
    }
   ],
   "source": [
    "\n",
    "file_1 = {\"name\": \"alien\", \"size_GB\": 38, \"speed_Mbps\": 38}\n",
    "file_2 = {\"name\": \"predator\", \"size_GB\": 38, \"speed_Mbps\": 2}\n",
    "file_3 = {\"name\": \"terminator\", \"size_GB\": 5, \"speed_Mbps\": 25}\n",
    "file_4 = {\"name\": \"zombieland\", \"size_GB\": 38, \"speed_Mbps\": 38}\n",
    "\n",
    "files = [file_1, file_2, file_3]\n",
    "\n",
    "time = {i[\"name\"]:i[\"size_GB\"]*1000/i[\"speed_Mbps\"]*8 for i in files}\n",
    "print(time)"
   ]
  }
 ],
 "metadata": {
  "kernelspec": {
   "display_name": "Python 3",
   "language": "python",
   "name": "python3"
  },
  "language_info": {
   "codemirror_mode": {
    "name": "ipython",
    "version": 3
   },
   "file_extension": ".py",
   "mimetype": "text/x-python",
   "name": "python",
   "nbconvert_exporter": "python",
   "pygments_lexer": "ipython3",
   "version": "3.8.3"
  }
 },
 "nbformat": 4,
 "nbformat_minor": 4
}
