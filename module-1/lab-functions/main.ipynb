{
 "cells": [
  {
   "cell_type": "markdown",
   "metadata": {},
   "source": [
    "# Functions"
   ]
  },
  {
   "cell_type": "markdown",
   "metadata": {},
   "source": [
    "On this lab we will put to practice some of the concepts we have learned on this past few days.\n",
    "\n",
    "`NOTE: On this lab you should try to write all the functions yourself using only the most basic of python syntax and without functions such as len, count, sum, max, min, in, etc. Give it a try. 🧑🏻‍💻👩🏻‍💻`\n",
    "\n",
    "The cell after each exercise contains a few tests to check if your function works as expected."
   ]
  },
  {
   "cell_type": "code",
   "execution_count": 4,
   "metadata": {},
   "outputs": [],
   "source": [
    "from mod.testing import *\n",
    "import unittest"
   ]
  },
  {
   "cell_type": "markdown",
   "metadata": {},
   "source": [
    "## 1. Write a function that returns the greater of two numbers"
   ]
  },
  {
   "cell_type": "code",
   "execution_count": 2,
   "metadata": {},
   "outputs": [],
   "source": [
    "def greater(a,b):\n",
    "    if a>b:\n",
    "        return a\n",
    "    else:\n",
    "        return b"
   ]
  },
  {
   "cell_type": "code",
   "execution_count": 3,
   "metadata": {},
   "outputs": [
    {
     "name": "stderr",
     "output_type": "stream",
     "text": [
      "....................................................................................................\n",
      "----------------------------------------------------------------------\n",
      "Ran 100 tests in 0.195s\n",
      "\n",
      "OK\n"
     ]
    }
   ],
   "source": [
    "# This will test your function \n",
    "test_greater(greater)"
   ]
  },
  {
   "cell_type": "markdown",
   "metadata": {},
   "source": [
    "## 2. Now write a function that returns the largest element on a list"
   ]
  },
  {
   "cell_type": "code",
   "execution_count": 4,
   "metadata": {},
   "outputs": [],
   "source": [
    "def greatest(arr):\n",
    "    return(max([int(num) for num in arr]))"
   ]
  },
  {
   "cell_type": "code",
   "execution_count": 5,
   "metadata": {},
   "outputs": [
    {
     "name": "stderr",
     "output_type": "stream",
     "text": [
      "....................................................................................................\n",
      "----------------------------------------------------------------------\n",
      "Ran 100 tests in 0.188s\n",
      "\n",
      "OK\n"
     ]
    }
   ],
   "source": [
    "# This will test your function \n",
    "test_greatest(greatest)"
   ]
  },
  {
   "cell_type": "markdown",
   "metadata": {},
   "source": [
    "## 3. Write a function that sums all the elements on a list"
   ]
  },
  {
   "cell_type": "code",
   "execution_count": 6,
   "metadata": {},
   "outputs": [],
   "source": [
    "def sum_all(arr):\n",
    "    return(sum([int(num) for num in arr]))"
   ]
  },
  {
   "cell_type": "code",
   "execution_count": 7,
   "metadata": {},
   "outputs": [
    {
     "name": "stderr",
     "output_type": "stream",
     "text": [
      "....................................................................................................\n",
      "----------------------------------------------------------------------\n",
      "Ran 100 tests in 0.182s\n",
      "\n",
      "OK\n"
     ]
    }
   ],
   "source": [
    "# This will test your function \n",
    "test_sum(sum_all)"
   ]
  },
  {
   "cell_type": "markdown",
   "metadata": {},
   "source": [
    "## 4. Write another function that multiplies all the elements on a list"
   ]
  },
  {
   "cell_type": "code",
   "execution_count": 10,
   "metadata": {},
   "outputs": [],
   "source": [
    "def mult_all(arr):\n",
    "    multi= 1\n",
    "    for i in arr:\n",
    "        multi *= int(i)\n",
    "    return multi"
   ]
  },
  {
   "cell_type": "code",
   "execution_count": 11,
   "metadata": {},
   "outputs": [
    {
     "name": "stderr",
     "output_type": "stream",
     "text": [
      "....................................................................................................\n",
      "----------------------------------------------------------------------\n",
      "Ran 100 tests in 0.238s\n",
      "\n",
      "OK\n"
     ]
    }
   ],
   "source": [
    "# This will test your function \n",
    "test_mult(mult_all)"
   ]
  },
  {
   "cell_type": "markdown",
   "metadata": {},
   "source": [
    "## 5. Now combine those two ideas and write a function that receives a list and either \"+\" or \"*\" and outputs acordingly"
   ]
  },
  {
   "cell_type": "code",
   "execution_count": 16,
   "metadata": {},
   "outputs": [],
   "source": [
    "def oper_all(arr, oper):\n",
    "    if(oper) == '+':\n",
    "        result = 0\n",
    "        result=sum_all(arr)\n",
    "    if oper == '*':\n",
    "        result = 1\n",
    "        result=mult_all(arr)\n",
    "    return result"
   ]
  },
  {
   "cell_type": "code",
   "execution_count": 19,
   "metadata": {},
   "outputs": [
    {
     "data": {
      "text/plain": [
       "9"
      ]
     },
     "execution_count": 19,
     "metadata": {},
     "output_type": "execute_result"
    }
   ],
   "source": [
    "# This will test your function \n",
    "arr= ['1','3','5']\n",
    "oper = '+'\n",
    "oper_all(arr, oper)\n",
    "#test_operations(oper_all)"
   ]
  },
  {
   "cell_type": "markdown",
   "metadata": {},
   "source": [
    "## 6. Write a function that returns the factorial of a number."
   ]
  },
  {
   "cell_type": "code",
   "execution_count": 14,
   "metadata": {},
   "outputs": [],
   "source": [
    "def factorial(num):\n",
    "    fact = 1\n",
    "    for i in range(1,num+1): \n",
    "        fact = fact * i \n",
    "    return fact"
   ]
  },
  {
   "cell_type": "code",
   "execution_count": 15,
   "metadata": {},
   "outputs": [
    {
     "name": "stderr",
     "output_type": "stream",
     "text": [
      "....................................................................................................\n",
      "----------------------------------------------------------------------\n",
      "Ran 100 tests in 0.167s\n",
      "\n",
      "OK\n"
     ]
    }
   ],
   "source": [
    "# This will test your function \n",
    "test_factorial(factorial)"
   ]
  },
  {
   "cell_type": "markdown",
   "metadata": {},
   "source": [
    "## 7. Write a function that takes a list and returns a list of the unique values.\n",
    "\n",
    "`NOTE: You cannot use set. 🤔`"
   ]
  },
  {
   "cell_type": "code",
   "execution_count": 23,
   "metadata": {},
   "outputs": [],
   "source": [
    "def unique(arr):\n",
    "    output = []\n",
    "    for x in arr:\n",
    "        if x not in output:\n",
    "            output.append(x)\n",
    "    return output"
   ]
  },
  {
   "cell_type": "code",
   "execution_count": 24,
   "metadata": {},
   "outputs": [
    {
     "name": "stderr",
     "output_type": "stream",
     "text": [
      "....................................................................................................\n",
      "----------------------------------------------------------------------\n",
      "Ran 100 tests in 0.314s\n",
      "\n",
      "OK\n"
     ]
    }
   ],
   "source": [
    "# This will test your function \n",
    "test_unique(unique)"
   ]
  },
  {
   "cell_type": "markdown",
   "metadata": {},
   "source": [
    "## 8. Write a function that returns the mode of a list, i.e.: the element that appears the most times.\n",
    "`NOTE: You should not use count... 🧐`"
   ]
  },
  {
   "cell_type": "code",
   "execution_count": 5,
   "metadata": {},
   "outputs": [],
   "source": [
    "def mode_counter(arr):\n",
    "    \n",
    "    dict_c = {}\n",
    "    for elem in arr:\n",
    "        counter = 0\n",
    "        for elem2 in arr[elem:]:\n",
    "            if elem2 == elem:\n",
    "                counter += 1\n",
    "                dict_c[elem] = counter\n",
    "\n",
    "\n",
    "    mayor = 0\n",
    "    print(mayor)\n",
    "    for elem in dict_c:\n",
    "        if dict_c[elem]> mayor:\n",
    "            mayor = dict_c[elem]\n",
    "            mode = elem\n",
    "    print(f'mayor {mayor}, mode {elem}')  \n",
    "    return(mode)\n"
   ]
  },
  {
   "cell_type": "code",
   "execution_count": 6,
   "metadata": {},
   "outputs": [
    {
     "name": "stderr",
     "output_type": "stream",
     "text": [
      "......................................................."
     ]
    },
    {
     "name": "stdout",
     "output_type": "stream",
     "text": [
      "0\n",
      "mayor 54, mode 3\n",
      "0\n",
      "mayor 53, mode 8\n",
      "0\n",
      "mayor 55, mode 6\n",
      "0\n",
      "mayor 54, mode 2\n",
      "0\n",
      "mayor 52, mode 25\n",
      "0\n",
      "mayor 53, mode 6\n",
      "0\n",
      "mayor 54, mode 11\n",
      "0\n",
      "mayor 56, mode 20\n",
      "0\n",
      "mayor 54, mode 9\n",
      "0\n",
      "mayor 52, mode 17\n",
      "0\n",
      "mayor 53, mode 20\n",
      "0\n",
      "mayor 55, mode 13\n",
      "0\n",
      "mayor 54, mode 8\n",
      "0\n",
      "mayor 52, mode 18\n",
      "0\n",
      "mayor 53, mode 12\n",
      "0\n",
      "mayor 55, mode 19\n",
      "0\n",
      "mayor 56, mode 2\n",
      "0\n",
      "mayor 53, mode 6\n",
      "0\n",
      "mayor 54, mode 11\n",
      "0\n",
      "mayor 55, mode 14\n",
      "0\n",
      "mayor 54, mode 13\n",
      "0\n",
      "mayor 54, mode 21\n",
      "0\n",
      "mayor 55, mode 20\n",
      "0\n",
      "mayor 51, mode 11\n",
      "0\n",
      "mayor 54, mode 16\n",
      "0\n",
      "mayor 54, mode 1\n",
      "0\n",
      "mayor 55, mode 21\n",
      "0\n",
      "mayor 54, mode 14\n",
      "0\n",
      "mayor 57, mode 11\n",
      "0\n",
      "mayor 55, mode 14\n",
      "0\n",
      "mayor 54, mode 5\n",
      "0\n",
      "mayor 54, mode 18\n",
      "0\n",
      "mayor 52, mode 23\n",
      "0\n",
      "mayor 51, mode 5\n",
      "0\n",
      "mayor 52, mode 11\n",
      "0\n",
      "mayor 53, mode 14\n",
      "0\n",
      "mayor 56, mode 1\n",
      "0\n",
      "mayor 55, mode 14\n",
      "0\n",
      "mayor 56, mode 2\n",
      "0\n",
      "mayor 52, mode 16\n",
      "0\n",
      "mayor 57, mode 7\n",
      "0\n",
      "mayor 55, mode 17\n",
      "0\n",
      "mayor 55, mode 9\n",
      "0\n",
      "mayor 53, mode 3\n",
      "0\n",
      "mayor 55, mode 16\n",
      "0\n",
      "mayor 53, mode 14\n",
      "0\n",
      "mayor 57, mode 16\n",
      "0\n",
      "mayor 53, mode 22\n",
      "0\n",
      "mayor 58, mode 12\n",
      "0\n",
      "mayor 56, mode 14\n",
      "0\n",
      "mayor 50, mode 1\n",
      "0\n",
      "mayor 52, mode 19\n",
      "0\n",
      "mayor 53, mode 17\n",
      "0\n",
      "mayor 55, mode 14\n",
      "0\n",
      "mayor 58, mode 10\n"
     ]
    },
    {
     "name": "stderr",
     "output_type": "stream",
     "text": [
      "............................................."
     ]
    },
    {
     "name": "stdout",
     "output_type": "stream",
     "text": [
      "0\n",
      "mayor 56, mode 3\n",
      "0\n",
      "mayor 53, mode 5\n",
      "0\n",
      "mayor 55, mode 14\n",
      "0\n",
      "mayor 51, mode 17\n",
      "0\n",
      "mayor 54, mode 7\n",
      "0\n",
      "mayor 52, mode 8\n",
      "0\n",
      "mayor 55, mode 8\n",
      "0\n",
      "mayor 54, mode 5\n",
      "0\n",
      "mayor 54, mode 15\n",
      "0\n",
      "mayor 54, mode 14\n",
      "0\n",
      "mayor 54, mode 22\n",
      "0\n",
      "mayor 60, mode 16\n",
      "0\n",
      "mayor 51, mode 5\n",
      "0\n",
      "mayor 52, mode 24\n",
      "0\n",
      "mayor 55, mode 1\n",
      "0\n",
      "mayor 53, mode 1\n",
      "0\n",
      "mayor 55, mode 18\n",
      "0\n",
      "mayor 57, mode 11\n",
      "0\n",
      "mayor 54, mode 25\n",
      "0\n",
      "mayor 59, mode 2\n",
      "0\n",
      "mayor 51, mode 15\n",
      "0\n",
      "mayor 54, mode 21\n",
      "0\n",
      "mayor 52, mode 7\n",
      "0\n",
      "mayor 56, mode 12\n",
      "0\n",
      "mayor 55, mode 12\n",
      "0\n",
      "mayor 53, mode 16\n",
      "0\n",
      "mayor 54, mode 23\n",
      "0\n",
      "mayor 55, mode 22\n",
      "0\n",
      "mayor 54, mode 5\n",
      "0\n",
      "mayor 57, mode 5\n",
      "0\n",
      "mayor 56, mode 10\n",
      "0\n",
      "mayor 51, mode 7\n",
      "0\n",
      "mayor 55, mode 25\n",
      "0\n",
      "mayor 54, mode 10\n",
      "0\n",
      "mayor 54, mode 19\n",
      "0\n",
      "mayor 53, mode 22\n",
      "0\n",
      "mayor 51, mode 7\n",
      "0\n",
      "mayor 53, mode 23\n",
      "0\n",
      "mayor 57, mode 11\n",
      "0\n",
      "mayor 54, mode 9\n",
      "0\n",
      "mayor 57, mode 14\n",
      "0\n",
      "mayor 54, mode 25\n",
      "0\n",
      "mayor 56, mode 17\n",
      "0\n",
      "mayor 57, mode 2\n",
      "0\n",
      "mayor 55, mode 13\n"
     ]
    },
    {
     "name": "stderr",
     "output_type": "stream",
     "text": [
      "\n",
      "----------------------------------------------------------------------\n",
      "Ran 100 tests in 0.354s\n",
      "\n",
      "OK\n"
     ]
    }
   ],
   "source": [
    "# This will test your function \n",
    "test_mode(mode_counter)"
   ]
  },
  {
   "cell_type": "markdown",
   "metadata": {},
   "source": [
    "## 9. Write a function that calculates the standard deviation of a list.\n",
    "`NOTE: Do not use any libraries or already built functions. 😉`"
   ]
  },
  {
   "cell_type": "code",
   "execution_count": 7,
   "metadata": {},
   "outputs": [],
   "source": [
    "import math\n",
    "def st_dev(l):\n",
    "    squares = []\n",
    "    average = sum(l)/len(l)\n",
    "    for i in l:\n",
    "        squares.append((i - average) ** 2)\n",
    "     \n",
    "    return math.sqrt(sum(squares)/ (len(l)-1))"
   ]
  },
  {
   "cell_type": "code",
   "execution_count": 8,
   "metadata": {},
   "outputs": [
    {
     "name": "stderr",
     "output_type": "stream",
     "text": [
      "....................................................................................................\n",
      "----------------------------------------------------------------------\n",
      "Ran 100 tests in 0.202s\n",
      "\n",
      "OK\n"
     ]
    }
   ],
   "source": [
    "# This will test your function \n",
    "test_stdev(st_dev)"
   ]
  },
  {
   "cell_type": "markdown",
   "metadata": {},
   "source": [
    "## 10. Write a function to check if a string is a pangram, i.e.: if it contains all the letters of the alphabet at least once."
   ]
  },
  {
   "cell_type": "code",
   "execution_count": 11,
   "metadata": {},
   "outputs": [],
   "source": [
    "def pangram(string):\n",
    "    alphabet = \"abcdefghijklmnopqrstuvwxyz\"\n",
    "    for char in alphabet: \n",
    "        if char not in string.lower(): \n",
    "            return False\n",
    "  \n",
    "    return True"
   ]
  },
  {
   "cell_type": "code",
   "execution_count": 12,
   "metadata": {},
   "outputs": [
    {
     "name": "stderr",
     "output_type": "stream",
     "text": [
      "..............................\n",
      "----------------------------------------------------------------------\n",
      "Ran 30 tests in 0.052s\n",
      "\n",
      "OK\n"
     ]
    }
   ],
   "source": [
    "# This will test your function \n",
    "test_pangram(pangram)"
   ]
  },
  {
   "cell_type": "markdown",
   "metadata": {},
   "source": [
    "## 11. Write a function that receives a string of comma separated words and returns a string of comma separated words sorted alphabetically.\n",
    "\n",
    "`NOTE: You may use sorted but not split and definitely no join! 🤪`"
   ]
  },
  {
   "cell_type": "code",
   "execution_count": 40,
   "metadata": {},
   "outputs": [],
   "source": [
    "def sort_alpha(string):\n",
    "    new_string=[]\n",
    "    commas_pos = string.find(',')\n",
    "    while commas_pos != -1:\n",
    "        new_string.append(string[:commas_pos])\n",
    "        string = string[commas_pos+1:]\n",
    "        commas_pos = string.find(',')\n",
    "        \n",
    "    new_string.append(string)\n",
    "    output = \"\"\n",
    "    for word in sorted(new_string):\n",
    "        output+=word+','\n",
    "    return output[:-1]\n"
   ]
  },
  {
   "cell_type": "code",
   "execution_count": 41,
   "metadata": {},
   "outputs": [
    {
     "name": "stderr",
     "output_type": "stream",
     "text": [
      "....................................................................................................\n",
      "----------------------------------------------------------------------\n",
      "Ran 100 tests in 0.127s\n",
      "\n",
      "OK\n"
     ]
    }
   ],
   "source": [
    "# This will test your function \n",
    "test_alpha(sort_alpha)"
   ]
  },
  {
   "cell_type": "markdown",
   "metadata": {},
   "source": [
    "## 12. Write a function to check if a given password is strong (at least 8 characters, at least one lower case, at least one upper case, at least one number and at least one special character). It should output True if strong and False if not.\n",
    "`Valid special characters: # @ ! $ % & ( ) ^ * [ ] { }`"
   ]
  },
  {
   "cell_type": "code",
   "execution_count": 37,
   "metadata": {},
   "outputs": [],
   "source": [
    "def check_pass(string):\n",
    "    num_found = False\n",
    "    upper_found = False\n",
    "    lower_found = False\n",
    "    s_char_found = False\n",
    "\n",
    "    if len(string) < 8:\n",
    "        return False\n",
    "    char_s = \"#@!$%&()^*[]{}\"\n",
    "    num = \"0123456789\"\n",
    "    c_upper = \"ABCDEFGHIJKLMNOPQRSTUVWXYZ\"\n",
    "    c_lower = \"abcdefgjijklmnopqrstuvwxyz\"\n",
    "    for char in string:\n",
    "        if (not num_found) and (char in num):\n",
    "            num_found = True\n",
    "        if (not upper_found) and (char in c_upper):\n",
    "            upper_found = True\n",
    "        if (not lower_found) and (char in c_lower):\n",
    "            lower_found = True\n",
    "        if (not s_char_found) and char in char_s:\n",
    "            s_char_found = True\n",
    "    return num_found and upper_found  and lower_found and s_char_found"
   ]
  },
  {
   "cell_type": "code",
   "execution_count": 38,
   "metadata": {},
   "outputs": [
    {
     "name": "stderr",
     "output_type": "stream",
     "text": [
      "....................................................................................................\n",
      "----------------------------------------------------------------------\n",
      "Ran 100 tests in 0.113s\n",
      "\n",
      "OK\n"
     ]
    }
   ],
   "source": [
    "# This will test your function \n",
    "test_pass(check_pass)"
   ]
  }
 ],
 "metadata": {
  "kernelspec": {
   "display_name": "Python 2",
   "language": "python",
   "name": "python2"
  },
  "language_info": {
   "codemirror_mode": {
    "name": "ipython",
    "version": 3
   },
   "file_extension": ".py",
   "mimetype": "text/x-python",
   "name": "python",
   "nbconvert_exporter": "python",
   "pygments_lexer": "ipython3",
   "version": "3.8.5"
  }
 },
 "nbformat": 4,
 "nbformat_minor": 4
}
