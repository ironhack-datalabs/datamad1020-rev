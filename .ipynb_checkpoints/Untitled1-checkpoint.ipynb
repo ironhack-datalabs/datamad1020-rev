{
 "cells": [
  {
   "cell_type": "code",
   "execution_count": null,
   "metadata": {},
   "outputs": [],
   "source": []
  },
  {
   "cell_type": "code",
   "execution_count": null,
   "metadata": {},
   "outputs": [],
   "source": []
  },
  {
   "cell_type": "raw",
   "metadata": {},
   "source": [
    "\"HOLA\""
   ]
  },
  {
   "cell_type": "raw",
   "metadata": {},
   "source": [
    "\"HOLA\""
   ]
  },
  {
   "cell_type": "code",
   "execution_count": 3,
   "metadata": {},
   "outputs": [
    {
     "name": "stdout",
     "output_type": "stream",
     "text": [
      "/Users/jaimevazquez\r\n"
     ]
    }
   ],
   "source": [
    "!pwd"
   ]
  },
  {
   "cell_type": "code",
   "execution_count": 4,
   "metadata": {},
   "outputs": [
    {
     "name": "stdout",
     "output_type": "stream",
     "text": [
      "\u001b[34m3rd-trial\u001b[m\u001b[m       \u001b[34mDocuments\u001b[m\u001b[m       \u001b[34mMovies\u001b[m\u001b[m          \u001b[34mPublic\u001b[m\u001b[m          \u001b[34mdata-prework\u001b[m\u001b[m\r\n",
      "\u001b[34mApplications\u001b[m\u001b[m    \u001b[34mDownloads\u001b[m\u001b[m       \u001b[34mMusic\u001b[m\u001b[m           Untitled.ipynb  exit\r\n",
      "\u001b[34mDesktop\u001b[m\u001b[m         \u001b[34mLibrary\u001b[m\u001b[m         \u001b[34mPictures\u001b[m\u001b[m        Untitled1.ipynb\r\n"
     ]
    }
   ],
   "source": [
    "!ls"
   ]
  },
  {
   "cell_type": "code",
   "execution_count": null,
   "metadata": {},
   "outputs": [],
   "source": []
  }
 ],
 "metadata": {
  "kernelspec": {
   "display_name": "Python 3",
   "language": "python",
   "name": "python3"
  },
  "language_info": {
   "codemirror_mode": {
    "name": "ipython",
    "version": 3
   },
   "file_extension": ".py",
   "mimetype": "text/x-python",
   "name": "python",
   "nbconvert_exporter": "python",
   "pygments_lexer": "ipython3",
   "version": "3.8.5"
  }
 },
 "nbformat": 4,
 "nbformat_minor": 4
}
