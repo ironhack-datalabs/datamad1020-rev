{
 "cells": [
  {
   "cell_type": "markdown",
   "metadata": {},
   "source": [
    "# Before your start:\n",
    "\n",
    "    Read the README.md file\n",
    "    Comment as much as you can and use the resources (README.md file)\n",
    "    Happy learning!\n",
    "\n",
    "*Notes:* \n",
    "\n",
    "- Solve the questions with python.\n",
    "\n",
    "- Round the final answer to three decimal places."
   ]
  },
  {
   "cell_type": "markdown",
   "metadata": {},
   "source": [
    "## Bernoulli's Distribution\n",
    "\n",
    "In a basket containing 100 fruits, there are 60 apples and 40 oranges. \n",
    "\n",
    "A fruit is picked randomly from the basket. \n",
    "\n",
    "1. **What is the probability that the fruit is apple?**\n",
    "1. **What is the probability that it is an orange?**"
   ]
  },
  {
   "cell_type": "code",
   "execution_count": 1,
   "metadata": {},
   "outputs": [],
   "source": [
    "from scipy.stats import bernoulli\n",
    "\"\"\"\n",
    "Calculate:\n",
    "p = probability that the fruit is an apple \n",
    "q = probability that the fruit is an orange\n",
    "\"\"\"\n",
    "# your code here\n",
    "\n",
    "p = 60 / 100\n",
    "q = 40 / 100"
   ]
  },
  {
   "cell_type": "markdown",
   "metadata": {},
   "source": [
    "Now we take a random sample of 20 fruits from the basket. After each fruit is taken, a new fruit of the same type is replaced in the basket. Therefore, every time we are taking 1 fruit from 100 fruits. \n",
    "\n",
    "1. **What is the probability that the first 5 fruits are all apples?**\n",
    "\n",
    "1. **What is the probability that the first 5 fruits are all apples and the next 15 fruits are all oranges?**\n",
    "\n",
    "You can include the `p` and `q` probabilities you previous calculated in your solution."
   ]
  },
  {
   "cell_type": "code",
   "execution_count": 152,
   "metadata": {},
   "outputs": [
    {
     "name": "stdout",
     "output_type": "stream",
     "text": [
      "La Frecuencia es : 0.0704   Esto deberia ser similar a 0.078\n",
      "La Frecuencia es : 0.0    Esto deberia ser similar a 8.349416423424006e-08\n"
     ]
    }
   ],
   "source": [
    "# your code here\n",
    "# Caso 1\n",
    "count=0\n",
    "for i in range (10000):   \n",
    "    sample = bernoulli(p).rvs(size=20)\n",
    "    if list(sample)[0:5].count(1) == 5:\n",
    "        count+=1\n",
    "print(f'La Frecuencia es : {count/10000}   Esto deberia ser similar a {round((p)**5,3)}')\n",
    "\n",
    "#Caso 2\n",
    "\n",
    "count=0\n",
    "for i in range (10000):   \n",
    "    sample = bernoulli(p).rvs(size=20)\n",
    "    if list(sample)[0:5].count(1) == 5 and list(sample)[6:21].count(0) == 15 :\n",
    "        count+=1\n",
    "print(f'La Frecuencia es : {count/10000}    Esto deberia ser similar a {((p)**5 * (q)**15)}')"
   ]
  },
  {
   "cell_type": "markdown",
   "metadata": {},
   "source": [
    "## Binomial Distribution\n",
    "\n",
    "Similar to the above problem, this time again we randomly sample 20 fruits.\n",
    "\n",
    "**What is the probability that this time the sample contains 5 apples and 15 oranges?**\n",
    "\n",
    "Please note that this time the order of the fruits being picked does not matter."
   ]
  },
  {
   "cell_type": "code",
   "execution_count": 151,
   "metadata": {},
   "outputs": [
    {
     "name": "stdout",
     "output_type": "stream",
     "text": [
      "La probabilidad de que salgan 5 manzanas y 15 naranjas seria 1.6757134792446896e-06\n"
     ]
    }
   ],
   "source": [
    "from scipy.stats import binom\n",
    "import numpy as np\n",
    "\n",
    "import matplotlib.pyplot as plt\n",
    "# your code here\n",
    "# 5 manzanas\n",
    "N=20\n",
    "p=0.6\n",
    "my_binomial = binom(N, p)\n",
    "Pa = my_binomial.pmf(5)\n",
    "\n",
    "# 15 naranjas\n",
    "q=0.4\n",
    "my_binomial = binom(N, q)\n",
    "Po = my_binomial.pmf(15)\n",
    "\n",
    "print(f'La probabilidad de que salgan 5 manzanas y 15 naranjas seria {Pa*Po}') #no estoy seguro\n"
   ]
  },
  {
   "cell_type": "markdown",
   "metadata": {},
   "source": [
    "Podemos observar que al no importat el orden la probabilidad aumenta ya que anteriormente obtubimos (bernoulli) 8.349416423424006e-08 y ahora (binomial) 1.6757134792446896e-06. Se valor aumento 2 grados de magnitud\n"
   ]
  },
  {
   "cell_type": "markdown",
   "metadata": {},
   "source": [
    "In the lesson we also discussed CDF (cumulative distribution function). In the context of the above problem, **what is the probability that less than 5 fruits picked are apples?**\n",
    "\n",
    "Write the formula and calculate the probability below."
   ]
  },
  {
   "cell_type": "code",
   "execution_count": 150,
   "metadata": {},
   "outputs": [
    {
     "name": "stdout",
     "output_type": "stream",
     "text": [
      "La CDF es 0.00161, este valor debe ser similar a 0.00161\n"
     ]
    }
   ],
   "source": [
    "# your code here\n",
    "CDF=0\n",
    "N=20\n",
    "p=0.6\n",
    "q=0.4\n",
    "my_binomial = binom(N, p)\n",
    "for i in range(6):\n",
    "    CDF+=((math.factorial(N)/(math.factorial(i) * (math.factorial(N-i)))) * (p**i) * (q**(N-i)))\n",
    "    \n",
    "print(f'La CDF es {round(CDF,5)}, este valor debe ser igual a {round(my_binomial.cdf(5),5)}')\n",
    "\n",
    "\n"
   ]
  },
  {
   "cell_type": "markdown",
   "metadata": {},
   "source": [
    "**Plot the PDF (probability distributiom function) for the above binomial distribution.**\n",
    "\n",
    "*Hint: The range of x in a binomial distribution is from `0` to `n`.*"
   ]
  },
  {
   "cell_type": "code",
   "execution_count": 125,
   "metadata": {},
   "outputs": [
    {
     "data": {
      "text/plain": [
       "Text(0, 0.5, 'Probabilidad')"
      ]
     },
     "execution_count": 125,
     "metadata": {},
     "output_type": "execute_result"
    },
    {
     "data": {
      "image/png": "[encoded data removed]",
      "text/plain": [
       "<Figure size 432x288 with 1 Axes>"
      ]
     },
     "metadata": {
      "needs_background": "light"
     },
     "output_type": "display_data"
    }
   ],
   "source": [
    "# your code here\n",
    "# Please label the axes and give a title to the plot\n",
    "\n",
    "x = np.arange(0,22)\n",
    "fig, ax = plt.subplots(1, 1)\n",
    "ax.plot(x, my_binomial.pmf(x), 'bo')\n",
    "ax.vlines(x, 0, my_binomial.pmf(x), colors='b', lw=5, alpha=0.5)\n",
    "plt.suptitle('Representacion de la probabilidad de sacar entre 0 a 20 Manzanas')\n",
    "plt.xlabel('Numero de Manzanas')\n",
    "plt.ylabel('Probabilidad')"
   ]
  },
  {
   "cell_type": "markdown",
   "metadata": {},
   "source": [
    "## Poisson Distribution\n",
    "\n",
    "In this challenge you are required to use the Math library in python to solve the problems.\n",
    "\n",
    "In the UEFA champions league tournament, the average number of goals scored in a match is 2.3. \n",
    "\n",
    "**What is the probability that the number of goals scored in a match is 5?**\n",
    "\n",
    "*Hint: Use the exp() in the math library*\n",
    "\n",
    "And to calculate the factorial, you can use the following code:\n",
    "\n",
    "```python\n",
    "import math\n",
    "math.factorial(n) # n is the number you want to find the factorial of\n",
    "```"
   ]
  },
  {
   "cell_type": "code",
   "execution_count": 116,
   "metadata": {},
   "outputs": [
    {
     "data": {
      "text/plain": [
       "0.053775025581946814"
      ]
     },
     "execution_count": 116,
     "metadata": {},
     "output_type": "execute_result"
    }
   ],
   "source": [
    "# your code here \n",
    "from scipy.stats import poisson\n",
    "import seaborn as sns\n",
    "import math\n",
    "my_poisson = poisson(mu=2.3)\n",
    "my_poisson.pmf(5)\n"
   ]
  },
  {
   "cell_type": "code",
   "execution_count": 119,
   "metadata": {},
   "outputs": [
    {
     "data": {
      "text/plain": [
       "0.0537750255819468"
      ]
     },
     "execution_count": 119,
     "metadata": {},
     "output_type": "execute_result"
    }
   ],
   "source": [
    "# Desarrollo de la formula para determinar la probabilidad de un evento con Poisson Distribution\n",
    "\n",
    "x=5 #el evento\n",
    "l=2.3 # la media\n",
    "e=math.exp( -l ) \n",
    "f= math.factorial(x)\n",
    "P5 = ((l**x) * e) / f # formula de probabilidad de Poisson Distribution\n",
    "P5"
   ]
  },
  {
   "cell_type": "markdown",
   "metadata": {},
   "source": [
    "**Draw a poisson probability distribution plot for the number of goals to be between 0 to 10.**"
   ]
  },
  {
   "cell_type": "code",
   "execution_count": 127,
   "metadata": {},
   "outputs": [
    {
     "data": {
      "text/plain": [
       "Text(0, 0.5, 'Nº de veces que se repite el evento')"
      ]
     },
     "execution_count": 127,
     "metadata": {},
     "output_type": "execute_result"
    },
    {
     "data": {
      "image/png": "[encoded data removed]",
      "text/plain": [
       "<Figure size 432x288 with 1 Axes>"
      ]
     },
     "metadata": {
      "needs_background": "light"
     },
     "output_type": "display_data"
    }
   ],
   "source": [
    "# your code here\n",
    "# Please label the axes and give a title to the plot \n",
    "sample = my_poisson.rvs(size=380)\n",
    "sns.countplot(x=sample)\n",
    "plt.suptitle('Representacion de la distribucion de los goles aplicando (Poisson Distribution)')\n",
    "plt.xlabel('Numero de Goles')\n",
    "plt.ylabel('Nº de veces que se repite el evento')"
   ]
  }
 ],
 "metadata": {
  "kernelspec": {
   "display_name": "Python 3",
   "language": "python",
   "name": "python3"
  },
  "language_info": {
   "codemirror_mode": {
    "name": "ipython",
    "version": 3
   },
   "file_extension": ".py",
   "mimetype": "text/x-python",
   "name": "python",
   "nbconvert_exporter": "python",
   "pygments_lexer": "ipython3",
   "version": "3.8.3"
  }
 },
 "nbformat": 4,
 "nbformat_minor": 2
}
