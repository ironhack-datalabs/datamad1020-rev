{
 "cells": [
  {
   "cell_type": "code",
   "execution_count": 1,
   "metadata": {},
   "outputs": [],
   "source": [
    "import array\n",
    "def greatest(arr):\n",
    "    largest=0\n",
    "    \n",
    "    for x in range(0, len(array)):\n",
    "        if(array[x] > largest):\n",
    "            largest = array[x]\n",
    "        \n",
    "    return largest\n",
    "\n",
    "array=[1,2,3,44,555,3,45]"
   ]
  },
  {
   "cell_type": "code",
   "execution_count": 4,
   "metadata": {},
   "outputs": [
    {
     "data": {
      "text/plain": [
       "555"
      ]
     },
     "execution_count": 4,
     "metadata": {},
     "output_type": "execute_result"
    }
   ],
   "source": [
    "greatest(array)"
   ]
  },
  {
   "cell_type": "code",
   "execution_count": 8,
   "metadata": {},
   "outputs": [
    {
     "name": "stdout",
     "output_type": "stream",
     "text": [
      "6\n"
     ]
    }
   ],
   "source": [
    "lista=[1,2,3]\n",
    "print(sum(lista))"
   ]
  },
  {
   "cell_type": "code",
   "execution_count": 38,
   "metadata": {},
   "outputs": [
    {
     "name": "stdout",
     "output_type": "stream",
     "text": [
      "3\n"
     ]
    }
   ],
   "source": [
    "lista=[5,4,3]\n",
    "\n",
    "for i in range(len(lista)):\n",
    "    total = 0\n",
    "    total += lista[i]\n",
    "    \n",
    "print(total)"
   ]
  },
  {
   "cell_type": "code",
   "execution_count": 40,
   "metadata": {},
   "outputs": [
    {
     "ename": "IndentationError",
     "evalue": "unexpected indent (<ipython-input-40-96b4d3d50a1c>, line 4)",
     "output_type": "error",
     "traceback": [
      "\u001b[0;36m  File \u001b[0;32m\"<ipython-input-40-96b4d3d50a1c>\"\u001b[0;36m, line \u001b[0;32m4\u001b[0m\n\u001b[0;31m    total = 0\u001b[0m\n\u001b[0m    ^\u001b[0m\n\u001b[0;31mIndentationError\u001b[0m\u001b[0;31m:\u001b[0m unexpected indent\n"
     ]
    }
   ],
   "source": [
    "arr=[1,2,44,5,6,7,8]\n",
    "oper=[111,33,4,555,6,7,8889]\n",
    "\n",
    "    total = 0\n",
    "\n",
    "    for i in range(len(arr)):\n",
    "        total += arr[i]\n",
    "    return total\n",
    "\n",
    "\n",
    "    total = 1\n",
    "    \n",
    "    for i in range(len(arr)):\n",
    "        total *= arr[i]\n",
    "    return total\n",
    "\n"
   ]
  },
  {
   "cell_type": "code",
   "execution_count": null,
   "metadata": {},
   "outputs": [],
   "source": [
    "def longest_word(arr, oper):\n",
    "    if arr > len(word_2):\n",
    "        return word_1\n",
    "    elif len(word_2) > len(word_1):\n",
    "        return word_2\n",
    "    else:\n",
    "        print(\"both are same length\")"
   ]
  },
  {
   "cell_type": "code",
   "execution_count": 41,
   "metadata": {},
   "outputs": [],
   "source": [
    "longest_word=[4, 2]"
   ]
  },
  {
   "cell_type": "code",
   "execution_count": 47,
   "metadata": {},
   "outputs": [
    {
     "name": "stdout",
     "output_type": "stream",
     "text": [
      "['hola', 1, 2, 3]\n"
     ]
    }
   ],
   "source": [
    "trends=[\"hola\",\"hola\",1,2,3,1]\n",
    "output = []\n",
    "for x in trends:\n",
    "       if x not in output:\n",
    "           output.append(x)\n",
    "print (output)\n",
    "\n"
   ]
  },
  {
   "cell_type": "code",
   "execution_count": 54,
   "metadata": {},
   "outputs": [],
   "source": [
    "import statistics\n",
    "arr=[2,34,56,72,333,445,6,99,34,99,111,2234,99,7,6,7,8,99,44]\n"
   ]
  },
  {
   "cell_type": "code",
   "execution_count": 52,
   "metadata": {},
   "outputs": [
    {
     "name": "stdout",
     "output_type": "stream",
     "text": [
      "492.3627077786054\n"
     ]
    }
   ],
   "source": [
    "xlista=statistics.pstdev(arr)\n",
    "print(xlista)"
   ]
  },
  {
   "cell_type": "code",
   "execution_count": 1,
   "metadata": {},
   "outputs": [
    {
     "data": {
      "text/plain": [
       "False"
      ]
     },
     "execution_count": 1,
     "metadata": {},
     "output_type": "execute_result"
    }
   ],
   "source": [
    "import string\n",
    "def is_pangram(gram):\n",
    "    return all(c in gram.lower() for c in string.ascii_lowercase)\n",
    "gram=\"orejero\"\n",
    "is_pangram(gram)"
   ]
  },
  {
   "cell_type": "code",
   "execution_count": 31,
   "metadata": {},
   "outputs": [
    {
     "name": "stdout",
     "output_type": "stream",
     "text": [
      "is a pangram\n",
      "is not a pangram\n",
      "is not a pangram\n",
      "is not a pangram\n",
      "is not a pangram\n",
      "is not a pangram\n",
      "is not a pangram\n",
      "is not a pangram\n"
     ]
    }
   ],
   "source": [
    "gram=\"orejero\"\n",
    "\n",
    "for i in range(len(gram)):\n",
    "    while gram[i]==gram[i-1]:\n",
    "        print(\"is a pangram\")\n",
    "        gram[i]!=gram[i-1]\n",
    "        break\n",
    "        \n",
    "    print(\"is not a pangram\")\n",
    " \n"
   ]
  },
  {
   "cell_type": "code",
   "execution_count": 39,
   "metadata": {},
   "outputs": [
    {
     "name": "stdout",
     "output_type": "stream",
     "text": [
      "('Buenos ', 'dias', ' sonia')\n"
     ]
    }
   ],
   "source": [
    "tupla = \"Buenos dias sonia\".partition(\"dias\")\n",
    "print (tupla) "
   ]
  },
  {
   "cell_type": "code",
   "execution_count": 58,
   "metadata": {},
   "outputs": [
    {
     "ename": "TypeError",
     "evalue": "'end' is an invalid keyword argument for sort()",
     "output_type": "error",
     "traceback": [
      "\u001b[0;31m---------------------------------------------------------------------------\u001b[0m",
      "\u001b[0;31mTypeError\u001b[0m                                 Traceback (most recent call last)",
      "\u001b[0;32m<ipython-input-58-7c4e997870ae>\u001b[0m in \u001b[0;36m<module>\u001b[0;34m\u001b[0m\n\u001b[1;32m      1\u001b[0m \u001b[0ms\u001b[0m \u001b[0;34m=\u001b[0m \u001b[0;34m\"hola mundo me llamo sonia\"\u001b[0m\u001b[0;34m\u001b[0m\u001b[0;34m\u001b[0m\u001b[0m\n\u001b[1;32m      2\u001b[0m \u001b[0;32mfor\u001b[0m \u001b[0mi\u001b[0m \u001b[0;32min\u001b[0m \u001b[0ms\u001b[0m\u001b[0;34m:\u001b[0m\u001b[0;34m\u001b[0m\u001b[0;34m\u001b[0m\u001b[0m\n\u001b[0;32m----> 3\u001b[0;31m     \u001b[0mprint\u001b[0m \u001b[0;34m(\u001b[0m\u001b[0msorted\u001b[0m \u001b[0;34m(\u001b[0m\u001b[0mi\u001b[0m\u001b[0;34m,\u001b[0m \u001b[0mend\u001b[0m\u001b[0;34m=\u001b[0m\u001b[0;34m\"\"\u001b[0m\u001b[0;34m)\u001b[0m\u001b[0;34m)\u001b[0m\u001b[0;34m\u001b[0m\u001b[0;34m\u001b[0m\u001b[0m\n\u001b[0m\u001b[1;32m      4\u001b[0m \u001b[0;34m\u001b[0m\u001b[0m\n",
      "\u001b[0;31mTypeError\u001b[0m: 'end' is an invalid keyword argument for sort()"
     ]
    }
   ],
   "source": [
    "s = \"hola mundo me llamo sonia\"\n",
    "for i in s:\n",
    "    print (sorted (i, end=\"\"))\n",
    "\n"
   ]
  },
  {
   "cell_type": "code",
   "execution_count": 80,
   "metadata": {},
   "outputs": [
    {
     "name": "stdout",
     "output_type": "stream",
     "text": [
      "Incorrecto\n"
     ]
    }
   ],
   "source": [
    "\n",
    "    "
   ]
  },
  {
   "cell_type": "code",
   "execution_count": 81,
   "metadata": {},
   "outputs": [
    {
     "ename": "NameError",
     "evalue": "name 'Sonia' is not defined",
     "output_type": "error",
     "traceback": [
      "\u001b[0;31m---------------------------------------------------------------------------\u001b[0m",
      "\u001b[0;31mNameError\u001b[0m                                 Traceback (most recent call last)",
      "\u001b[0;32m<ipython-input-81-bf7f26998f98>\u001b[0m in \u001b[0;36m<module>\u001b[0;34m\u001b[0m\n\u001b[0;32m----> 1\u001b[0;31m \u001b[0mcontra\u001b[0m\u001b[0;34m=\u001b[0m\u001b[0mSonia\u001b[0m\u001b[0;34m\u001b[0m\u001b[0;34m\u001b[0m\u001b[0m\n\u001b[0m\u001b[1;32m      2\u001b[0m \u001b[0mprint\u001b[0m\u001b[0;34m(\u001b[0m\u001b[0mlower\u001b[0m\u001b[0;34m.\u001b[0m\u001b[0mcontra\u001b[0m\u001b[0;34m)\u001b[0m\u001b[0;34m\u001b[0m\u001b[0;34m\u001b[0m\u001b[0m\n",
      "\u001b[0;31mNameError\u001b[0m: name 'Sonia' is not defined"
     ]
    }
   ],
   "source": []
  },
  {
   "cell_type": "code",
   "execution_count": 102,
   "metadata": {},
   "outputs": [],
   "source": [
    "def verificar_clave(passw):\n",
    "\n",
    "    validar=False\n",
    "    long=len(passw)\n",
    "    espacio=False\n",
    "    mayuscula=False\n",
    "    minuscula=False\n",
    "    numeros=False\n",
    "    y=passw.isalnum()\n",
    "    correcto=True\n",
    "\n",
    "    for carac in passw:\n",
    "        if carac.isupper()== True:\n",
    "            mayuscula=True\n",
    "        if carac.islower()== True:\n",
    "            minuscula=True\n",
    "        if carac.isdigit()== True:\n",
    "            numeros=True\n",
    "\n",
    "    if espacio==True:\n",
    "        validar=False\n",
    "    else:\n",
    "        validar=True\n",
    "\n",
    "    if long >=8 and validar==True:\n",
    "        validar=False\n",
    "\n",
    "    if mayuscula == True and minuscula ==True and numeros == True and y == False and validar ==True:\n",
    "       validar = True\n",
    "    else:\n",
    "       correcto=False\n",
    "\n",
    "    if validar == True and correcto==False:\n",
    "       return False\n",
    "\n",
    "    if validar == True and correcto ==True:\n",
    "       return True\n",
    "\n",
    "passw = \"sOnia2sonia\"\n",
    "verificar_clave(passw)"
   ]
  },
  {
   "cell_type": "code",
   "execution_count": 84,
   "metadata": {
    "scrolled": true
   },
   "outputs": [
    {
     "ename": "NameError",
     "evalue": "name 'sOnia2sonia' is not defined",
     "output_type": "error",
     "traceback": [
      "\u001b[0;31m---------------------------------------------------------------------------\u001b[0m",
      "\u001b[0;31mNameError\u001b[0m                                 Traceback (most recent call last)",
      "\u001b[0;32m<ipython-input-84-f1831005db76>\u001b[0m in \u001b[0;36m<module>\u001b[0;34m\u001b[0m\n\u001b[0;32m----> 1\u001b[0;31m \u001b[0mpassw\u001b[0m\u001b[0;34m=\u001b[0m\u001b[0msOnia2sonia\u001b[0m\u001b[0;34m\u001b[0m\u001b[0;34m\u001b[0m\u001b[0m\n\u001b[0m",
      "\u001b[0;31mNameError\u001b[0m: name 'sOnia2sonia' is not defined"
     ]
    }
   ],
   "source": []
  },
  {
   "cell_type": "code",
   "execution_count": 101,
   "metadata": {},
   "outputs": [
    {
     "ename": "AttributeError",
     "evalue": "'str' object has no attribute 'isnum'",
     "output_type": "error",
     "traceback": [
      "\u001b[0;31m---------------------------------------------------------------------------\u001b[0m",
      "\u001b[0;31mAttributeError\u001b[0m                            Traceback (most recent call last)",
      "\u001b[0;32m<ipython-input-101-176a908a1ee5>\u001b[0m in \u001b[0;36m<module>\u001b[0;34m\u001b[0m\n\u001b[1;32m     18\u001b[0m \u001b[0;34m\u001b[0m\u001b[0m\n\u001b[1;32m     19\u001b[0m \u001b[0mpassw\u001b[0m \u001b[0;34m=\u001b[0m \u001b[0;34m\"sOnia2sonia\"\u001b[0m\u001b[0;34m\u001b[0m\u001b[0;34m\u001b[0m\u001b[0m\n\u001b[0;32m---> 20\u001b[0;31m \u001b[0mverificar_clave\u001b[0m\u001b[0;34m(\u001b[0m\u001b[0mpassw\u001b[0m\u001b[0;34m)\u001b[0m\u001b[0;34m\u001b[0m\u001b[0;34m\u001b[0m\u001b[0m\n\u001b[0m",
      "\u001b[0;32m<ipython-input-101-176a908a1ee5>\u001b[0m in \u001b[0;36mverificar_clave\u001b[0;34m(passw)\u001b[0m\n\u001b[1;32m      8\u001b[0m         \u001b[0;32mif\u001b[0m \u001b[0mcarac\u001b[0m\u001b[0;34m.\u001b[0m\u001b[0mislower\u001b[0m\u001b[0;34m(\u001b[0m\u001b[0;34m)\u001b[0m\u001b[0;34m==\u001b[0m \u001b[0;32mTrue\u001b[0m\u001b[0;34m:\u001b[0m\u001b[0;34m\u001b[0m\u001b[0;34m\u001b[0m\u001b[0m\n\u001b[1;32m      9\u001b[0m             \u001b[0mcontador\u001b[0m\u001b[0;34m+=\u001b[0m\u001b[0;36m1\u001b[0m\u001b[0;34m\u001b[0m\u001b[0;34m\u001b[0m\u001b[0m\n\u001b[0;32m---> 10\u001b[0;31m         \u001b[0;32mif\u001b[0m \u001b[0mcarac\u001b[0m\u001b[0;34m.\u001b[0m\u001b[0misnum\u001b[0m\u001b[0;34m(\u001b[0m\u001b[0;34m)\u001b[0m\u001b[0;34m==\u001b[0m \u001b[0;32mTrue\u001b[0m\u001b[0;34m:\u001b[0m\u001b[0;34m\u001b[0m\u001b[0;34m\u001b[0m\u001b[0m\n\u001b[0m\u001b[1;32m     11\u001b[0m             \u001b[0mcontador\u001b[0m\u001b[0;34m+=\u001b[0m\u001b[0;36m1\u001b[0m\u001b[0;34m\u001b[0m\u001b[0;34m\u001b[0m\u001b[0m\n\u001b[1;32m     12\u001b[0m         \u001b[0;32mif\u001b[0m \u001b[0mlen\u001b[0m\u001b[0;34m(\u001b[0m\u001b[0mpassw\u001b[0m\u001b[0;34m)\u001b[0m \u001b[0;34m>=\u001b[0m\u001b[0;36m8\u001b[0m\u001b[0;34m==\u001b[0m\u001b[0;32mTrue\u001b[0m\u001b[0;34m:\u001b[0m\u001b[0;34m\u001b[0m\u001b[0;34m\u001b[0m\u001b[0m\n",
      "\u001b[0;31mAttributeError\u001b[0m: 'str' object has no attribute 'isnum'"
     ]
    }
   ],
   "source": [
    "def verificar_clave(passw):\n",
    "\n",
    "    contador=0\n",
    "    \n",
    "    for carac in passw:\n",
    "        if carac.isupper()== True:\n",
    "            contador+=1\n",
    "        if carac.islower()== True:\n",
    "            contador+=1\n",
    "        if carac.isnum()== True:\n",
    "            contador+=1\n",
    "        if len(passw) >=8==True:\n",
    "            contador+=1\n",
    "    if contador>=4:\n",
    "        return(\"Correcto\")\n",
    "    else:\n",
    "        return(\"Incorrecto\")\n",
    "\n",
    "passw = \"sOnia2sonia\"\n",
    "verificar_clave(passw)"
   ]
  },
  {
   "cell_type": "code",
   "execution_count": null,
   "metadata": {},
   "outputs": [],
   "source": []
  }
 ],
 "metadata": {
  "kernelspec": {
   "display_name": "Python 3",
   "language": "python",
   "name": "python3"
  },
  "language_info": {
   "codemirror_mode": {
    "name": "ipython",
    "version": 3
   },
   "file_extension": ".py",
   "mimetype": "text/x-python",
   "name": "python",
   "nbconvert_exporter": "python",
   "pygments_lexer": "ipython3",
   "version": "3.8.5"
  }
 },
 "nbformat": 4,
 "nbformat_minor": 4
}
